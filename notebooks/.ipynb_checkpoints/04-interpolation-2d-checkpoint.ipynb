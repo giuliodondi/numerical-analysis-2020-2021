{
 "cells": [
  {
   "cell_type": "markdown",
   "metadata": {
    "colab_type": "text",
    "id": "view-in-github"
   },
   "source": [
    "<a href=\"https://colab.research.google.com/github/luca-heltai/numerical-analysis-2020-2021/blob/master/notebooks/04-interpolation-2d.ipynb\" target=\"_parent\"><img src=\"https://colab.research.google.com/assets/colab-badge.svg\" alt=\"Open In Colab\"/></a>"
   ]
  },
  {
   "cell_type": "code",
   "execution_count": 1,
   "metadata": {
    "id": "4S77ZNnvbtnS"
   },
   "outputs": [],
   "source": [
    "import numpy as np"
   ]
  },
  {
   "cell_type": "code",
   "execution_count": 2,
   "metadata": {
    "id": "5LQAVU_SdeVq"
   },
   "outputs": [],
   "source": [
    "a = np.array([1, 3, 5, 9])"
   ]
  },
  {
   "cell_type": "code",
   "execution_count": 3,
   "metadata": {
    "colab": {
     "base_uri": "https://localhost:8080/"
    },
    "id": "bmek5xvIdj_w",
    "outputId": "3204dd20-da4c-4415-9c8c-b1f7911765bf"
   },
   "outputs": [
    {
     "data": {
      "text/plain": [
       "3"
      ]
     },
     "execution_count": 3,
     "metadata": {},
     "output_type": "execute_result"
    }
   ],
   "source": [
    "a[1]"
   ]
  },
  {
   "cell_type": "code",
   "execution_count": 4,
   "metadata": {
    "colab": {
     "base_uri": "https://localhost:8080/"
    },
    "id": "mFy7fR_sdmg7",
    "outputId": "fa158c29-aaa4-411f-c7a1-fc790662081c"
   },
   "outputs": [
    {
     "data": {
      "text/plain": [
       "1"
      ]
     },
     "execution_count": 4,
     "metadata": {},
     "output_type": "execute_result"
    }
   ],
   "source": [
    "a[0]"
   ]
  },
  {
   "cell_type": "code",
   "execution_count": 5,
   "metadata": {
    "colab": {
     "base_uri": "https://localhost:8080/"
    },
    "id": "nsgu1R0qdnug",
    "outputId": "0732355b-24ec-4505-d673-9bc1053dfabe"
   },
   "outputs": [
    {
     "data": {
      "text/plain": [
       "9"
      ]
     },
     "execution_count": 5,
     "metadata": {},
     "output_type": "execute_result"
    }
   ],
   "source": [
    "a[-1]"
   ]
  },
  {
   "cell_type": "code",
   "execution_count": 6,
   "metadata": {
    "colab": {
     "base_uri": "https://localhost:8080/"
    },
    "id": "HzlVmB0LdpH_",
    "outputId": "24b78a1f-e398-4ae0-fc9c-9430f9570cbd"
   },
   "outputs": [
    {
     "data": {
      "text/plain": [
       "array([3, 5])"
      ]
     },
     "execution_count": 6,
     "metadata": {},
     "output_type": "execute_result"
    }
   ],
   "source": [
    "a[1:3]"
   ]
  },
  {
   "cell_type": "code",
   "execution_count": 7,
   "metadata": {
    "id": "a9owGY77d6Nu"
   },
   "outputs": [],
   "source": [
    "a[1:3] = 0"
   ]
  },
  {
   "cell_type": "code",
   "execution_count": 8,
   "metadata": {
    "colab": {
     "base_uri": "https://localhost:8080/"
    },
    "id": "ygLSpFeXeHM0",
    "outputId": "25cb9f12-a8d8-4c38-c3c2-9d4e7e66c34f"
   },
   "outputs": [
    {
     "data": {
      "text/plain": [
       "array([1, 0, 0, 9])"
      ]
     },
     "execution_count": 8,
     "metadata": {},
     "output_type": "execute_result"
    }
   ],
   "source": [
    "a"
   ]
  },
  {
   "cell_type": "code",
   "execution_count": 9,
   "metadata": {
    "id": "n1zVfDn2eK1C"
   },
   "outputs": [],
   "source": [
    "b = np.random.random((10, 10))"
   ]
  },
  {
   "cell_type": "code",
   "execution_count": 10,
   "metadata": {
    "colab": {
     "base_uri": "https://localhost:8080/"
    },
    "id": "zaALl84QeSe7",
    "outputId": "47588b24-f419-4d31-fca5-450823f5c35e"
   },
   "outputs": [
    {
     "data": {
      "text/plain": [
       "array([[0.43324482, 0.59788589, 0.78559127, 0.07421873, 0.39797557,\n",
       "        0.49615302, 0.01817949, 0.91586239, 0.79435791, 0.3192981 ],\n",
       "       [0.73634972, 0.68275876, 0.03419569, 0.23883252, 0.1509723 ,\n",
       "        0.22432981, 0.15357123, 0.9693635 , 0.06379094, 0.63610249],\n",
       "       [0.50488052, 0.44182456, 0.44435008, 0.26700523, 0.49175062,\n",
       "        0.93353727, 0.79300044, 0.43944171, 0.57187248, 0.65487004],\n",
       "       [0.74546652, 0.6292256 , 0.80095452, 0.34082885, 0.05643097,\n",
       "        0.70331381, 0.37396956, 0.37679133, 0.13460342, 0.43958283],\n",
       "       [0.99320858, 0.7501998 , 0.59047989, 0.3125993 , 0.48652587,\n",
       "        0.63253385, 0.82269277, 0.33101694, 0.49017023, 0.3391471 ],\n",
       "       [0.95794588, 0.40788326, 0.49801973, 0.07499548, 0.86887351,\n",
       "        0.0764098 , 0.94721396, 0.14544599, 0.90118023, 0.06014403],\n",
       "       [0.80912207, 0.81237326, 0.00453665, 0.43229597, 0.75596267,\n",
       "        0.672826  , 0.11406855, 0.984048  , 0.67372788, 0.98792509],\n",
       "       [0.45115601, 0.73470585, 0.01266726, 0.72491337, 0.78645932,\n",
       "        0.43000907, 0.18477283, 0.24230057, 0.96093504, 0.59170337],\n",
       "       [0.00493296, 0.9615815 , 0.45499172, 0.14134204, 0.55734209,\n",
       "        0.38240818, 0.39293059, 0.17365075, 0.82333831, 0.82314551],\n",
       "       [0.62122884, 0.2791467 , 0.60782556, 0.1001615 , 0.00478965,\n",
       "        0.91482834, 0.19737781, 0.01265591, 0.51382856, 0.93653541]])"
      ]
     },
     "execution_count": 10,
     "metadata": {},
     "output_type": "execute_result"
    }
   ],
   "source": [
    "b"
   ]
  },
  {
   "cell_type": "code",
   "execution_count": 11,
   "metadata": {
    "colab": {
     "base_uri": "https://localhost:8080/"
    },
    "id": "guforkAHeTBR",
    "outputId": "bf99ea6c-53eb-4b53-a103-96c8aa08d37f"
   },
   "outputs": [
    {
     "data": {
      "text/plain": [
       "0.26700523383651553"
      ]
     },
     "execution_count": 11,
     "metadata": {},
     "output_type": "execute_result"
    }
   ],
   "source": [
    "b[2, 3]"
   ]
  },
  {
   "cell_type": "code",
   "execution_count": 12,
   "metadata": {
    "colab": {
     "base_uri": "https://localhost:8080/"
    },
    "id": "ehVgu0kBeYN8",
    "outputId": "ba73dfcc-bcf2-4ac4-e08d-089a2bbc9a2a"
   },
   "outputs": [
    {
     "data": {
      "text/plain": [
       "array([0.03419569, 0.23883252, 0.1509723 ])"
      ]
     },
     "execution_count": 12,
     "metadata": {},
     "output_type": "execute_result"
    }
   ],
   "source": [
    "b[1, 2:5]"
   ]
  },
  {
   "cell_type": "code",
   "execution_count": 13,
   "metadata": {
    "colab": {
     "base_uri": "https://localhost:8080/"
    },
    "id": "IW1MPEoHebVn",
    "outputId": "61592875-aeec-4a1b-b59a-23212a812e66"
   },
   "outputs": [
    {
     "data": {
      "text/plain": [
       "array([[0.26700523, 0.49175062, 0.93353727],\n",
       "       [0.34082885, 0.05643097, 0.70331381],\n",
       "       [0.3125993 , 0.48652587, 0.63253385]])"
      ]
     },
     "execution_count": 13,
     "metadata": {},
     "output_type": "execute_result"
    }
   ],
   "source": [
    "b[2:5, 3:6]"
   ]
  },
  {
   "cell_type": "code",
   "execution_count": 14,
   "metadata": {
    "colab": {
     "base_uri": "https://localhost:8080/"
    },
    "id": "uSXc9h0BejU3",
    "outputId": "11e071b3-7bc6-42d9-c4ba-de45c919f1e7"
   },
   "outputs": [
    {
     "data": {
      "text/plain": [
       "array([[0.07421873, 0.39797557, 0.49615302],\n",
       "       [0.23883252, 0.1509723 , 0.22432981],\n",
       "       [0.26700523, 0.49175062, 0.93353727],\n",
       "       [0.34082885, 0.05643097, 0.70331381],\n",
       "       [0.3125993 , 0.48652587, 0.63253385],\n",
       "       [0.07499548, 0.86887351, 0.0764098 ],\n",
       "       [0.43229597, 0.75596267, 0.672826  ],\n",
       "       [0.72491337, 0.78645932, 0.43000907],\n",
       "       [0.14134204, 0.55734209, 0.38240818],\n",
       "       [0.1001615 , 0.00478965, 0.91482834]])"
      ]
     },
     "execution_count": 14,
     "metadata": {},
     "output_type": "execute_result"
    }
   ],
   "source": [
    "b[0:10, 3:6]"
   ]
  },
  {
   "cell_type": "code",
   "execution_count": 15,
   "metadata": {
    "colab": {
     "base_uri": "https://localhost:8080/"
    },
    "id": "Qatc-yY7es-q",
    "outputId": "40e72a99-3b30-4c68-ba92-07d5c1bb6acd"
   },
   "outputs": [
    {
     "data": {
      "text/plain": [
       "array([[0.07421873, 0.39797557, 0.49615302],\n",
       "       [0.23883252, 0.1509723 , 0.22432981],\n",
       "       [0.26700523, 0.49175062, 0.93353727],\n",
       "       [0.34082885, 0.05643097, 0.70331381],\n",
       "       [0.3125993 , 0.48652587, 0.63253385],\n",
       "       [0.07499548, 0.86887351, 0.0764098 ],\n",
       "       [0.43229597, 0.75596267, 0.672826  ],\n",
       "       [0.72491337, 0.78645932, 0.43000907],\n",
       "       [0.14134204, 0.55734209, 0.38240818],\n",
       "       [0.1001615 , 0.00478965, 0.91482834]])"
      ]
     },
     "execution_count": 15,
     "metadata": {},
     "output_type": "execute_result"
    }
   ],
   "source": [
    "b[:, 3:6]"
   ]
  },
  {
   "cell_type": "code",
   "execution_count": 16,
   "metadata": {
    "colab": {
     "base_uri": "https://localhost:8080/"
    },
    "id": "5aEx05_xey7A",
    "outputId": "c999ae35-6136-482e-9b05-97358cb532f0"
   },
   "outputs": [
    {
     "data": {
      "text/plain": [
       "array([[0.07421873, 0.39797557, 0.49615302],\n",
       "       [0.23883252, 0.1509723 , 0.22432981],\n",
       "       [0.26700523, 0.49175062, 0.93353727],\n",
       "       [0.34082885, 0.05643097, 0.70331381],\n",
       "       [0.3125993 , 0.48652587, 0.63253385],\n",
       "       [0.07499548, 0.86887351, 0.0764098 ],\n",
       "       [0.43229597, 0.75596267, 0.672826  ],\n",
       "       [0.72491337, 0.78645932, 0.43000907],\n",
       "       [0.14134204, 0.55734209, 0.38240818],\n",
       "       [0.1001615 , 0.00478965, 0.91482834]])"
      ]
     },
     "execution_count": 16,
     "metadata": {},
     "output_type": "execute_result"
    }
   ],
   "source": [
    "b[0:10, 3:6]\n",
    "# b[0:, 3:6]\n",
    "# b[:10, 3:6]\n",
    "# b[:, 3:6]"
   ]
  },
  {
   "cell_type": "code",
   "execution_count": 17,
   "metadata": {
    "colab": {
     "base_uri": "https://localhost:8080/"
    },
    "id": "k8Lhmbl9fEVQ",
    "outputId": "db8457fd-dd7b-4d26-983f-de6ab436a93c"
   },
   "outputs": [
    {
     "data": {
      "text/plain": [
       "array([[0.43324482, 0.59788589, 0.78559127, 0.07421873, 0.39797557,\n",
       "        0.49615302, 0.01817949, 0.91586239, 0.79435791, 0.3192981 ],\n",
       "       [0.73634972, 0.68275876, 0.03419569, 0.23883252, 0.1509723 ,\n",
       "        0.22432981, 0.15357123, 0.9693635 , 0.06379094, 0.63610249],\n",
       "       [0.50488052, 0.44182456, 0.44435008, 0.26700523, 0.49175062,\n",
       "        0.93353727, 0.79300044, 0.43944171, 0.57187248, 0.65487004],\n",
       "       [0.74546652, 0.6292256 , 0.80095452, 0.34082885, 0.05643097,\n",
       "        0.70331381, 0.37396956, 0.37679133, 0.13460342, 0.43958283],\n",
       "       [0.99320858, 0.7501998 , 0.59047989, 0.3125993 , 0.48652587,\n",
       "        0.63253385, 0.82269277, 0.33101694, 0.49017023, 0.3391471 ],\n",
       "       [0.95794588, 0.40788326, 0.49801973, 0.07499548, 0.86887351,\n",
       "        0.0764098 , 0.94721396, 0.14544599, 0.90118023, 0.06014403],\n",
       "       [0.80912207, 0.81237326, 0.00453665, 0.43229597, 0.75596267,\n",
       "        0.672826  , 0.11406855, 0.984048  , 0.67372788, 0.98792509],\n",
       "       [0.45115601, 0.73470585, 0.01266726, 0.72491337, 0.78645932,\n",
       "        0.43000907, 0.18477283, 0.24230057, 0.96093504, 0.59170337],\n",
       "       [0.00493296, 0.9615815 , 0.45499172, 0.14134204, 0.55734209,\n",
       "        0.38240818, 0.39293059, 0.17365075, 0.82333831, 0.82314551],\n",
       "       [0.62122884, 0.2791467 , 0.60782556, 0.1001615 , 0.00478965,\n",
       "        0.91482834, 0.19737781, 0.01265591, 0.51382856, 0.93653541]])"
      ]
     },
     "execution_count": 17,
     "metadata": {},
     "output_type": "execute_result"
    }
   ],
   "source": [
    "b[:, :]"
   ]
  },
  {
   "cell_type": "code",
   "execution_count": 18,
   "metadata": {
    "colab": {
     "base_uri": "https://localhost:8080/"
    },
    "id": "NmY7IsPGfNhN",
    "outputId": "69fafa1f-ce55-435b-9838-43f0821dd74e"
   },
   "outputs": [
    {
     "data": {
      "text/plain": [
       "array([[0.07421873, 0.39797557, 0.49615302],\n",
       "       [0.26700523, 0.49175062, 0.93353727],\n",
       "       [0.3125993 , 0.48652587, 0.63253385],\n",
       "       [0.43229597, 0.75596267, 0.672826  ],\n",
       "       [0.14134204, 0.55734209, 0.38240818]])"
      ]
     },
     "execution_count": 18,
     "metadata": {},
     "output_type": "execute_result"
    }
   ],
   "source": [
    "b[0:10:2, 3:6]"
   ]
  },
  {
   "cell_type": "code",
   "execution_count": 19,
   "metadata": {
    "colab": {
     "base_uri": "https://localhost:8080/"
    },
    "id": "DyDhBnzmfR4u",
    "outputId": "94798380-87ca-4e8c-aa62-e29f8e41b380"
   },
   "outputs": [
    {
     "data": {
      "text/plain": [
       "array([[0.07421873, 0.39797557, 0.49615302],\n",
       "       [0.26700523, 0.49175062, 0.93353727],\n",
       "       [0.3125993 , 0.48652587, 0.63253385],\n",
       "       [0.43229597, 0.75596267, 0.672826  ],\n",
       "       [0.14134204, 0.55734209, 0.38240818]])"
      ]
     },
     "execution_count": 19,
     "metadata": {},
     "output_type": "execute_result"
    }
   ],
   "source": [
    "b[::2, 3:6]"
   ]
  },
  {
   "cell_type": "code",
   "execution_count": 20,
   "metadata": {
    "id": "qYaFl5m7fW8q"
   },
   "outputs": [],
   "source": [
    "b[::2, 3:6] = 0"
   ]
  },
  {
   "cell_type": "code",
   "execution_count": 21,
   "metadata": {
    "id": "mvSGKcAGfZao"
   },
   "outputs": [],
   "source": [
    "c = np.random.random((5, 5))"
   ]
  },
  {
   "cell_type": "code",
   "execution_count": 22,
   "metadata": {
    "colab": {
     "base_uri": "https://localhost:8080/"
    },
    "id": "3PvChlFxfbLV",
    "outputId": "d900c904-8377-400c-d3db-a1907a974ebe"
   },
   "outputs": [
    {
     "data": {
      "text/plain": [
       "array([[0.33047244, 0.79744939, 0.77890829, 0.71313064, 0.58721699],\n",
       "       [0.96852147, 0.39299891, 0.03340532, 0.55452444, 0.4991373 ],\n",
       "       [0.88516804, 0.11079301, 0.73153803, 0.95272443, 0.04589827],\n",
       "       [0.08600605, 0.55319742, 0.36178989, 0.58495993, 0.78127976],\n",
       "       [0.14165415, 0.58767679, 0.67753121, 0.67689116, 0.1216145 ]])"
      ]
     },
     "execution_count": 22,
     "metadata": {},
     "output_type": "execute_result"
    }
   ],
   "source": [
    "c"
   ]
  },
  {
   "cell_type": "code",
   "execution_count": 23,
   "metadata": {
    "id": "_PyCjMvVfhBD"
   },
   "outputs": [],
   "source": [
    "c[::2, 1:3] = 0"
   ]
  },
  {
   "cell_type": "code",
   "execution_count": 24,
   "metadata": {
    "colab": {
     "base_uri": "https://localhost:8080/"
    },
    "id": "8TYZyrWmfkRk",
    "outputId": "25f9ab91-6104-4a78-a5ca-5e55fd00f1c5"
   },
   "outputs": [
    {
     "data": {
      "text/plain": [
       "array([[0.33047244, 0.        , 0.        , 0.71313064, 0.58721699],\n",
       "       [0.96852147, 0.39299891, 0.03340532, 0.55452444, 0.4991373 ],\n",
       "       [0.88516804, 0.        , 0.        , 0.95272443, 0.04589827],\n",
       "       [0.08600605, 0.55319742, 0.36178989, 0.58495993, 0.78127976],\n",
       "       [0.14165415, 0.        , 0.        , 0.67689116, 0.1216145 ]])"
      ]
     },
     "execution_count": 24,
     "metadata": {},
     "output_type": "execute_result"
    }
   ],
   "source": [
    "c"
   ]
  },
  {
   "cell_type": "code",
   "execution_count": 25,
   "metadata": {
    "colab": {
     "base_uri": "https://localhost:8080/"
    },
    "id": "nxDRJl_lfkuJ",
    "outputId": "25db688e-65cf-4fd2-d3ed-d63f4df9d85e"
   },
   "outputs": [
    {
     "data": {
      "text/plain": [
       "array([[-1., -1., -1., -1., -1.],\n",
       "       [-1., -1., -1., -1., -1.],\n",
       "       [-1., -1., -1., -1., -1.],\n",
       "       [-1., -1., -1., -1., -1.],\n",
       "       [-1., -1., -1., -1., -1.]])"
      ]
     },
     "execution_count": 25,
     "metadata": {},
     "output_type": "execute_result"
    }
   ],
   "source": [
    "c[:, :] = -1\n",
    "c"
   ]
  },
  {
   "cell_type": "code",
   "execution_count": 26,
   "metadata": {
    "id": "_6mchaTXfwOc"
   },
   "outputs": [],
   "source": [
    "c = -1"
   ]
  },
  {
   "cell_type": "code",
   "execution_count": 27,
   "metadata": {
    "colab": {
     "base_uri": "https://localhost:8080/"
    },
    "id": "mJHx8XvgfzFx",
    "outputId": "3a9a8ddd-83c0-4598-9f65-ea67529154f9"
   },
   "outputs": [
    {
     "data": {
      "text/plain": [
       "-1"
      ]
     },
     "execution_count": 27,
     "metadata": {},
     "output_type": "execute_result"
    }
   ],
   "source": [
    "c"
   ]
  },
  {
   "cell_type": "code",
   "execution_count": 28,
   "metadata": {
    "colab": {
     "base_uri": "https://localhost:8080/"
    },
    "id": "povJBF6Ofzfy",
    "outputId": "bdd0aa10-32d8-441a-a76a-5149cffc4af8"
   },
   "outputs": [
    {
     "data": {
      "text/plain": [
       "array([0, 1, 2, 3, 4, 5, 6, 7, 8, 9])"
      ]
     },
     "execution_count": 28,
     "metadata": {},
     "output_type": "execute_result"
    }
   ],
   "source": [
    "v1 = np.arange(10)\n",
    "v1"
   ]
  },
  {
   "cell_type": "code",
   "execution_count": 29,
   "metadata": {
    "colab": {
     "base_uri": "https://localhost:8080/"
    },
    "id": "R6fcB7NngHG0",
    "outputId": "707fbf6b-032e-45f1-cabe-e037259489e4"
   },
   "outputs": [
    {
     "data": {
      "text/plain": [
       "array([1, 4, 5, 2, 5, 9, 9, 3, 2, 1])"
      ]
     },
     "execution_count": 29,
     "metadata": {},
     "output_type": "execute_result"
    }
   ],
   "source": [
    "v2 = np.array([1, 4, 5, 2, 5, 9, 9, 3, 2, 1])\n",
    "v2"
   ]
  },
  {
   "cell_type": "code",
   "execution_count": 30,
   "metadata": {
    "id": "7p-e3rINgN0L"
   },
   "outputs": [],
   "source": [
    "v3 = np.empty((10,), dtype=np.int32)\n",
    "for i in range(10):\n",
    "  v3[i] = v1[i] + v2[i]"
   ]
  },
  {
   "cell_type": "code",
   "execution_count": 31,
   "metadata": {
    "colab": {
     "base_uri": "https://localhost:8080/"
    },
    "id": "duiDjuMSgard",
    "outputId": "0e0c636e-62cd-43cf-9ec2-d7f4a4b70596"
   },
   "outputs": [
    {
     "data": {
      "text/plain": [
       "array([ 1,  5,  7,  5,  9, 14, 15, 10, 10, 10], dtype=int32)"
      ]
     },
     "execution_count": 31,
     "metadata": {},
     "output_type": "execute_result"
    }
   ],
   "source": [
    "v3"
   ]
  },
  {
   "cell_type": "code",
   "execution_count": 32,
   "metadata": {
    "id": "izbUFcxTgbeU"
   },
   "outputs": [],
   "source": [
    "v4 = v1 + v2"
   ]
  },
  {
   "cell_type": "code",
   "execution_count": 33,
   "metadata": {
    "colab": {
     "base_uri": "https://localhost:8080/"
    },
    "id": "RrVl3W_sghwv",
    "outputId": "66492267-476e-4173-c128-648ef574f026"
   },
   "outputs": [
    {
     "data": {
      "text/plain": [
       "array([ 1,  5,  7,  5,  9, 14, 15, 10, 10, 10])"
      ]
     },
     "execution_count": 33,
     "metadata": {},
     "output_type": "execute_result"
    }
   ],
   "source": [
    "v4"
   ]
  },
  {
   "cell_type": "code",
   "execution_count": 34,
   "metadata": {
    "colab": {
     "base_uri": "https://localhost:8080/"
    },
    "id": "wO_39pxDgicN",
    "outputId": "319f0c73-29a5-4218-b8cc-6fdfd5418fc9"
   },
   "outputs": [
    {
     "data": {
      "text/plain": [
       "array([ 0.54030231,  0.28366219,  0.75390225,  0.28366219, -0.91113026,\n",
       "        0.13673722, -0.75968791, -0.83907153, -0.83907153, -0.83907153])"
      ]
     },
     "execution_count": 34,
     "metadata": {},
     "output_type": "execute_result"
    }
   ],
   "source": [
    "np.cos(v4)"
   ]
  },
  {
   "cell_type": "code",
   "execution_count": 35,
   "metadata": {
    "colab": {
     "base_uri": "https://localhost:8080/"
    },
    "id": "1aDDupQPg-c2",
    "outputId": "a8a0161f-f4a7-4a1d-f511-95029b8fdda4"
   },
   "outputs": [
    {
     "data": {
      "text/plain": [
       "array([ 0,  5, 14, 15, 36, 70, 90, 70, 80, 90])"
      ]
     },
     "execution_count": 35,
     "metadata": {},
     "output_type": "execute_result"
    }
   ],
   "source": [
    "v4 * v1"
   ]
  },
  {
   "cell_type": "code",
   "execution_count": 36,
   "metadata": {
    "id": "mwcS9mFqhCio"
   },
   "outputs": [],
   "source": [
    "import math"
   ]
  },
  {
   "cell_type": "code",
   "execution_count": 37,
   "metadata": {
    "colab": {
     "base_uri": "https://localhost:8080/"
    },
    "id": "odgADxH3hHHZ",
    "outputId": "6ba66e0c-4032-4ffd-a3f9-7b4a94ffb976"
   },
   "outputs": [
    {
     "data": {
      "text/plain": [
       "-1.0"
      ]
     },
     "execution_count": 37,
     "metadata": {},
     "output_type": "execute_result"
    }
   ],
   "source": [
    "math.cos(math.pi)"
   ]
  },
  {
   "cell_type": "code",
   "execution_count": 38,
   "metadata": {
    "colab": {
     "base_uri": "https://localhost:8080/"
    },
    "id": "xPcieG1rhJg_",
    "outputId": "861147ff-7984-4673-b314-9a321840cd73"
   },
   "outputs": [
    {
     "data": {
      "text/plain": [
       "-1.0"
      ]
     },
     "execution_count": 38,
     "metadata": {},
     "output_type": "execute_result"
    }
   ],
   "source": [
    "np.cos(math.pi)"
   ]
  },
  {
   "cell_type": "code",
   "execution_count": 39,
   "metadata": {
    "colab": {
     "base_uri": "https://localhost:8080/",
     "height": 173
    },
    "id": "Oj-I2pzVhL4M",
    "outputId": "06b568ee-f45e-4011-a730-abfc6e439919"
   },
   "outputs": [
    {
     "ename": "TypeError",
     "evalue": "only size-1 arrays can be converted to Python scalars",
     "output_type": "error",
     "traceback": [
      "\u001b[0;31m---------------------------------------------------------------------------\u001b[0m",
      "\u001b[0;31mTypeError\u001b[0m                                 Traceback (most recent call last)",
      "\u001b[0;32m<ipython-input-39-a0fe9e70914e>\u001b[0m in \u001b[0;36m<module>\u001b[0;34m\u001b[0m\n\u001b[0;32m----> 1\u001b[0;31m \u001b[0mmath\u001b[0m\u001b[0;34m.\u001b[0m\u001b[0mcos\u001b[0m\u001b[0;34m(\u001b[0m\u001b[0mv4\u001b[0m\u001b[0;34m)\u001b[0m\u001b[0;34m\u001b[0m\u001b[0;34m\u001b[0m\u001b[0m\n\u001b[0m",
      "\u001b[0;31mTypeError\u001b[0m: only size-1 arrays can be converted to Python scalars"
     ]
    }
   ],
   "source": [
    "math.cos(v4)"
   ]
  },
  {
   "cell_type": "code",
   "execution_count": 40,
   "metadata": {
    "id": "xSM806_IhVJo"
   },
   "outputs": [],
   "source": [
    "def f(x, y):\n",
    "  return np.sin(x) * np.cos(y)"
   ]
  },
  {
   "cell_type": "code",
   "execution_count": 41,
   "metadata": {
    "colab": {
     "base_uri": "https://localhost:8080/"
    },
    "id": "PVBypGflhhfp",
    "outputId": "d477f3c2-b3ce-4204-df6a-297a69af4e80"
   },
   "outputs": [
    {
     "data": {
      "text/plain": [
       "0.04003040989885004"
      ]
     },
     "execution_count": 41,
     "metadata": {},
     "output_type": "execute_result"
    }
   ],
   "source": [
    "f(3, 5)"
   ]
  },
  {
   "cell_type": "code",
   "execution_count": 42,
   "metadata": {
    "colab": {
     "base_uri": "https://localhost:8080/"
    },
    "id": "eVidbMGship3",
    "outputId": "61399fe8-87cd-4f60-9746-f8fb0c10a145"
   },
   "outputs": [
    {
     "data": {
      "text/plain": [
       "array([ 0.        , -0.55002214,  0.2579333 , -0.05872664, -0.21467625,\n",
       "        0.87370493,  0.25458392, -0.6504118 , -0.4117183 ,  0.22266857])"
      ]
     },
     "execution_count": 42,
     "metadata": {},
     "output_type": "execute_result"
    }
   ],
   "source": [
    "f(v1, v2)"
   ]
  },
  {
   "cell_type": "code",
   "execution_count": 43,
   "metadata": {
    "id": "8qZg-0NGhk7e"
   },
   "outputs": [],
   "source": [
    "def f(x, y):\n",
    "  return np.meshgrid(x, y)"
   ]
  },
  {
   "cell_type": "code",
   "execution_count": 44,
   "metadata": {
    "colab": {
     "base_uri": "https://localhost:8080/"
    },
    "id": "Lfd-WDM-iAMQ",
    "outputId": "61be7b75-01b8-4544-bf4e-97d1c35f5344"
   },
   "outputs": [
    {
     "data": {
      "text/plain": [
       "[array([[0, 1, 2, 3, 4, 5, 6, 7, 8, 9],\n",
       "        [0, 1, 2, 3, 4, 5, 6, 7, 8, 9],\n",
       "        [0, 1, 2, 3, 4, 5, 6, 7, 8, 9],\n",
       "        [0, 1, 2, 3, 4, 5, 6, 7, 8, 9],\n",
       "        [0, 1, 2, 3, 4, 5, 6, 7, 8, 9],\n",
       "        [0, 1, 2, 3, 4, 5, 6, 7, 8, 9],\n",
       "        [0, 1, 2, 3, 4, 5, 6, 7, 8, 9],\n",
       "        [0, 1, 2, 3, 4, 5, 6, 7, 8, 9],\n",
       "        [0, 1, 2, 3, 4, 5, 6, 7, 8, 9],\n",
       "        [0, 1, 2, 3, 4, 5, 6, 7, 8, 9]]),\n",
       " array([[1, 1, 1, 1, 1, 1, 1, 1, 1, 1],\n",
       "        [4, 4, 4, 4, 4, 4, 4, 4, 4, 4],\n",
       "        [5, 5, 5, 5, 5, 5, 5, 5, 5, 5],\n",
       "        [2, 2, 2, 2, 2, 2, 2, 2, 2, 2],\n",
       "        [5, 5, 5, 5, 5, 5, 5, 5, 5, 5],\n",
       "        [9, 9, 9, 9, 9, 9, 9, 9, 9, 9],\n",
       "        [9, 9, 9, 9, 9, 9, 9, 9, 9, 9],\n",
       "        [3, 3, 3, 3, 3, 3, 3, 3, 3, 3],\n",
       "        [2, 2, 2, 2, 2, 2, 2, 2, 2, 2],\n",
       "        [1, 1, 1, 1, 1, 1, 1, 1, 1, 1]])]"
      ]
     },
     "execution_count": 44,
     "metadata": {},
     "output_type": "execute_result"
    }
   ],
   "source": [
    "f(v1, v2)"
   ]
  },
  {
   "cell_type": "code",
   "execution_count": 45,
   "metadata": {
    "colab": {
     "base_uri": "https://localhost:8080/"
    },
    "id": "zf-bPEMeiCKh",
    "outputId": "31b5a0a0-e936-40b3-869e-5eb369be0f28"
   },
   "outputs": [
    {
     "data": {
      "text/plain": [
       "[array([[1, 2, 3],\n",
       "        [1, 2, 3],\n",
       "        [1, 2, 3]]),\n",
       " array([[10, 10, 10],\n",
       "        [20, 20, 20],\n",
       "        [30, 30, 30]])]"
      ]
     },
     "execution_count": 45,
     "metadata": {},
     "output_type": "execute_result"
    }
   ],
   "source": [
    "a = np.array([1, 2, 3])\n",
    "b = np.array([10, 20, 30])\n",
    "\n",
    "f(a, b)"
   ]
  },
  {
   "cell_type": "code",
   "execution_count": 46,
   "metadata": {
    "id": "K1LJ-a_oiLHg"
   },
   "outputs": [],
   "source": [
    "def f(a, b):\n",
    "  output = np.empty((a.shape[0], 2), dtype=a.dtype)\n",
    "  output[:, 0] = a\n",
    "  output[:, 1] = b\n",
    "  return output"
   ]
  },
  {
   "cell_type": "code",
   "execution_count": 47,
   "metadata": {
    "colab": {
     "base_uri": "https://localhost:8080/"
    },
    "id": "AtC3kqR0isAQ",
    "outputId": "ee1f14e4-50d7-4009-d7e0-410e7dccf301"
   },
   "outputs": [
    {
     "data": {
      "text/plain": [
       "array([[ 1,  2,  3],\n",
       "       [10, 20, 30]])"
      ]
     },
     "execution_count": 47,
     "metadata": {},
     "output_type": "execute_result"
    }
   ],
   "source": [
    "f(a, b).T"
   ]
  },
  {
   "cell_type": "code",
   "execution_count": 48,
   "metadata": {
    "colab": {
     "base_uri": "https://localhost:8080/"
    },
    "id": "im06Xy8fite0",
    "outputId": "5c8c7535-b8e1-4dbe-e5ff-b293a9e00a67"
   },
   "outputs": [
    {
     "data": {
      "text/plain": [
       "array([[ 1,  2,  3],\n",
       "       [10, 20, 30]])"
      ]
     },
     "execution_count": 48,
     "metadata": {},
     "output_type": "execute_result"
    }
   ],
   "source": [
    "np.array([a, b])"
   ]
  },
  {
   "cell_type": "code",
   "execution_count": 49,
   "metadata": {
    "colab": {
     "base_uri": "https://localhost:8080/"
    },
    "id": "-YlTdy5Oi37C",
    "outputId": "6ca4ec37-fbf2-4554-9dfd-4e6c1ba9d6f0"
   },
   "outputs": [
    {
     "data": {
      "text/plain": [
       "array([[ 1, 10],\n",
       "       [ 2, 20],\n",
       "       [ 3, 30]])"
      ]
     },
     "execution_count": 49,
     "metadata": {},
     "output_type": "execute_result"
    }
   ],
   "source": [
    "f(a,b)"
   ]
  },
  {
   "cell_type": "code",
   "execution_count": 50,
   "metadata": {
    "colab": {
     "base_uri": "https://localhost:8080/"
    },
    "id": "h5xaThEHjDT1",
    "outputId": "315183cd-1f59-43c4-c925-fd8ac33d9c47"
   },
   "outputs": [
    {
     "data": {
      "text/plain": [
       "array([[0.57231984, 0.86669199, 0.14968317, 0.27821781, 0.91720085,\n",
       "        0.34630395, 0.25903201, 0.31839874, 0.42815759, 0.74709393],\n",
       "       [0.73492147, 0.53067941, 0.78839866, 0.80467224, 0.4891628 ,\n",
       "        0.50048559, 0.25737853, 0.28774169, 0.74402606, 0.30680054]])"
      ]
     },
     "execution_count": 50,
     "metadata": {},
     "output_type": "execute_result"
    }
   ],
   "source": [
    "v = np.random.random((2, 10))\n",
    "v"
   ]
  },
  {
   "cell_type": "code",
   "execution_count": 51,
   "metadata": {
    "colab": {
     "base_uri": "https://localhost:8080/"
    },
    "id": "glhs0LsKjU_U",
    "outputId": "bfaf69c0-56c4-4b29-adcd-1bd3f70da212"
   },
   "outputs": [
    {
     "data": {
      "text/plain": [
       "array([0.27821781, 0.80467224])"
      ]
     },
     "execution_count": 51,
     "metadata": {},
     "output_type": "execute_result"
    }
   ],
   "source": [
    "v[:, 3]"
   ]
  },
  {
   "cell_type": "code",
   "execution_count": 52,
   "metadata": {
    "colab": {
     "base_uri": "https://localhost:8080/"
    },
    "id": "9givYGaBjY0h",
    "outputId": "2d275dff-ccef-441b-cb1a-a64f6328c5a7"
   },
   "outputs": [
    {
     "data": {
      "text/plain": [
       "array([0.57231984, 0.86669199, 0.14968317, 0.27821781, 0.91720085,\n",
       "       0.34630395, 0.25903201, 0.31839874, 0.42815759, 0.74709393])"
      ]
     },
     "execution_count": 52,
     "metadata": {},
     "output_type": "execute_result"
    }
   ],
   "source": [
    "v[0]\n"
   ]
  },
  {
   "cell_type": "code",
   "execution_count": 53,
   "metadata": {},
   "outputs": [
    {
     "data": {
      "text/plain": [
       "array([0.57231984, 0.86669199, 0.14968317, 0.27821781, 0.91720085,\n",
       "       0.34630395, 0.25903201, 0.31839874, 0.42815759, 0.74709393])"
      ]
     },
     "execution_count": 53,
     "metadata": {},
     "output_type": "execute_result"
    }
   ],
   "source": [
    "v[0,:]"
   ]
  },
  {
   "cell_type": "code",
   "execution_count": 54,
   "metadata": {
    "id": "OztjeVoajalA"
   },
   "outputs": [],
   "source": [
    "speed = np.sqrt(v[0,:] ** 2 + v[1,:] ** 2)"
   ]
  },
  {
   "cell_type": "code",
   "execution_count": 55,
   "metadata": {
    "colab": {
     "base_uri": "https://localhost:8080/"
    },
    "id": "aa_ysr7tjpMi",
    "outputId": "1df5cba3-2200-431c-fe23-138f67f09ab3"
   },
   "outputs": [
    {
     "data": {
      "text/plain": [
       "array([0.93148246, 1.0162557 , 0.80248209, 0.8514121 , 1.03948913,\n",
       "       0.60861503, 0.36515927, 0.42915386, 0.85842513, 0.807636  ])"
      ]
     },
     "execution_count": 55,
     "metadata": {},
     "output_type": "execute_result"
    }
   ],
   "source": [
    "speed"
   ]
  },
  {
   "cell_type": "code",
   "execution_count": 56,
   "metadata": {
    "id": "z0E1Az3Vjp5e"
   },
   "outputs": [],
   "source": [
    "speed = np.sqrt(v[0, :] ** 2 + v[1, :] ** 2)"
   ]
  },
  {
   "cell_type": "code",
   "execution_count": 57,
   "metadata": {
    "id": "LIS5GC6UjwE0"
   },
   "outputs": [],
   "source": [
    "m = np.random.random((10,))"
   ]
  },
  {
   "cell_type": "code",
   "execution_count": 58,
   "metadata": {
    "colab": {
     "base_uri": "https://localhost:8080/"
    },
    "id": "-SlPuu5mkAGS",
    "outputId": "fedb2955-8fe3-4e39-bc51-0cf4c6308aa2"
   },
   "outputs": [
    {
     "data": {
      "text/plain": [
       "array([0.74803557, 0.95938181, 0.44046919, 0.15088016, 0.11549829,\n",
       "       0.03597523, 0.28738211, 0.52952309, 0.01782878, 0.32188017])"
      ]
     },
     "execution_count": 58,
     "metadata": {},
     "output_type": "execute_result"
    }
   ],
   "source": [
    "m"
   ]
  },
  {
   "cell_type": "code",
   "execution_count": 59,
   "metadata": {
    "id": "wK-AA0xLkAaj"
   },
   "outputs": [],
   "source": [
    "p = m * v"
   ]
  },
  {
   "cell_type": "code",
   "execution_count": 60,
   "metadata": {
    "colab": {
     "base_uri": "https://localhost:8080/"
    },
    "id": "h5n0wn4YkEH_",
    "outputId": "27becb9e-4b11-4f13-a81e-723490f7597f"
   },
   "outputs": [
    {
     "data": {
      "text/plain": [
       "(2, 10)"
      ]
     },
     "execution_count": 60,
     "metadata": {},
     "output_type": "execute_result"
    }
   ],
   "source": [
    "p.shape"
   ]
  },
  {
   "cell_type": "code",
   "execution_count": 61,
   "metadata": {
    "colab": {
     "base_uri": "https://localhost:8080/"
    },
    "id": "VFEIOT_XkIy1",
    "outputId": "77eb3e0f-a7fe-48ff-e184-3dfcda77f2a7"
   },
   "outputs": [
    {
     "data": {
      "text/plain": [
       "array([0.06593082, 0.34726532])"
      ]
     },
     "execution_count": 61,
     "metadata": {},
     "output_type": "execute_result"
    }
   ],
   "source": [
    "p[:, 2]"
   ]
  },
  {
   "cell_type": "code",
   "execution_count": 62,
   "metadata": {
    "colab": {
     "base_uri": "https://localhost:8080/"
    },
    "id": "8zhoG4_HkKkI",
    "outputId": "31b5f10b-4331-4b9c-fe15-c115216a0829"
   },
   "outputs": [
    {
     "data": {
      "text/plain": [
       "array([ 1,  5,  7,  5,  9, 14, 15, 10, 10, 10])"
      ]
     },
     "execution_count": 62,
     "metadata": {},
     "output_type": "execute_result"
    }
   ],
   "source": [
    "v1 + v2"
   ]
  },
  {
   "cell_type": "code",
   "execution_count": 63,
   "metadata": {
    "colab": {
     "base_uri": "https://localhost:8080/"
    },
    "id": "Z0FNS8b-kSuT",
    "outputId": "c8272cda-e96e-43ef-bd9d-955e1eca6cea"
   },
   "outputs": [
    {
     "data": {
      "text/plain": [
       "(10,)"
      ]
     },
     "execution_count": 63,
     "metadata": {},
     "output_type": "execute_result"
    }
   ],
   "source": [
    "v1.shape"
   ]
  },
  {
   "cell_type": "code",
   "execution_count": 64,
   "metadata": {
    "colab": {
     "base_uri": "https://localhost:8080/"
    },
    "id": "CHX_tX8GkRuz",
    "outputId": "ac97c09b-fa84-4f7d-e7f8-49f312f32acd"
   },
   "outputs": [
    {
     "data": {
      "text/plain": [
       "(10,)"
      ]
     },
     "execution_count": 64,
     "metadata": {},
     "output_type": "execute_result"
    }
   ],
   "source": [
    "v2.shape"
   ]
  },
  {
   "cell_type": "code",
   "execution_count": null,
   "metadata": {
    "id": "Gx8h9YT8kU_R"
   },
   "outputs": [],
   "source": [
    "v_error = np.random.random((9,))"
   ]
  },
  {
   "cell_type": "code",
   "execution_count": null,
   "metadata": {
    "colab": {
     "base_uri": "https://localhost:8080/"
    },
    "id": "bPkvHnQXkYpC",
    "outputId": "21a1c74b-426d-4b97-ff9a-8e80a23ec36a"
   },
   "outputs": [],
   "source": [
    "v_error"
   ]
  },
  {
   "cell_type": "code",
   "execution_count": null,
   "metadata": {
    "colab": {
     "base_uri": "https://localhost:8080/",
     "height": 173
    },
    "id": "_XOhvMtukZWg",
    "outputId": "7ecc93b7-2fcd-419c-e40a-3bc3c6574f3e"
   },
   "outputs": [],
   "source": [
    "v1 + v_error"
   ]
  },
  {
   "cell_type": "code",
   "execution_count": null,
   "metadata": {
    "colab": {
     "base_uri": "https://localhost:8080/"
    },
    "id": "XTOnfa8Ukaia",
    "outputId": "8382ab1f-54a4-42f8-805d-5d9406198016"
   },
   "outputs": [],
   "source": [
    "v * m"
   ]
  },
  {
   "cell_type": "code",
   "execution_count": null,
   "metadata": {
    "colab": {
     "base_uri": "https://localhost:8080/"
    },
    "id": "eQ1p1qo6kgmg",
    "outputId": "e367af91-574c-4c9e-fb6b-490af91ec7d2"
   },
   "outputs": [],
   "source": [
    "m.shape"
   ]
  },
  {
   "cell_type": "code",
   "execution_count": null,
   "metadata": {
    "colab": {
     "base_uri": "https://localhost:8080/"
    },
    "id": "gZ28tVfKkieX",
    "outputId": "7f013414-3a96-48a5-c183-f75a6e690591"
   },
   "outputs": [],
   "source": [
    "v.shape"
   ]
  },
  {
   "cell_type": "code",
   "execution_count": null,
   "metadata": {
    "colab": {
     "base_uri": "https://localhost:8080/"
    },
    "id": "GUuTvR2ykjum",
    "outputId": "08199678-aff4-401c-9835-22e31ac24c57"
   },
   "outputs": [],
   "source": [
    "a1 = np.arange(10)\n",
    "a1"
   ]
  },
  {
   "cell_type": "code",
   "execution_count": null,
   "metadata": {
    "colab": {
     "base_uri": "https://localhost:8080/"
    },
    "id": "KumhQ0wzkyua",
    "outputId": "c9b82e1e-b888-4047-ad46-8077e7288d19"
   },
   "outputs": [],
   "source": [
    "a1.reshape((5, 2))"
   ]
  },
  {
   "cell_type": "code",
   "execution_count": null,
   "metadata": {
    "colab": {
     "base_uri": "https://localhost:8080/"
    },
    "id": "2A0PvKZrk4Ok",
    "outputId": "11585adf-83f3-4652-c5a3-7dbc1405a75e"
   },
   "outputs": [],
   "source": [
    "a1.reshape((2, 5))"
   ]
  },
  {
   "cell_type": "code",
   "execution_count": null,
   "metadata": {
    "colab": {
     "base_uri": "https://localhost:8080/"
    },
    "id": "ZWhlgooak_Xy",
    "outputId": "ee3c9528-46ab-4a0f-b4fc-07470f34cc33"
   },
   "outputs": [],
   "source": [
    "a1.shape"
   ]
  },
  {
   "cell_type": "code",
   "execution_count": null,
   "metadata": {
    "colab": {
     "base_uri": "https://localhost:8080/",
     "height": 173
    },
    "id": "AoFMFJLflMI-",
    "outputId": "c1cf4e10-96ab-46fe-d85f-e82cebf3b83a"
   },
   "outputs": [],
   "source": [
    "a1.reshape((3, 3))"
   ]
  },
  {
   "cell_type": "code",
   "execution_count": null,
   "metadata": {
    "colab": {
     "base_uri": "https://localhost:8080/"
    },
    "id": "zb4fQhYxlPj4",
    "outputId": "0de93c34-2c82-499d-a1c3-364ac2816f5d"
   },
   "outputs": [],
   "source": [
    "a1.reshape((1, 10))"
   ]
  },
  {
   "cell_type": "code",
   "execution_count": null,
   "metadata": {
    "colab": {
     "base_uri": "https://localhost:8080/"
    },
    "id": "sExMS7q0lV6a",
    "outputId": "31b86238-1fb0-4f19-cd45-efc5bd91fbb3"
   },
   "outputs": [],
   "source": [
    "a1.reshape((10, 1))"
   ]
  },
  {
   "cell_type": "code",
   "execution_count": null,
   "metadata": {
    "id": "kx1eOX8zlc4t"
   },
   "outputs": [],
   "source": [
    "monster_array = a1.reshape((1, 1, 10 ,1))"
   ]
  },
  {
   "cell_type": "code",
   "execution_count": null,
   "metadata": {
    "colab": {
     "base_uri": "https://localhost:8080/"
    },
    "id": "WXAixo_7lf7N",
    "outputId": "c7db17c5-7633-4f2d-8192-ed1d6ba3249a"
   },
   "outputs": [],
   "source": [
    "monster_array[0, 0, 7, 0]"
   ]
  },
  {
   "cell_type": "code",
   "execution_count": null,
   "metadata": {
    "colab": {
     "base_uri": "https://localhost:8080/"
    },
    "id": "VMSar3V2lklI",
    "outputId": "a0978f11-b60f-4b99-c64e-51338e961095"
   },
   "outputs": [],
   "source": [
    "monster_array"
   ]
  },
  {
   "cell_type": "code",
   "execution_count": null,
   "metadata": {
    "id": "P0T1Ijoillzq"
   },
   "outputs": [],
   "source": [
    "a = np.arange(6).reshape((2, 1, 3))"
   ]
  },
  {
   "cell_type": "code",
   "execution_count": null,
   "metadata": {
    "colab": {
     "base_uri": "https://localhost:8080/"
    },
    "id": "ghRuYmbEmjuF",
    "outputId": "ea2c9bf7-0c3a-4c34-ffcf-afce18ae1c1a"
   },
   "outputs": [],
   "source": [
    "a"
   ]
  },
  {
   "cell_type": "code",
   "execution_count": null,
   "metadata": {
    "colab": {
     "base_uri": "https://localhost:8080/"
    },
    "id": "xP_cBmB7mj-A",
    "outputId": "0fc5eaf6-af02-4304-926d-0a59c8e1d1ed"
   },
   "outputs": [],
   "source": [
    "b = np.arange(9).reshape(3, 3)\n",
    "b"
   ]
  },
  {
   "cell_type": "code",
   "execution_count": null,
   "metadata": {
    "id": "1KsIn_QimtA4"
   },
   "outputs": [],
   "source": [
    "c = a + b"
   ]
  },
  {
   "cell_type": "code",
   "execution_count": null,
   "metadata": {
    "colab": {
     "base_uri": "https://localhost:8080/"
    },
    "id": "mTtjRkFkmxfO",
    "outputId": "4b1843b3-31c2-444e-9988-3b278419d0c8"
   },
   "outputs": [],
   "source": [
    "c.shape"
   ]
  },
  {
   "cell_type": "code",
   "execution_count": null,
   "metadata": {
    "colab": {
     "base_uri": "https://localhost:8080/"
    },
    "id": "wKzLMdIPmyR5",
    "outputId": "636fa663-66c6-41b8-ec62-0262fc38a607"
   },
   "outputs": [],
   "source": [
    "c"
   ]
  },
  {
   "cell_type": "code",
   "execution_count": null,
   "metadata": {
    "colab": {
     "base_uri": "https://localhost:8080/"
    },
    "id": "OT51CvTemzdI",
    "outputId": "555aeb1e-361f-4023-87e0-48c2dd779df7"
   },
   "outputs": [],
   "source": [
    "b.reshape((1, 3, 3))"
   ]
  },
  {
   "cell_type": "code",
   "execution_count": null,
   "metadata": {
    "colab": {
     "base_uri": "https://localhost:8080/"
    },
    "id": "DF73KKNqm4Ap",
    "outputId": "cf3dde9a-0b68-4787-b305-e4b1437e666b"
   },
   "outputs": [],
   "source": [
    "a = np.arange(9).reshape(3, 3)\n",
    "a"
   ]
  },
  {
   "cell_type": "code",
   "execution_count": null,
   "metadata": {},
   "outputs": [],
   "source": [
    "\n",
    "a[0,0]"
   ]
  },
  {
   "cell_type": "code",
   "execution_count": null,
   "metadata": {
    "id": "hBflnuFgnOgt"
   },
   "outputs": [],
   "source": [
    "b = np.array([10, 100, 1000])\n",
    "b"
   ]
  },
  {
   "cell_type": "code",
   "execution_count": null,
   "metadata": {
    "colab": {
     "base_uri": "https://localhost:8080/"
    },
    "id": "5CajfpQJnTVB",
    "outputId": "6d84d069-d8d6-4a15-c2c7-16ee27b21446"
   },
   "outputs": [],
   "source": [
    "a.shape"
   ]
  },
  {
   "cell_type": "code",
   "execution_count": null,
   "metadata": {
    "colab": {
     "base_uri": "https://localhost:8080/"
    },
    "id": "tA7aPeuBnU-e",
    "outputId": "f95dcb87-f5d6-4c0d-e092-56b2bd69adad"
   },
   "outputs": [],
   "source": [
    "b.shape"
   ]
  },
  {
   "cell_type": "code",
   "execution_count": null,
   "metadata": {
    "colab": {
     "base_uri": "https://localhost:8080/"
    },
    "id": "a5Xp-N_bnVyF",
    "outputId": "3fcd4609-1ce1-4a13-fe70-5192e9b1a460"
   },
   "outputs": [],
   "source": [
    "a + b"
   ]
  },
  {
   "cell_type": "code",
   "execution_count": null,
   "metadata": {
    "colab": {
     "base_uri": "https://localhost:8080/"
    },
    "id": "JLjjhhqCnXfr",
    "outputId": "30390799-b482-4655-cdd0-330e3ebfe5e7"
   },
   "outputs": [],
   "source": [
    "a * b"
   ]
  },
  {
   "cell_type": "code",
   "execution_count": null,
   "metadata": {
    "colab": {
     "base_uri": "https://localhost:8080/"
    },
    "id": "R-z6CEx_nfJZ",
    "outputId": "c2a91710-3567-42e0-af02-780763ba4d81"
   },
   "outputs": [],
   "source": [
    "a @ b"
   ]
  },
  {
   "cell_type": "code",
   "execution_count": null,
   "metadata": {
    "colab": {
     "base_uri": "https://localhost:8080/"
    },
    "id": "SilIKmH0nkUA",
    "outputId": "f6f56909-41ab-4eda-9e48-ebcba18e549e"
   },
   "outputs": [],
   "source": [
    "b"
   ]
  },
  {
   "cell_type": "code",
   "execution_count": null,
   "metadata": {
    "id": "4X0wBlQNntR_"
   },
   "outputs": [],
   "source": [
    "d = b.reshape((3, 1))"
   ]
  },
  {
   "cell_type": "code",
   "execution_count": null,
   "metadata": {
    "colab": {
     "base_uri": "https://localhost:8080/"
    },
    "id": "yC1Zb1Uonwpz",
    "outputId": "602052a6-219b-43a3-c94d-b5f68ce9f446"
   },
   "outputs": [],
   "source": [
    "d"
   ]
  },
  {
   "cell_type": "code",
   "execution_count": null,
   "metadata": {
    "colab": {
     "base_uri": "https://localhost:8080/"
    },
    "id": "B5U06ttonxFM",
    "outputId": "c3b309bc-bbd5-4721-8743-8514d0d2627c"
   },
   "outputs": [],
   "source": [
    "b * d"
   ]
  },
  {
   "cell_type": "code",
   "execution_count": null,
   "metadata": {
    "colab": {
     "base_uri": "https://localhost:8080/"
    },
    "id": "1NFIvef5n1Xd",
    "outputId": "f91a7dec-d2c1-4658-b18d-5152d8a0be0c"
   },
   "outputs": [],
   "source": [
    "b"
   ]
  },
  {
   "cell_type": "code",
   "execution_count": null,
   "metadata": {
    "colab": {
     "base_uri": "https://localhost:8080/"
    },
    "id": "LwwnCY6Sn6eR",
    "outputId": "e747bb94-c43e-4214-ad1a-f69a0c0a0232"
   },
   "outputs": [],
   "source": [
    "b.reshape((3, 1)) * b"
   ]
  },
  {
   "cell_type": "code",
   "execution_count": null,
   "metadata": {
    "id": "8aHqlSNXn9or"
   },
   "outputs": [],
   "source": [
    "#M[i, j] = b[i] * b[j]"
   ]
  },
  {
   "cell_type": "code",
   "execution_count": null,
   "metadata": {
    "id": "zevffEvuoNcQ"
   },
   "outputs": [],
   "source": [
    "# (3, 1) * (3,)\n",
    "# (3, 1) * (1, 3)\n",
    "# d = ( b1\n",
    "#       b2\n",
    "#       b3\n",
    "#)"
   ]
  },
  {
   "cell_type": "code",
   "execution_count": null,
   "metadata": {
    "id": "i_dkEl_noTf7"
   },
   "outputs": [],
   "source": [
    "# d =\n",
    "#  ( b1     b1    b1\n",
    "#    b2     b2    b2\n",
    "#    b3     b3    b3\n",
    "#   )"
   ]
  },
  {
   "cell_type": "code",
   "execution_count": null,
   "metadata": {
    "id": "MsqNn5Xboqa1"
   },
   "outputs": [],
   "source": [
    "# (3, 3) * (1, 3)\n",
    "# b = (b1     b2    b3)"
   ]
  },
  {
   "cell_type": "code",
   "execution_count": null,
   "metadata": {
    "id": "vwmEQ--joz5d"
   },
   "outputs": [],
   "source": [
    " # b =\n",
    " #    (b1     b2    b3)\n",
    " #    (b1     b2    b3)\n",
    " #    (b1     b2    b3)"
   ]
  },
  {
   "cell_type": "code",
   "execution_count": null,
   "metadata": {
    "id": "sSsFyHwNo8nk"
   },
   "outputs": [],
   "source": [
    "# (3, 3) * (3, 3)\n",
    "\n",
    "# M[i, j] = d[i, j] * b[i, j] = bi * bj"
   ]
  },
  {
   "cell_type": "code",
   "execution_count": 204,
   "metadata": {
    "id": "U98JeMlHpOho"
   },
   "outputs": [],
   "source": [
    "def build_lagrangian_basis(q, e):\n",
    "    n_q_points = q.shape[0]\n",
    "    n_e_points = e.shape[0]\n",
    "\n",
    "    # basis[i, j] is the value of l[j] on the point e[i] where\n",
    "    # l[j] is the lagrange polynomial that is 1 on q[j] and 0\n",
    "    # on q[k] for k != j\n",
    "    basis = np.ones((n_e_points, n_q_points), dtype=np.float64)\n",
    "\n",
    "    # for i in range(n_e_points):\n",
    "    #   for j in range(n_q_points):\n",
    "    #     for k in range(n_q_points):\n",
    "    #       if k == j:\n",
    "    #         continue\n",
    "    #       basis[i, j] *= (e[i] - q[k]) / (q[j] - q[k])\n",
    "\n",
    "\n",
    "\n",
    "\n",
    "    for i in range(n_e_points):\n",
    "        for j in range(n_q_points):\n",
    "            for k in range(n_q_points):\n",
    "                if k == j:\n",
    "                      continue\n",
    "            basis[i, j] *= (e[i] - q[k])\n",
    "\n",
    "    return basis"
   ]
  },
  {
   "cell_type": "code",
   "execution_count": 208,
   "metadata": {
    "colab": {
     "base_uri": "https://localhost:8080/",
     "height": 338
    },
    "id": "Rdo9Bmq7rxEW",
    "outputId": "62d39572-a7fb-4045-97e3-62e9c38f1d46"
   },
   "outputs": [
    {
     "data": {
      "text/plain": [
       "array([[ 0.        , -0.33333333, -0.66666667, -1.        ],\n",
       "       [ 0.11111111, -0.22222222, -0.55555556, -0.88888889],\n",
       "       [ 0.22222222, -0.11111111, -0.44444444, -0.77777778],\n",
       "       [ 0.33333333,  0.        , -0.33333333, -0.66666667],\n",
       "       [ 0.44444444,  0.11111111, -0.22222222, -0.55555556],\n",
       "       [ 0.55555556,  0.22222222, -0.11111111, -0.44444444],\n",
       "       [ 0.66666667,  0.33333333,  0.        , -0.33333333],\n",
       "       [ 0.77777778,  0.44444444,  0.11111111, -0.22222222],\n",
       "       [ 0.88888889,  0.55555556,  0.22222222, -0.11111111],\n",
       "       [ 1.        ,  0.66666667,  0.33333333,  0.        ]])"
      ]
     },
     "execution_count": 208,
     "metadata": {},
     "output_type": "execute_result"
    }
   ],
   "source": [
    "import matplotlib.pyplot as plt\n",
    "%matplotlib notebook\n",
    "\n",
    "e = np.linspace(0, 1, 10)\n",
    "q = np.linspace(0, 1, 4)\n",
    "\n",
    "#np.array(*q)\n",
    "\n",
    "bs = np.ones((n_e_points, n_q_points), dtype=np.float64)\n",
    "\n",
    "np.array([e]*q.shape[0]).transpose() - np.array([q]*e.shape[0])\n",
    "\n",
    "\n"
   ]
  },
  {
   "cell_type": "code",
   "execution_count": 209,
   "metadata": {},
   "outputs": [
    {
     "data": {
      "text/plain": [
       "array([[ 0.        , -0.33333333, -0.66666667, -1.        ],\n",
       "       [ 0.33333333,  0.        , -0.33333333, -0.66666667],\n",
       "       [ 0.66666667,  0.33333333,  0.        , -0.33333333],\n",
       "       [ 1.        ,  0.66666667,  0.33333333,  0.        ]])"
      ]
     },
     "execution_count": 209,
     "metadata": {},
     "output_type": "execute_result"
    }
   ],
   "source": [
    "np.array([q]*q.shape[0]).transpose() - np.array([q]*q.shape[0])"
   ]
  },
  {
   "cell_type": "code",
   "execution_count": 205,
   "metadata": {},
   "outputs": [
    {
     "data": {
      "text/plain": [
       "array([[-1.        , -1.        , -1.        , -1.        ],\n",
       "       [-0.88888889, -0.88888889, -0.88888889, -0.88888889],\n",
       "       [-0.77777778, -0.77777778, -0.77777778, -0.77777778],\n",
       "       [-0.66666667, -0.66666667, -0.66666667, -0.66666667],\n",
       "       [-0.55555556, -0.55555556, -0.55555556, -0.55555556],\n",
       "       [-0.44444444, -0.44444444, -0.44444444, -0.44444444],\n",
       "       [-0.33333333, -0.33333333, -0.33333333, -0.33333333],\n",
       "       [-0.22222222, -0.22222222, -0.22222222, -0.22222222],\n",
       "       [-0.11111111, -0.11111111, -0.11111111, -0.11111111],\n",
       "       [ 0.        ,  0.        ,  0.        ,  0.        ]])"
      ]
     },
     "execution_count": 205,
     "metadata": {},
     "output_type": "execute_result"
    }
   ],
   "source": [
    "basis = build_lagrangian_basis(q, e)\n",
    "#plt.plot(e, basis)\n",
    "basis"
   ]
  },
  {
   "cell_type": "code",
   "execution_count": 67,
   "metadata": {
    "id": "vJl0jUyzr-iX"
   },
   "outputs": [],
   "source": [
    "def interpolate(f, q, e):\n",
    "  n_q_points = q.shape[0]\n",
    "  n_e_points = e.shape[0]\n",
    "\n",
    "  basis = build_lagrangian_basis(q, e)\n",
    "\n",
    "  f_e = np.zeros((n_e_points,), dtype=np.float64)\n",
    "\n",
    "  for i in range(n_e_points):\n",
    "    for j in range(n_q_points):\n",
    "      f_e[i] += basis[i, j] * f(q[j])\n",
    "  return f_e"
   ]
  },
  {
   "cell_type": "code",
   "execution_count": 68,
   "metadata": {
    "id": "tc_T8x21sdWU"
   },
   "outputs": [],
   "source": [
    "def f(x):\n",
    "  return np.sin(2 * np.pi * x)"
   ]
  },
  {
   "cell_type": "code",
   "execution_count": 69,
   "metadata": {
    "colab": {
     "base_uri": "https://localhost:8080/",
     "height": 283
    },
    "id": "hU2o-uTsssAv",
    "outputId": "394728c5-436d-4d1a-c9a0-179b8a656bbc"
   },
   "outputs": [
    {
     "data": {
      "text/plain": [
       "[<matplotlib.lines.Line2D at 0x7f4b460a5370>]"
      ]
     },
     "execution_count": 69,
     "metadata": {},
     "output_type": "execute_result"
    },
    {
     "data": {
      "image/png": "[encoded data removed]",
      "text/plain": [
       "<Figure size 432x288 with 1 Axes>"
      ]
     },
     "metadata": {
      "needs_background": "light"
     },
     "output_type": "display_data"
    }
   ],
   "source": [
    "f_interp = interpolate(f, q, e)\n",
    "plt.plot(e, f_interp)\n",
    "plt.plot(e, f(e), color=\"red\")"
   ]
  },
  {
   "cell_type": "code",
   "execution_count": 150,
   "metadata": {
    "id": "UQPQfWEqsutJ"
   },
   "outputs": [],
   "source": [
    "def build_lagrangian_basis_2d(q_x, q_y, e_x, e_y):\n",
    "  # For a point P_{i, j} of coordinates q_x[i], q_y[j], we want to compute the\n",
    "  # value of the polynomial L_{k, l} on the point P_{i, j}.\n",
    "  # basis[i, j, k, l] is the value of L_{k, l} on the point (e_x[i], e_y[j])\n",
    "  n_q_x_points = q_x.shape[0]\n",
    "  n_q_y_points = q_y.shape[0]\n",
    "  n_e_x_points = e_x.shape[0]\n",
    "  n_e_y_points = e_y.shape[0]\n",
    "\n",
    "  basis_shape = (n_e_x_points, n_e_y_points, n_q_x_points, n_q_y_points)\n",
    "  basis = np.empty(basis_shape, dtype=np.float64)\n",
    "\n",
    "  b1 = build_lagrangian_basis(q_x, e_x)\n",
    "  b2 = build_lagrangian_basis(q_y, e_y)\n",
    "\n",
    "  for i in range(n_e_x_points):\n",
    "    for j in range(n_e_y_points):\n",
    "      for k in range(n_q_x_points):\n",
    "        for l in range(n_q_y_points):\n",
    "          basis[i, j, k , l] = b1[i, k] * b2[j, l]\n",
    "  \n",
    "  return basis\n",
    "\n"
   ]
  },
  {
   "cell_type": "code",
   "execution_count": 141,
   "metadata": {
    "id": "xbbnWT0qvD6W"
   },
   "outputs": [],
   "source": [
    "q_x = np.linspace(0, 1, 5)\n",
    "q_y = np.linspace(0, 1, 5)\n",
    "e_x = np.linspace(0, 1, 30)\n",
    "e_y = np.linspace(0, 1, 30)\n",
    "\n",
    "# build_lagrangian_basis_2d(q_x, q_y, e_x, e_y)"
   ]
  },
  {
   "cell_type": "code",
   "execution_count": 122,
   "metadata": {
    "id": "57vKDZlyvcaG"
   },
   "outputs": [],
   "source": [
    "def interpolate_2d(f, q_x, q_y, e_x, e_y):\n",
    "  n_q_x_points = q_x.shape[0]\n",
    "  n_q_y_points = q_y.shape[0]\n",
    "  n_e_x_points = e_x.shape[0]\n",
    "  n_e_y_points = e_y.shape[0]\n",
    "\n",
    "  f_e = np.zeros((n_e_x_points, n_e_y_points), dtype=np.float64)\n",
    "\n",
    "  basis = build_lagrangian_basis_2d(q_x, q_y, e_x, e_y)\n",
    "\n",
    "  for i in range(n_e_x_points):\n",
    "    for j in range(n_e_y_points):\n",
    "      for k in range(n_q_x_points):\n",
    "        for l in range(n_q_y_points):\n",
    "          f_e[i, j] += basis[i, j, k, l] * f(q_x[k], q_y[l])\n",
    "  return f_e\n"
   ]
  },
  {
   "cell_type": "code",
   "execution_count": 123,
   "metadata": {
    "id": "1zU1MFxawXBn"
   },
   "outputs": [],
   "source": [
    "def f(x, y):\n",
    "  return np.sin(2 * np.pi * x) + y * y"
   ]
  },
  {
   "cell_type": "code",
   "execution_count": 142,
   "metadata": {
    "id": "ip9zhHq9wgzm"
   },
   "outputs": [],
   "source": [
    "f_interpolated = interpolate_2d(f, q_x, q_y, e_x, e_y)"
   ]
  },
  {
   "cell_type": "code",
   "execution_count": 125,
   "metadata": {
    "id": "iYLV2Cs6wmG_"
   },
   "outputs": [],
   "source": [
    "def evaluate_f(e_x, e_y):\n",
    "  n_e_x_points = e_x.shape[0]\n",
    "  n_e_y_points = e_y.shape[0]\n",
    "  f_e = np.empty((n_e_x_points, n_e_y_points), dtype=np.float64)\n",
    "\n",
    "  for i in range(n_e_x_points):\n",
    "    for j in range(n_e_y_points):\n",
    "      f_e[i, j] = f(e_x[i], e_y[j])\n",
    "  return f_e"
   ]
  },
  {
   "cell_type": "code",
   "execution_count": 136,
   "metadata": {
    "id": "ewWSpS3wxQxt"
   },
   "outputs": [],
   "source": [
    "f_evaluated = evaluate_f(e_x, e_y)\n",
    "\n"
   ]
  },
  {
   "cell_type": "code",
   "execution_count": 127,
   "metadata": {},
   "outputs": [
    {
     "data": {
      "text/plain": [
       "30"
      ]
     },
     "execution_count": 127,
     "metadata": {},
     "output_type": "execute_result"
    }
   ],
   "source": [
    "e_x.shape[0]"
   ]
  },
  {
   "cell_type": "code",
   "execution_count": 128,
   "metadata": {},
   "outputs": [
    {
     "data": {
      "text/plain": [
       "30"
      ]
     },
     "execution_count": 128,
     "metadata": {},
     "output_type": "execute_result"
    }
   ],
   "source": [
    "e_y.shape[0]"
   ]
  },
  {
   "cell_type": "code",
   "execution_count": 131,
   "metadata": {},
   "outputs": [
    {
     "data": {
      "application/javascript": [
       "/* Put everything inside the global mpl namespace */\n",
       "/* global mpl */\n",
       "window.mpl = {};\n",
       "\n",
       "mpl.get_websocket_type = function () {\n",
       "    if (typeof WebSocket !== 'undefined') {\n",
       "        return WebSocket;\n",
       "    } else if (typeof MozWebSocket !== 'undefined') {\n",
       "        return MozWebSocket;\n",
       "    } else {\n",
       "        alert(\n",
       "            'Your browser does not have WebSocket support. ' +\n",
       "                'Please try Chrome, Safari or Firefox ≥ 6. ' +\n",
       "                'Firefox 4 and 5 are also supported but you ' +\n",
       "                'have to enable WebSockets in about:config.'\n",
       "        );\n",
       "    }\n",
       "};\n",
       "\n",
       "mpl.figure = function (figure_id, websocket, ondownload, parent_element) {\n",
       "    this.id = figure_id;\n",
       "\n",
       "    this.ws = websocket;\n",
       "\n",
       "    this.supports_binary = this.ws.binaryType !== undefined;\n",
       "\n",
       "    if (!this.supports_binary) {\n",
       "        var warnings = document.getElementById('mpl-warnings');\n",
       "        if (warnings) {\n",
       "            warnings.style.display = 'block';\n",
       "            warnings.textContent =\n",
       "                'This browser does not support binary websocket messages. ' +\n",
       "                'Performance may be slow.';\n",
       "        }\n",
       "    }\n",
       "\n",
       "    this.imageObj = new Image();\n",
       "\n",
       "    this.context = undefined;\n",
       "    this.message = undefined;\n",
       "    this.canvas = undefined;\n",
       "    this.rubberband_canvas = undefined;\n",
       "    this.rubberband_context = undefined;\n",
       "    this.format_dropdown = undefined;\n",
       "\n",
       "    this.image_mode = 'full';\n",
       "\n",
       "    this.root = document.createElement('div');\n",
       "    this.root.setAttribute('style', 'display: inline-block');\n",
       "    this._root_extra_style(this.root);\n",
       "\n",
       "    parent_element.appendChild(this.root);\n",
       "\n",
       "    this._init_header(this);\n",
       "    this._init_canvas(this);\n",
       "    this._init_toolbar(this);\n",
       "\n",
       "    var fig = this;\n",
       "\n",
       "    this.waiting = false;\n",
       "\n",
       "    this.ws.onopen = function () {\n",
       "        fig.send_message('supports_binary', { value: fig.supports_binary });\n",
       "        fig.send_message('send_image_mode', {});\n",
       "        if (fig.ratio !== 1) {\n",
       "            fig.send_message('set_dpi_ratio', { dpi_ratio: fig.ratio });\n",
       "        }\n",
       "        fig.send_message('refresh', {});\n",
       "    };\n",
       "\n",
       "    this.imageObj.onload = function () {\n",
       "        if (fig.image_mode === 'full') {\n",
       "            // Full images could contain transparency (where diff images\n",
       "            // almost always do), so we need to clear the canvas so that\n",
       "            // there is no ghosting.\n",
       "            fig.context.clearRect(0, 0, fig.canvas.width, fig.canvas.height);\n",
       "        }\n",
       "        fig.context.drawImage(fig.imageObj, 0, 0);\n",
       "    };\n",
       "\n",
       "    this.imageObj.onunload = function () {\n",
       "        fig.ws.close();\n",
       "    };\n",
       "\n",
       "    this.ws.onmessage = this._make_on_message_function(this);\n",
       "\n",
       "    this.ondownload = ondownload;\n",
       "};\n",
       "\n",
       "mpl.figure.prototype._init_header = function () {\n",
       "    var titlebar = document.createElement('div');\n",
       "    titlebar.classList =\n",
       "        'ui-dialog-titlebar ui-widget-header ui-corner-all ui-helper-clearfix';\n",
       "    var titletext = document.createElement('div');\n",
       "    titletext.classList = 'ui-dialog-title';\n",
       "    titletext.setAttribute(\n",
       "        'style',\n",
       "        'width: 100%; text-align: center; padding: 3px;'\n",
       "    );\n",
       "    titlebar.appendChild(titletext);\n",
       "    this.root.appendChild(titlebar);\n",
       "    this.header = titletext;\n",
       "};\n",
       "\n",
       "mpl.figure.prototype._canvas_extra_style = function (_canvas_div) {};\n",
       "\n",
       "mpl.figure.prototype._root_extra_style = function (_canvas_div) {};\n",
       "\n",
       "mpl.figure.prototype._init_canvas = function () {\n",
       "    var fig = this;\n",
       "\n",
       "    var canvas_div = (this.canvas_div = document.createElement('div'));\n",
       "    canvas_div.setAttribute(\n",
       "        'style',\n",
       "        'border: 1px solid #ddd;' +\n",
       "            'box-sizing: content-box;' +\n",
       "            'clear: both;' +\n",
       "            'min-height: 1px;' +\n",
       "            'min-width: 1px;' +\n",
       "            'outline: 0;' +\n",
       "            'overflow: hidden;' +\n",
       "            'position: relative;' +\n",
       "            'resize: both;'\n",
       "    );\n",
       "\n",
       "    function on_keyboard_event_closure(name) {\n",
       "        return function (event) {\n",
       "            return fig.key_event(event, name);\n",
       "        };\n",
       "    }\n",
       "\n",
       "    canvas_div.addEventListener(\n",
       "        'keydown',\n",
       "        on_keyboard_event_closure('key_press')\n",
       "    );\n",
       "    canvas_div.addEventListener(\n",
       "        'keyup',\n",
       "        on_keyboard_event_closure('key_release')\n",
       "    );\n",
       "\n",
       "    this._canvas_extra_style(canvas_div);\n",
       "    this.root.appendChild(canvas_div);\n",
       "\n",
       "    var canvas = (this.canvas = document.createElement('canvas'));\n",
       "    canvas.classList.add('mpl-canvas');\n",
       "    canvas.setAttribute('style', 'box-sizing: content-box;');\n",
       "\n",
       "    this.context = canvas.getContext('2d');\n",
       "\n",
       "    var backingStore =\n",
       "        this.context.backingStorePixelRatio ||\n",
       "        this.context.webkitBackingStorePixelRatio ||\n",
       "        this.context.mozBackingStorePixelRatio ||\n",
       "        this.context.msBackingStorePixelRatio ||\n",
       "        this.context.oBackingStorePixelRatio ||\n",
       "        this.context.backingStorePixelRatio ||\n",
       "        1;\n",
       "\n",
       "    this.ratio = (window.devicePixelRatio || 1) / backingStore;\n",
       "    if (this.ratio !== 1) {\n",
       "        fig.send_message('set_dpi_ratio', { dpi_ratio: this.ratio });\n",
       "    }\n",
       "\n",
       "    var rubberband_canvas = (this.rubberband_canvas = document.createElement(\n",
       "        'canvas'\n",
       "    ));\n",
       "    rubberband_canvas.setAttribute(\n",
       "        'style',\n",
       "        'box-sizing: content-box; position: absolute; left: 0; top: 0; z-index: 1;'\n",
       "    );\n",
       "\n",
       "    var resizeObserver = new ResizeObserver(function (entries) {\n",
       "        var nentries = entries.length;\n",
       "        for (var i = 0; i < nentries; i++) {\n",
       "            var entry = entries[i];\n",
       "            var width, height;\n",
       "            if (entry.contentBoxSize) {\n",
       "                if (entry.contentBoxSize instanceof Array) {\n",
       "                    // Chrome 84 implements new version of spec.\n",
       "                    width = entry.contentBoxSize[0].inlineSize;\n",
       "                    height = entry.contentBoxSize[0].blockSize;\n",
       "                } else {\n",
       "                    // Firefox implements old version of spec.\n",
       "                    width = entry.contentBoxSize.inlineSize;\n",
       "                    height = entry.contentBoxSize.blockSize;\n",
       "                }\n",
       "            } else {\n",
       "                // Chrome <84 implements even older version of spec.\n",
       "                width = entry.contentRect.width;\n",
       "                height = entry.contentRect.height;\n",
       "            }\n",
       "\n",
       "            // Keep the size of the canvas and rubber band canvas in sync with\n",
       "            // the canvas container.\n",
       "            if (entry.devicePixelContentBoxSize) {\n",
       "                // Chrome 84 implements new version of spec.\n",
       "                canvas.setAttribute(\n",
       "                    'width',\n",
       "                    entry.devicePixelContentBoxSize[0].inlineSize\n",
       "                );\n",
       "                canvas.setAttribute(\n",
       "                    'height',\n",
       "                    entry.devicePixelContentBoxSize[0].blockSize\n",
       "                );\n",
       "            } else {\n",
       "                canvas.setAttribute('width', width * fig.ratio);\n",
       "                canvas.setAttribute('height', height * fig.ratio);\n",
       "            }\n",
       "            canvas.setAttribute(\n",
       "                'style',\n",
       "                'width: ' + width + 'px; height: ' + height + 'px;'\n",
       "            );\n",
       "\n",
       "            rubberband_canvas.setAttribute('width', width);\n",
       "            rubberband_canvas.setAttribute('height', height);\n",
       "\n",
       "            // And update the size in Python. We ignore the initial 0/0 size\n",
       "            // that occurs as the element is placed into the DOM, which should\n",
       "            // otherwise not happen due to the minimum size styling.\n",
       "            if (width != 0 && height != 0) {\n",
       "                fig.request_resize(width, height);\n",
       "            }\n",
       "        }\n",
       "    });\n",
       "    resizeObserver.observe(canvas_div);\n",
       "\n",
       "    function on_mouse_event_closure(name) {\n",
       "        return function (event) {\n",
       "            return fig.mouse_event(event, name);\n",
       "        };\n",
       "    }\n",
       "\n",
       "    rubberband_canvas.addEventListener(\n",
       "        'mousedown',\n",
       "        on_mouse_event_closure('button_press')\n",
       "    );\n",
       "    rubberband_canvas.addEventListener(\n",
       "        'mouseup',\n",
       "        on_mouse_event_closure('button_release')\n",
       "    );\n",
       "    // Throttle sequential mouse events to 1 every 20ms.\n",
       "    rubberband_canvas.addEventListener(\n",
       "        'mousemove',\n",
       "        on_mouse_event_closure('motion_notify')\n",
       "    );\n",
       "\n",
       "    rubberband_canvas.addEventListener(\n",
       "        'mouseenter',\n",
       "        on_mouse_event_closure('figure_enter')\n",
       "    );\n",
       "    rubberband_canvas.addEventListener(\n",
       "        'mouseleave',\n",
       "        on_mouse_event_closure('figure_leave')\n",
       "    );\n",
       "\n",
       "    canvas_div.addEventListener('wheel', function (event) {\n",
       "        if (event.deltaY < 0) {\n",
       "            event.step = 1;\n",
       "        } else {\n",
       "            event.step = -1;\n",
       "        }\n",
       "        on_mouse_event_closure('scroll')(event);\n",
       "    });\n",
       "\n",
       "    canvas_div.appendChild(canvas);\n",
       "    canvas_div.appendChild(rubberband_canvas);\n",
       "\n",
       "    this.rubberband_context = rubberband_canvas.getContext('2d');\n",
       "    this.rubberband_context.strokeStyle = '#000000';\n",
       "\n",
       "    this._resize_canvas = function (width, height, forward) {\n",
       "        if (forward) {\n",
       "            canvas_div.style.width = width + 'px';\n",
       "            canvas_div.style.height = height + 'px';\n",
       "        }\n",
       "    };\n",
       "\n",
       "    // Disable right mouse context menu.\n",
       "    this.rubberband_canvas.addEventListener('contextmenu', function (_e) {\n",
       "        event.preventDefault();\n",
       "        return false;\n",
       "    });\n",
       "\n",
       "    function set_focus() {\n",
       "        canvas.focus();\n",
       "        canvas_div.focus();\n",
       "    }\n",
       "\n",
       "    window.setTimeout(set_focus, 100);\n",
       "};\n",
       "\n",
       "mpl.figure.prototype._init_toolbar = function () {\n",
       "    var fig = this;\n",
       "\n",
       "    var toolbar = document.createElement('div');\n",
       "    toolbar.classList = 'mpl-toolbar';\n",
       "    this.root.appendChild(toolbar);\n",
       "\n",
       "    function on_click_closure(name) {\n",
       "        return function (_event) {\n",
       "            return fig.toolbar_button_onclick(name);\n",
       "        };\n",
       "    }\n",
       "\n",
       "    function on_mouseover_closure(tooltip) {\n",
       "        return function (event) {\n",
       "            if (!event.currentTarget.disabled) {\n",
       "                return fig.toolbar_button_onmouseover(tooltip);\n",
       "            }\n",
       "        };\n",
       "    }\n",
       "\n",
       "    fig.buttons = {};\n",
       "    var buttonGroup = document.createElement('div');\n",
       "    buttonGroup.classList = 'mpl-button-group';\n",
       "    for (var toolbar_ind in mpl.toolbar_items) {\n",
       "        var name = mpl.toolbar_items[toolbar_ind][0];\n",
       "        var tooltip = mpl.toolbar_items[toolbar_ind][1];\n",
       "        var image = mpl.toolbar_items[toolbar_ind][2];\n",
       "        var method_name = mpl.toolbar_items[toolbar_ind][3];\n",
       "\n",
       "        if (!name) {\n",
       "            /* Instead of a spacer, we start a new button group. */\n",
       "            if (buttonGroup.hasChildNodes()) {\n",
       "                toolbar.appendChild(buttonGroup);\n",
       "            }\n",
       "            buttonGroup = document.createElement('div');\n",
       "            buttonGroup.classList = 'mpl-button-group';\n",
       "            continue;\n",
       "        }\n",
       "\n",
       "        var button = (fig.buttons[name] = document.createElement('button'));\n",
       "        button.classList = 'mpl-widget';\n",
       "        button.setAttribute('role', 'button');\n",
       "        button.setAttribute('aria-disabled', 'false');\n",
       "        button.addEventListener('click', on_click_closure(method_name));\n",
       "        button.addEventListener('mouseover', on_mouseover_closure(tooltip));\n",
       "\n",
       "        var icon_img = document.createElement('img');\n",
       "        icon_img.src = '_images/' + image + '.png';\n",
       "        icon_img.srcset = '_images/' + image + '_large.png 2x';\n",
       "        icon_img.alt = tooltip;\n",
       "        button.appendChild(icon_img);\n",
       "\n",
       "        buttonGroup.appendChild(button);\n",
       "    }\n",
       "\n",
       "    if (buttonGroup.hasChildNodes()) {\n",
       "        toolbar.appendChild(buttonGroup);\n",
       "    }\n",
       "\n",
       "    var fmt_picker = document.createElement('select');\n",
       "    fmt_picker.classList = 'mpl-widget';\n",
       "    toolbar.appendChild(fmt_picker);\n",
       "    this.format_dropdown = fmt_picker;\n",
       "\n",
       "    for (var ind in mpl.extensions) {\n",
       "        var fmt = mpl.extensions[ind];\n",
       "        var option = document.createElement('option');\n",
       "        option.selected = fmt === mpl.default_extension;\n",
       "        option.innerHTML = fmt;\n",
       "        fmt_picker.appendChild(option);\n",
       "    }\n",
       "\n",
       "    var status_bar = document.createElement('span');\n",
       "    status_bar.classList = 'mpl-message';\n",
       "    toolbar.appendChild(status_bar);\n",
       "    this.message = status_bar;\n",
       "};\n",
       "\n",
       "mpl.figure.prototype.request_resize = function (x_pixels, y_pixels) {\n",
       "    // Request matplotlib to resize the figure. Matplotlib will then trigger a resize in the client,\n",
       "    // which will in turn request a refresh of the image.\n",
       "    this.send_message('resize', { width: x_pixels, height: y_pixels });\n",
       "};\n",
       "\n",
       "mpl.figure.prototype.send_message = function (type, properties) {\n",
       "    properties['type'] = type;\n",
       "    properties['figure_id'] = this.id;\n",
       "    this.ws.send(JSON.stringify(properties));\n",
       "};\n",
       "\n",
       "mpl.figure.prototype.send_draw_message = function () {\n",
       "    if (!this.waiting) {\n",
       "        this.waiting = true;\n",
       "        this.ws.send(JSON.stringify({ type: 'draw', figure_id: this.id }));\n",
       "    }\n",
       "};\n",
       "\n",
       "mpl.figure.prototype.handle_save = function (fig, _msg) {\n",
       "    var format_dropdown = fig.format_dropdown;\n",
       "    var format = format_dropdown.options[format_dropdown.selectedIndex].value;\n",
       "    fig.ondownload(fig, format);\n",
       "};\n",
       "\n",
       "mpl.figure.prototype.handle_resize = function (fig, msg) {\n",
       "    var size = msg['size'];\n",
       "    if (size[0] !== fig.canvas.width || size[1] !== fig.canvas.height) {\n",
       "        fig._resize_canvas(size[0], size[1], msg['forward']);\n",
       "        fig.send_message('refresh', {});\n",
       "    }\n",
       "};\n",
       "\n",
       "mpl.figure.prototype.handle_rubberband = function (fig, msg) {\n",
       "    var x0 = msg['x0'] / fig.ratio;\n",
       "    var y0 = (fig.canvas.height - msg['y0']) / fig.ratio;\n",
       "    var x1 = msg['x1'] / fig.ratio;\n",
       "    var y1 = (fig.canvas.height - msg['y1']) / fig.ratio;\n",
       "    x0 = Math.floor(x0) + 0.5;\n",
       "    y0 = Math.floor(y0) + 0.5;\n",
       "    x1 = Math.floor(x1) + 0.5;\n",
       "    y1 = Math.floor(y1) + 0.5;\n",
       "    var min_x = Math.min(x0, x1);\n",
       "    var min_y = Math.min(y0, y1);\n",
       "    var width = Math.abs(x1 - x0);\n",
       "    var height = Math.abs(y1 - y0);\n",
       "\n",
       "    fig.rubberband_context.clearRect(\n",
       "        0,\n",
       "        0,\n",
       "        fig.canvas.width / fig.ratio,\n",
       "        fig.canvas.height / fig.ratio\n",
       "    );\n",
       "\n",
       "    fig.rubberband_context.strokeRect(min_x, min_y, width, height);\n",
       "};\n",
       "\n",
       "mpl.figure.prototype.handle_figure_label = function (fig, msg) {\n",
       "    // Updates the figure title.\n",
       "    fig.header.textContent = msg['label'];\n",
       "};\n",
       "\n",
       "mpl.figure.prototype.handle_cursor = function (fig, msg) {\n",
       "    var cursor = msg['cursor'];\n",
       "    switch (cursor) {\n",
       "        case 0:\n",
       "            cursor = 'pointer';\n",
       "            break;\n",
       "        case 1:\n",
       "            cursor = 'default';\n",
       "            break;\n",
       "        case 2:\n",
       "            cursor = 'crosshair';\n",
       "            break;\n",
       "        case 3:\n",
       "            cursor = 'move';\n",
       "            break;\n",
       "    }\n",
       "    fig.rubberband_canvas.style.cursor = cursor;\n",
       "};\n",
       "\n",
       "mpl.figure.prototype.handle_message = function (fig, msg) {\n",
       "    fig.message.textContent = msg['message'];\n",
       "};\n",
       "\n",
       "mpl.figure.prototype.handle_draw = function (fig, _msg) {\n",
       "    // Request the server to send over a new figure.\n",
       "    fig.send_draw_message();\n",
       "};\n",
       "\n",
       "mpl.figure.prototype.handle_image_mode = function (fig, msg) {\n",
       "    fig.image_mode = msg['mode'];\n",
       "};\n",
       "\n",
       "mpl.figure.prototype.handle_history_buttons = function (fig, msg) {\n",
       "    for (var key in msg) {\n",
       "        if (!(key in fig.buttons)) {\n",
       "            continue;\n",
       "        }\n",
       "        fig.buttons[key].disabled = !msg[key];\n",
       "        fig.buttons[key].setAttribute('aria-disabled', !msg[key]);\n",
       "    }\n",
       "};\n",
       "\n",
       "mpl.figure.prototype.handle_navigate_mode = function (fig, msg) {\n",
       "    if (msg['mode'] === 'PAN') {\n",
       "        fig.buttons['Pan'].classList.add('active');\n",
       "        fig.buttons['Zoom'].classList.remove('active');\n",
       "    } else if (msg['mode'] === 'ZOOM') {\n",
       "        fig.buttons['Pan'].classList.remove('active');\n",
       "        fig.buttons['Zoom'].classList.add('active');\n",
       "    } else {\n",
       "        fig.buttons['Pan'].classList.remove('active');\n",
       "        fig.buttons['Zoom'].classList.remove('active');\n",
       "    }\n",
       "};\n",
       "\n",
       "mpl.figure.prototype.updated_canvas_event = function () {\n",
       "    // Called whenever the canvas gets updated.\n",
       "    this.send_message('ack', {});\n",
       "};\n",
       "\n",
       "// A function to construct a web socket function for onmessage handling.\n",
       "// Called in the figure constructor.\n",
       "mpl.figure.prototype._make_on_message_function = function (fig) {\n",
       "    return function socket_on_message(evt) {\n",
       "        if (evt.data instanceof Blob) {\n",
       "            /* FIXME: We get \"Resource interpreted as Image but\n",
       "             * transferred with MIME type text/plain:\" errors on\n",
       "             * Chrome.  But how to set the MIME type?  It doesn't seem\n",
       "             * to be part of the websocket stream */\n",
       "            evt.data.type = 'image/png';\n",
       "\n",
       "            /* Free the memory for the previous frames */\n",
       "            if (fig.imageObj.src) {\n",
       "                (window.URL || window.webkitURL).revokeObjectURL(\n",
       "                    fig.imageObj.src\n",
       "                );\n",
       "            }\n",
       "\n",
       "            fig.imageObj.src = (window.URL || window.webkitURL).createObjectURL(\n",
       "                evt.data\n",
       "            );\n",
       "            fig.updated_canvas_event();\n",
       "            fig.waiting = false;\n",
       "            return;\n",
       "        } else if (\n",
       "            typeof evt.data === 'string' &&\n",
       "            evt.data.slice(0, 21) === 'data:image/png;base64'\n",
       "        ) {\n",
       "            fig.imageObj.src = evt.data;\n",
       "            fig.updated_canvas_event();\n",
       "            fig.waiting = false;\n",
       "            return;\n",
       "        }\n",
       "\n",
       "        var msg = JSON.parse(evt.data);\n",
       "        var msg_type = msg['type'];\n",
       "\n",
       "        // Call the  \"handle_{type}\" callback, which takes\n",
       "        // the figure and JSON message as its only arguments.\n",
       "        try {\n",
       "            var callback = fig['handle_' + msg_type];\n",
       "        } catch (e) {\n",
       "            console.log(\n",
       "                \"No handler for the '\" + msg_type + \"' message type: \",\n",
       "                msg\n",
       "            );\n",
       "            return;\n",
       "        }\n",
       "\n",
       "        if (callback) {\n",
       "            try {\n",
       "                // console.log(\"Handling '\" + msg_type + \"' message: \", msg);\n",
       "                callback(fig, msg);\n",
       "            } catch (e) {\n",
       "                console.log(\n",
       "                    \"Exception inside the 'handler_\" + msg_type + \"' callback:\",\n",
       "                    e,\n",
       "                    e.stack,\n",
       "                    msg\n",
       "                );\n",
       "            }\n",
       "        }\n",
       "    };\n",
       "};\n",
       "\n",
       "// from http://stackoverflow.com/questions/1114465/getting-mouse-location-in-canvas\n",
       "mpl.findpos = function (e) {\n",
       "    //this section is from http://www.quirksmode.org/js/events_properties.html\n",
       "    var targ;\n",
       "    if (!e) {\n",
       "        e = window.event;\n",
       "    }\n",
       "    if (e.target) {\n",
       "        targ = e.target;\n",
       "    } else if (e.srcElement) {\n",
       "        targ = e.srcElement;\n",
       "    }\n",
       "    if (targ.nodeType === 3) {\n",
       "        // defeat Safari bug\n",
       "        targ = targ.parentNode;\n",
       "    }\n",
       "\n",
       "    // pageX,Y are the mouse positions relative to the document\n",
       "    var boundingRect = targ.getBoundingClientRect();\n",
       "    var x = e.pageX - (boundingRect.left + document.body.scrollLeft);\n",
       "    var y = e.pageY - (boundingRect.top + document.body.scrollTop);\n",
       "\n",
       "    return { x: x, y: y };\n",
       "};\n",
       "\n",
       "/*\n",
       " * return a copy of an object with only non-object keys\n",
       " * we need this to avoid circular references\n",
       " * http://stackoverflow.com/a/24161582/3208463\n",
       " */\n",
       "function simpleKeys(original) {\n",
       "    return Object.keys(original).reduce(function (obj, key) {\n",
       "        if (typeof original[key] !== 'object') {\n",
       "            obj[key] = original[key];\n",
       "        }\n",
       "        return obj;\n",
       "    }, {});\n",
       "}\n",
       "\n",
       "mpl.figure.prototype.mouse_event = function (event, name) {\n",
       "    var canvas_pos = mpl.findpos(event);\n",
       "\n",
       "    if (name === 'button_press') {\n",
       "        this.canvas.focus();\n",
       "        this.canvas_div.focus();\n",
       "    }\n",
       "\n",
       "    var x = canvas_pos.x * this.ratio;\n",
       "    var y = canvas_pos.y * this.ratio;\n",
       "\n",
       "    this.send_message(name, {\n",
       "        x: x,\n",
       "        y: y,\n",
       "        button: event.button,\n",
       "        step: event.step,\n",
       "        guiEvent: simpleKeys(event),\n",
       "    });\n",
       "\n",
       "    /* This prevents the web browser from automatically changing to\n",
       "     * the text insertion cursor when the button is pressed.  We want\n",
       "     * to control all of the cursor setting manually through the\n",
       "     * 'cursor' event from matplotlib */\n",
       "    event.preventDefault();\n",
       "    return false;\n",
       "};\n",
       "\n",
       "mpl.figure.prototype._key_event_extra = function (_event, _name) {\n",
       "    // Handle any extra behaviour associated with a key event\n",
       "};\n",
       "\n",
       "mpl.figure.prototype.key_event = function (event, name) {\n",
       "    // Prevent repeat events\n",
       "    if (name === 'key_press') {\n",
       "        if (event.which === this._key) {\n",
       "            return;\n",
       "        } else {\n",
       "            this._key = event.which;\n",
       "        }\n",
       "    }\n",
       "    if (name === 'key_release') {\n",
       "        this._key = null;\n",
       "    }\n",
       "\n",
       "    var value = '';\n",
       "    if (event.ctrlKey && event.which !== 17) {\n",
       "        value += 'ctrl+';\n",
       "    }\n",
       "    if (event.altKey && event.which !== 18) {\n",
       "        value += 'alt+';\n",
       "    }\n",
       "    if (event.shiftKey && event.which !== 16) {\n",
       "        value += 'shift+';\n",
       "    }\n",
       "\n",
       "    value += 'k';\n",
       "    value += event.which.toString();\n",
       "\n",
       "    this._key_event_extra(event, name);\n",
       "\n",
       "    this.send_message(name, { key: value, guiEvent: simpleKeys(event) });\n",
       "    return false;\n",
       "};\n",
       "\n",
       "mpl.figure.prototype.toolbar_button_onclick = function (name) {\n",
       "    if (name === 'download') {\n",
       "        this.handle_save(this, null);\n",
       "    } else {\n",
       "        this.send_message('toolbar_button', { name: name });\n",
       "    }\n",
       "};\n",
       "\n",
       "mpl.figure.prototype.toolbar_button_onmouseover = function (tooltip) {\n",
       "    this.message.textContent = tooltip;\n",
       "};\n",
       "mpl.toolbar_items = [[\"Home\", \"Reset original view\", \"fa fa-home icon-home\", \"home\"], [\"Back\", \"Back to previous view\", \"fa fa-arrow-left icon-arrow-left\", \"back\"], [\"Forward\", \"Forward to next view\", \"fa fa-arrow-right icon-arrow-right\", \"forward\"], [\"\", \"\", \"\", \"\"], [\"Pan\", \"Left button pans, Right button zooms\\nx/y fixes axis, CTRL fixes aspect\", \"fa fa-arrows icon-move\", \"pan\"], [\"Zoom\", \"Zoom to rectangle\\nx/y fixes axis, CTRL fixes aspect\", \"fa fa-square-o icon-check-empty\", \"zoom\"], [\"\", \"\", \"\", \"\"], [\"Download\", \"Download plot\", \"fa fa-floppy-o icon-save\", \"download\"]];\n",
       "\n",
       "mpl.extensions = [\"eps\", \"jpeg\", \"pdf\", \"png\", \"ps\", \"raw\", \"svg\", \"tif\"];\n",
       "\n",
       "mpl.default_extension = \"png\";/* global mpl */\n",
       "\n",
       "var comm_websocket_adapter = function (comm) {\n",
       "    // Create a \"websocket\"-like object which calls the given IPython comm\n",
       "    // object with the appropriate methods. Currently this is a non binary\n",
       "    // socket, so there is still some room for performance tuning.\n",
       "    var ws = {};\n",
       "\n",
       "    ws.close = function () {\n",
       "        comm.close();\n",
       "    };\n",
       "    ws.send = function (m) {\n",
       "        //console.log('sending', m);\n",
       "        comm.send(m);\n",
       "    };\n",
       "    // Register the callback with on_msg.\n",
       "    comm.on_msg(function (msg) {\n",
       "        //console.log('receiving', msg['content']['data'], msg);\n",
       "        // Pass the mpl event to the overridden (by mpl) onmessage function.\n",
       "        ws.onmessage(msg['content']['data']);\n",
       "    });\n",
       "    return ws;\n",
       "};\n",
       "\n",
       "mpl.mpl_figure_comm = function (comm, msg) {\n",
       "    // This is the function which gets called when the mpl process\n",
       "    // starts-up an IPython Comm through the \"matplotlib\" channel.\n",
       "\n",
       "    var id = msg.content.data.id;\n",
       "    // Get hold of the div created by the display call when the Comm\n",
       "    // socket was opened in Python.\n",
       "    var element = document.getElementById(id);\n",
       "    var ws_proxy = comm_websocket_adapter(comm);\n",
       "\n",
       "    function ondownload(figure, _format) {\n",
       "        window.open(figure.canvas.toDataURL());\n",
       "    }\n",
       "\n",
       "    var fig = new mpl.figure(id, ws_proxy, ondownload, element);\n",
       "\n",
       "    // Call onopen now - mpl needs it, as it is assuming we've passed it a real\n",
       "    // web socket which is closed, not our websocket->open comm proxy.\n",
       "    ws_proxy.onopen();\n",
       "\n",
       "    fig.parent_element = element;\n",
       "    fig.cell_info = mpl.find_output_cell(\"<div id='\" + id + \"'></div>\");\n",
       "    if (!fig.cell_info) {\n",
       "        console.error('Failed to find cell for figure', id, fig);\n",
       "        return;\n",
       "    }\n",
       "    fig.cell_info[0].output_area.element.one(\n",
       "        'cleared',\n",
       "        { fig: fig },\n",
       "        fig._remove_fig_handler\n",
       "    );\n",
       "};\n",
       "\n",
       "mpl.figure.prototype.handle_close = function (fig, msg) {\n",
       "    var width = fig.canvas.width / fig.ratio;\n",
       "    fig.cell_info[0].output_area.element.off(\n",
       "        'cleared',\n",
       "        fig._remove_fig_handler\n",
       "    );\n",
       "\n",
       "    // Update the output cell to use the data from the current canvas.\n",
       "    fig.push_to_output();\n",
       "    var dataURL = fig.canvas.toDataURL();\n",
       "    // Re-enable the keyboard manager in IPython - without this line, in FF,\n",
       "    // the notebook keyboard shortcuts fail.\n",
       "    IPython.keyboard_manager.enable();\n",
       "    fig.parent_element.innerHTML =\n",
       "        '<img src=\"' + dataURL + '\" width=\"' + width + '\">';\n",
       "    fig.close_ws(fig, msg);\n",
       "};\n",
       "\n",
       "mpl.figure.prototype.close_ws = function (fig, msg) {\n",
       "    fig.send_message('closing', msg);\n",
       "    // fig.ws.close()\n",
       "};\n",
       "\n",
       "mpl.figure.prototype.push_to_output = function (_remove_interactive) {\n",
       "    // Turn the data on the canvas into data in the output cell.\n",
       "    var width = this.canvas.width / this.ratio;\n",
       "    var dataURL = this.canvas.toDataURL();\n",
       "    this.cell_info[1]['text/html'] =\n",
       "        '<img src=\"' + dataURL + '\" width=\"' + width + '\">';\n",
       "};\n",
       "\n",
       "mpl.figure.prototype.updated_canvas_event = function () {\n",
       "    // Tell IPython that the notebook contents must change.\n",
       "    IPython.notebook.set_dirty(true);\n",
       "    this.send_message('ack', {});\n",
       "    var fig = this;\n",
       "    // Wait a second, then push the new image to the DOM so\n",
       "    // that it is saved nicely (might be nice to debounce this).\n",
       "    setTimeout(function () {\n",
       "        fig.push_to_output();\n",
       "    }, 1000);\n",
       "};\n",
       "\n",
       "mpl.figure.prototype._init_toolbar = function () {\n",
       "    var fig = this;\n",
       "\n",
       "    var toolbar = document.createElement('div');\n",
       "    toolbar.classList = 'btn-toolbar';\n",
       "    this.root.appendChild(toolbar);\n",
       "\n",
       "    function on_click_closure(name) {\n",
       "        return function (_event) {\n",
       "            return fig.toolbar_button_onclick(name);\n",
       "        };\n",
       "    }\n",
       "\n",
       "    function on_mouseover_closure(tooltip) {\n",
       "        return function (event) {\n",
       "            if (!event.currentTarget.disabled) {\n",
       "                return fig.toolbar_button_onmouseover(tooltip);\n",
       "            }\n",
       "        };\n",
       "    }\n",
       "\n",
       "    fig.buttons = {};\n",
       "    var buttonGroup = document.createElement('div');\n",
       "    buttonGroup.classList = 'btn-group';\n",
       "    var button;\n",
       "    for (var toolbar_ind in mpl.toolbar_items) {\n",
       "        var name = mpl.toolbar_items[toolbar_ind][0];\n",
       "        var tooltip = mpl.toolbar_items[toolbar_ind][1];\n",
       "        var image = mpl.toolbar_items[toolbar_ind][2];\n",
       "        var method_name = mpl.toolbar_items[toolbar_ind][3];\n",
       "\n",
       "        if (!name) {\n",
       "            /* Instead of a spacer, we start a new button group. */\n",
       "            if (buttonGroup.hasChildNodes()) {\n",
       "                toolbar.appendChild(buttonGroup);\n",
       "            }\n",
       "            buttonGroup = document.createElement('div');\n",
       "            buttonGroup.classList = 'btn-group';\n",
       "            continue;\n",
       "        }\n",
       "\n",
       "        button = fig.buttons[name] = document.createElement('button');\n",
       "        button.classList = 'btn btn-default';\n",
       "        button.href = '#';\n",
       "        button.title = name;\n",
       "        button.innerHTML = '<i class=\"fa ' + image + ' fa-lg\"></i>';\n",
       "        button.addEventListener('click', on_click_closure(method_name));\n",
       "        button.addEventListener('mouseover', on_mouseover_closure(tooltip));\n",
       "        buttonGroup.appendChild(button);\n",
       "    }\n",
       "\n",
       "    if (buttonGroup.hasChildNodes()) {\n",
       "        toolbar.appendChild(buttonGroup);\n",
       "    }\n",
       "\n",
       "    // Add the status bar.\n",
       "    var status_bar = document.createElement('span');\n",
       "    status_bar.classList = 'mpl-message pull-right';\n",
       "    toolbar.appendChild(status_bar);\n",
       "    this.message = status_bar;\n",
       "\n",
       "    // Add the close button to the window.\n",
       "    var buttongrp = document.createElement('div');\n",
       "    buttongrp.classList = 'btn-group inline pull-right';\n",
       "    button = document.createElement('button');\n",
       "    button.classList = 'btn btn-mini btn-primary';\n",
       "    button.href = '#';\n",
       "    button.title = 'Stop Interaction';\n",
       "    button.innerHTML = '<i class=\"fa fa-power-off icon-remove icon-large\"></i>';\n",
       "    button.addEventListener('click', function (_evt) {\n",
       "        fig.handle_close(fig, {});\n",
       "    });\n",
       "    button.addEventListener(\n",
       "        'mouseover',\n",
       "        on_mouseover_closure('Stop Interaction')\n",
       "    );\n",
       "    buttongrp.appendChild(button);\n",
       "    var titlebar = this.root.querySelector('.ui-dialog-titlebar');\n",
       "    titlebar.insertBefore(buttongrp, titlebar.firstChild);\n",
       "};\n",
       "\n",
       "mpl.figure.prototype._remove_fig_handler = function (event) {\n",
       "    var fig = event.data.fig;\n",
       "    fig.close_ws(fig, {});\n",
       "};\n",
       "\n",
       "mpl.figure.prototype._root_extra_style = function (el) {\n",
       "    el.style.boxSizing = 'content-box'; // override notebook setting of border-box.\n",
       "};\n",
       "\n",
       "mpl.figure.prototype._canvas_extra_style = function (el) {\n",
       "    // this is important to make the div 'focusable\n",
       "    el.setAttribute('tabindex', 0);\n",
       "    // reach out to IPython and tell the keyboard manager to turn it's self\n",
       "    // off when our div gets focus\n",
       "\n",
       "    // location in version 3\n",
       "    if (IPython.notebook.keyboard_manager) {\n",
       "        IPython.notebook.keyboard_manager.register_events(el);\n",
       "    } else {\n",
       "        // location in version 2\n",
       "        IPython.keyboard_manager.register_events(el);\n",
       "    }\n",
       "};\n",
       "\n",
       "mpl.figure.prototype._key_event_extra = function (event, _name) {\n",
       "    var manager = IPython.notebook.keyboard_manager;\n",
       "    if (!manager) {\n",
       "        manager = IPython.keyboard_manager;\n",
       "    }\n",
       "\n",
       "    // Check for shift+enter\n",
       "    if (event.shiftKey && event.which === 13) {\n",
       "        this.canvas_div.blur();\n",
       "        // select the cell after this one\n",
       "        var index = IPython.notebook.find_cell_index(this.cell_info[0]);\n",
       "        IPython.notebook.select(index + 1);\n",
       "    }\n",
       "};\n",
       "\n",
       "mpl.figure.prototype.handle_save = function (fig, _msg) {\n",
       "    fig.ondownload(fig, null);\n",
       "};\n",
       "\n",
       "mpl.find_output_cell = function (html_output) {\n",
       "    // Return the cell and output element which can be found *uniquely* in the notebook.\n",
       "    // Note - this is a bit hacky, but it is done because the \"notebook_saving.Notebook\"\n",
       "    // IPython event is triggered only after the cells have been serialised, which for\n",
       "    // our purposes (turning an active figure into a static one), is too late.\n",
       "    var cells = IPython.notebook.get_cells();\n",
       "    var ncells = cells.length;\n",
       "    for (var i = 0; i < ncells; i++) {\n",
       "        var cell = cells[i];\n",
       "        if (cell.cell_type === 'code') {\n",
       "            for (var j = 0; j < cell.output_area.outputs.length; j++) {\n",
       "                var data = cell.output_area.outputs[j];\n",
       "                if (data.data) {\n",
       "                    // IPython >= 3 moved mimebundle to data attribute of output\n",
       "                    data = data.data;\n",
       "                }\n",
       "                if (data['text/html'] === html_output) {\n",
       "                    return [cell, data, j];\n",
       "                }\n",
       "            }\n",
       "        }\n",
       "    }\n",
       "};\n",
       "\n",
       "// Register the function which deals with the matplotlib target/channel.\n",
       "// The kernel may be null if the page has been refreshed.\n",
       "if (IPython.notebook.kernel !== null) {\n",
       "    IPython.notebook.kernel.comm_manager.register_target(\n",
       "        'matplotlib',\n",
       "        mpl.mpl_figure_comm\n",
       "    );\n",
       "}\n"
      ],
      "text/plain": [
       "<IPython.core.display.Javascript object>"
      ]
     },
     "metadata": {},
     "output_type": "display_data"
    },
    {
     "data": {
      "text/html": [
       "<img src=\"data:image/png;base64,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\" width=\"640\">"
      ],
      "text/plain": [
       "<IPython.core.display.HTML object>"
      ]
     },
     "metadata": {},
     "output_type": "display_data"
    },
    {
     "data": {
      "text/plain": [
       "<mpl_toolkits.mplot3d.art3d.Line3DCollection at 0x7f4b45d36430>"
      ]
     },
     "execution_count": 131,
     "metadata": {},
     "output_type": "execute_result"
    }
   ],
   "source": [
    "from mpl_toolkits.mplot3d import Axes3D\n",
    "fig = plt.figure()\n",
    "ax = plt.axes(projection=\"3d\")\n",
    "\n",
    "def z_function(x, y):\n",
    "    return np.sin(np.sqrt(x ** 2 + y ** 2))\n",
    "\n",
    "xx = np.linspace(-6, 6, 30)\n",
    "yy = np.linspace(-6, 6, 30)\n",
    "\n",
    "XX, YY = np.meshgrid(xx, yy)\n",
    "ZZ = z_function(XX, YY)\n",
    "ax.plot_wireframe(XX, YY, ZZ, color='green')"
   ]
  },
  {
   "cell_type": "code",
   "execution_count": 120,
   "metadata": {},
   "outputs": [
    {
     "data": {
      "text/plain": [
       "(30, 30)"
      ]
     },
     "execution_count": 120,
     "metadata": {},
     "output_type": "execute_result"
    }
   ],
   "source": [
    "ZZ.shape"
   ]
  },
  {
   "cell_type": "code",
   "execution_count": 143,
   "metadata": {},
   "outputs": [
    {
     "data": {
      "application/javascript": [
       "/* Put everything inside the global mpl namespace */\n",
       "/* global mpl */\n",
       "window.mpl = {};\n",
       "\n",
       "mpl.get_websocket_type = function () {\n",
       "    if (typeof WebSocket !== 'undefined') {\n",
       "        return WebSocket;\n",
       "    } else if (typeof MozWebSocket !== 'undefined') {\n",
       "        return MozWebSocket;\n",
       "    } else {\n",
       "        alert(\n",
       "            'Your browser does not have WebSocket support. ' +\n",
       "                'Please try Chrome, Safari or Firefox ≥ 6. ' +\n",
       "                'Firefox 4 and 5 are also supported but you ' +\n",
       "                'have to enable WebSockets in about:config.'\n",
       "        );\n",
       "    }\n",
       "};\n",
       "\n",
       "mpl.figure = function (figure_id, websocket, ondownload, parent_element) {\n",
       "    this.id = figure_id;\n",
       "\n",
       "    this.ws = websocket;\n",
       "\n",
       "    this.supports_binary = this.ws.binaryType !== undefined;\n",
       "\n",
       "    if (!this.supports_binary) {\n",
       "        var warnings = document.getElementById('mpl-warnings');\n",
       "        if (warnings) {\n",
       "            warnings.style.display = 'block';\n",
       "            warnings.textContent =\n",
       "                'This browser does not support binary websocket messages. ' +\n",
       "                'Performance may be slow.';\n",
       "        }\n",
       "    }\n",
       "\n",
       "    this.imageObj = new Image();\n",
       "\n",
       "    this.context = undefined;\n",
       "    this.message = undefined;\n",
       "    this.canvas = undefined;\n",
       "    this.rubberband_canvas = undefined;\n",
       "    this.rubberband_context = undefined;\n",
       "    this.format_dropdown = undefined;\n",
       "\n",
       "    this.image_mode = 'full';\n",
       "\n",
       "    this.root = document.createElement('div');\n",
       "    this.root.setAttribute('style', 'display: inline-block');\n",
       "    this._root_extra_style(this.root);\n",
       "\n",
       "    parent_element.appendChild(this.root);\n",
       "\n",
       "    this._init_header(this);\n",
       "    this._init_canvas(this);\n",
       "    this._init_toolbar(this);\n",
       "\n",
       "    var fig = this;\n",
       "\n",
       "    this.waiting = false;\n",
       "\n",
       "    this.ws.onopen = function () {\n",
       "        fig.send_message('supports_binary', { value: fig.supports_binary });\n",
       "        fig.send_message('send_image_mode', {});\n",
       "        if (fig.ratio !== 1) {\n",
       "            fig.send_message('set_dpi_ratio', { dpi_ratio: fig.ratio });\n",
       "        }\n",
       "        fig.send_message('refresh', {});\n",
       "    };\n",
       "\n",
       "    this.imageObj.onload = function () {\n",
       "        if (fig.image_mode === 'full') {\n",
       "            // Full images could contain transparency (where diff images\n",
       "            // almost always do), so we need to clear the canvas so that\n",
       "            // there is no ghosting.\n",
       "            fig.context.clearRect(0, 0, fig.canvas.width, fig.canvas.height);\n",
       "        }\n",
       "        fig.context.drawImage(fig.imageObj, 0, 0);\n",
       "    };\n",
       "\n",
       "    this.imageObj.onunload = function () {\n",
       "        fig.ws.close();\n",
       "    };\n",
       "\n",
       "    this.ws.onmessage = this._make_on_message_function(this);\n",
       "\n",
       "    this.ondownload = ondownload;\n",
       "};\n",
       "\n",
       "mpl.figure.prototype._init_header = function () {\n",
       "    var titlebar = document.createElement('div');\n",
       "    titlebar.classList =\n",
       "        'ui-dialog-titlebar ui-widget-header ui-corner-all ui-helper-clearfix';\n",
       "    var titletext = document.createElement('div');\n",
       "    titletext.classList = 'ui-dialog-title';\n",
       "    titletext.setAttribute(\n",
       "        'style',\n",
       "        'width: 100%; text-align: center; padding: 3px;'\n",
       "    );\n",
       "    titlebar.appendChild(titletext);\n",
       "    this.root.appendChild(titlebar);\n",
       "    this.header = titletext;\n",
       "};\n",
       "\n",
       "mpl.figure.prototype._canvas_extra_style = function (_canvas_div) {};\n",
       "\n",
       "mpl.figure.prototype._root_extra_style = function (_canvas_div) {};\n",
       "\n",
       "mpl.figure.prototype._init_canvas = function () {\n",
       "    var fig = this;\n",
       "\n",
       "    var canvas_div = (this.canvas_div = document.createElement('div'));\n",
       "    canvas_div.setAttribute(\n",
       "        'style',\n",
       "        'border: 1px solid #ddd;' +\n",
       "            'box-sizing: content-box;' +\n",
       "            'clear: both;' +\n",
       "            'min-height: 1px;' +\n",
       "            'min-width: 1px;' +\n",
       "            'outline: 0;' +\n",
       "            'overflow: hidden;' +\n",
       "            'position: relative;' +\n",
       "            'resize: both;'\n",
       "    );\n",
       "\n",
       "    function on_keyboard_event_closure(name) {\n",
       "        return function (event) {\n",
       "            return fig.key_event(event, name);\n",
       "        };\n",
       "    }\n",
       "\n",
       "    canvas_div.addEventListener(\n",
       "        'keydown',\n",
       "        on_keyboard_event_closure('key_press')\n",
       "    );\n",
       "    canvas_div.addEventListener(\n",
       "        'keyup',\n",
       "        on_keyboard_event_closure('key_release')\n",
       "    );\n",
       "\n",
       "    this._canvas_extra_style(canvas_div);\n",
       "    this.root.appendChild(canvas_div);\n",
       "\n",
       "    var canvas = (this.canvas = document.createElement('canvas'));\n",
       "    canvas.classList.add('mpl-canvas');\n",
       "    canvas.setAttribute('style', 'box-sizing: content-box;');\n",
       "\n",
       "    this.context = canvas.getContext('2d');\n",
       "\n",
       "    var backingStore =\n",
       "        this.context.backingStorePixelRatio ||\n",
       "        this.context.webkitBackingStorePixelRatio ||\n",
       "        this.context.mozBackingStorePixelRatio ||\n",
       "        this.context.msBackingStorePixelRatio ||\n",
       "        this.context.oBackingStorePixelRatio ||\n",
       "        this.context.backingStorePixelRatio ||\n",
       "        1;\n",
       "\n",
       "    this.ratio = (window.devicePixelRatio || 1) / backingStore;\n",
       "    if (this.ratio !== 1) {\n",
       "        fig.send_message('set_dpi_ratio', { dpi_ratio: this.ratio });\n",
       "    }\n",
       "\n",
       "    var rubberband_canvas = (this.rubberband_canvas = document.createElement(\n",
       "        'canvas'\n",
       "    ));\n",
       "    rubberband_canvas.setAttribute(\n",
       "        'style',\n",
       "        'box-sizing: content-box; position: absolute; left: 0; top: 0; z-index: 1;'\n",
       "    );\n",
       "\n",
       "    var resizeObserver = new ResizeObserver(function (entries) {\n",
       "        var nentries = entries.length;\n",
       "        for (var i = 0; i < nentries; i++) {\n",
       "            var entry = entries[i];\n",
       "            var width, height;\n",
       "            if (entry.contentBoxSize) {\n",
       "                if (entry.contentBoxSize instanceof Array) {\n",
       "                    // Chrome 84 implements new version of spec.\n",
       "                    width = entry.contentBoxSize[0].inlineSize;\n",
       "                    height = entry.contentBoxSize[0].blockSize;\n",
       "                } else {\n",
       "                    // Firefox implements old version of spec.\n",
       "                    width = entry.contentBoxSize.inlineSize;\n",
       "                    height = entry.contentBoxSize.blockSize;\n",
       "                }\n",
       "            } else {\n",
       "                // Chrome <84 implements even older version of spec.\n",
       "                width = entry.contentRect.width;\n",
       "                height = entry.contentRect.height;\n",
       "            }\n",
       "\n",
       "            // Keep the size of the canvas and rubber band canvas in sync with\n",
       "            // the canvas container.\n",
       "            if (entry.devicePixelContentBoxSize) {\n",
       "                // Chrome 84 implements new version of spec.\n",
       "                canvas.setAttribute(\n",
       "                    'width',\n",
       "                    entry.devicePixelContentBoxSize[0].inlineSize\n",
       "                );\n",
       "                canvas.setAttribute(\n",
       "                    'height',\n",
       "                    entry.devicePixelContentBoxSize[0].blockSize\n",
       "                );\n",
       "            } else {\n",
       "                canvas.setAttribute('width', width * fig.ratio);\n",
       "                canvas.setAttribute('height', height * fig.ratio);\n",
       "            }\n",
       "            canvas.setAttribute(\n",
       "                'style',\n",
       "                'width: ' + width + 'px; height: ' + height + 'px;'\n",
       "            );\n",
       "\n",
       "            rubberband_canvas.setAttribute('width', width);\n",
       "            rubberband_canvas.setAttribute('height', height);\n",
       "\n",
       "            // And update the size in Python. We ignore the initial 0/0 size\n",
       "            // that occurs as the element is placed into the DOM, which should\n",
       "            // otherwise not happen due to the minimum size styling.\n",
       "            if (width != 0 && height != 0) {\n",
       "                fig.request_resize(width, height);\n",
       "            }\n",
       "        }\n",
       "    });\n",
       "    resizeObserver.observe(canvas_div);\n",
       "\n",
       "    function on_mouse_event_closure(name) {\n",
       "        return function (event) {\n",
       "            return fig.mouse_event(event, name);\n",
       "        };\n",
       "    }\n",
       "\n",
       "    rubberband_canvas.addEventListener(\n",
       "        'mousedown',\n",
       "        on_mouse_event_closure('button_press')\n",
       "    );\n",
       "    rubberband_canvas.addEventListener(\n",
       "        'mouseup',\n",
       "        on_mouse_event_closure('button_release')\n",
       "    );\n",
       "    // Throttle sequential mouse events to 1 every 20ms.\n",
       "    rubberband_canvas.addEventListener(\n",
       "        'mousemove',\n",
       "        on_mouse_event_closure('motion_notify')\n",
       "    );\n",
       "\n",
       "    rubberband_canvas.addEventListener(\n",
       "        'mouseenter',\n",
       "        on_mouse_event_closure('figure_enter')\n",
       "    );\n",
       "    rubberband_canvas.addEventListener(\n",
       "        'mouseleave',\n",
       "        on_mouse_event_closure('figure_leave')\n",
       "    );\n",
       "\n",
       "    canvas_div.addEventListener('wheel', function (event) {\n",
       "        if (event.deltaY < 0) {\n",
       "            event.step = 1;\n",
       "        } else {\n",
       "            event.step = -1;\n",
       "        }\n",
       "        on_mouse_event_closure('scroll')(event);\n",
       "    });\n",
       "\n",
       "    canvas_div.appendChild(canvas);\n",
       "    canvas_div.appendChild(rubberband_canvas);\n",
       "\n",
       "    this.rubberband_context = rubberband_canvas.getContext('2d');\n",
       "    this.rubberband_context.strokeStyle = '#000000';\n",
       "\n",
       "    this._resize_canvas = function (width, height, forward) {\n",
       "        if (forward) {\n",
       "            canvas_div.style.width = width + 'px';\n",
       "            canvas_div.style.height = height + 'px';\n",
       "        }\n",
       "    };\n",
       "\n",
       "    // Disable right mouse context menu.\n",
       "    this.rubberband_canvas.addEventListener('contextmenu', function (_e) {\n",
       "        event.preventDefault();\n",
       "        return false;\n",
       "    });\n",
       "\n",
       "    function set_focus() {\n",
       "        canvas.focus();\n",
       "        canvas_div.focus();\n",
       "    }\n",
       "\n",
       "    window.setTimeout(set_focus, 100);\n",
       "};\n",
       "\n",
       "mpl.figure.prototype._init_toolbar = function () {\n",
       "    var fig = this;\n",
       "\n",
       "    var toolbar = document.createElement('div');\n",
       "    toolbar.classList = 'mpl-toolbar';\n",
       "    this.root.appendChild(toolbar);\n",
       "\n",
       "    function on_click_closure(name) {\n",
       "        return function (_event) {\n",
       "            return fig.toolbar_button_onclick(name);\n",
       "        };\n",
       "    }\n",
       "\n",
       "    function on_mouseover_closure(tooltip) {\n",
       "        return function (event) {\n",
       "            if (!event.currentTarget.disabled) {\n",
       "                return fig.toolbar_button_onmouseover(tooltip);\n",
       "            }\n",
       "        };\n",
       "    }\n",
       "\n",
       "    fig.buttons = {};\n",
       "    var buttonGroup = document.createElement('div');\n",
       "    buttonGroup.classList = 'mpl-button-group';\n",
       "    for (var toolbar_ind in mpl.toolbar_items) {\n",
       "        var name = mpl.toolbar_items[toolbar_ind][0];\n",
       "        var tooltip = mpl.toolbar_items[toolbar_ind][1];\n",
       "        var image = mpl.toolbar_items[toolbar_ind][2];\n",
       "        var method_name = mpl.toolbar_items[toolbar_ind][3];\n",
       "\n",
       "        if (!name) {\n",
       "            /* Instead of a spacer, we start a new button group. */\n",
       "            if (buttonGroup.hasChildNodes()) {\n",
       "                toolbar.appendChild(buttonGroup);\n",
       "            }\n",
       "            buttonGroup = document.createElement('div');\n",
       "            buttonGroup.classList = 'mpl-button-group';\n",
       "            continue;\n",
       "        }\n",
       "\n",
       "        var button = (fig.buttons[name] = document.createElement('button'));\n",
       "        button.classList = 'mpl-widget';\n",
       "        button.setAttribute('role', 'button');\n",
       "        button.setAttribute('aria-disabled', 'false');\n",
       "        button.addEventListener('click', on_click_closure(method_name));\n",
       "        button.addEventListener('mouseover', on_mouseover_closure(tooltip));\n",
       "\n",
       "        var icon_img = document.createElement('img');\n",
       "        icon_img.src = '_images/' + image + '.png';\n",
       "        icon_img.srcset = '_images/' + image + '_large.png 2x';\n",
       "        icon_img.alt = tooltip;\n",
       "        button.appendChild(icon_img);\n",
       "\n",
       "        buttonGroup.appendChild(button);\n",
       "    }\n",
       "\n",
       "    if (buttonGroup.hasChildNodes()) {\n",
       "        toolbar.appendChild(buttonGroup);\n",
       "    }\n",
       "\n",
       "    var fmt_picker = document.createElement('select');\n",
       "    fmt_picker.classList = 'mpl-widget';\n",
       "    toolbar.appendChild(fmt_picker);\n",
       "    this.format_dropdown = fmt_picker;\n",
       "\n",
       "    for (var ind in mpl.extensions) {\n",
       "        var fmt = mpl.extensions[ind];\n",
       "        var option = document.createElement('option');\n",
       "        option.selected = fmt === mpl.default_extension;\n",
       "        option.innerHTML = fmt;\n",
       "        fmt_picker.appendChild(option);\n",
       "    }\n",
       "\n",
       "    var status_bar = document.createElement('span');\n",
       "    status_bar.classList = 'mpl-message';\n",
       "    toolbar.appendChild(status_bar);\n",
       "    this.message = status_bar;\n",
       "};\n",
       "\n",
       "mpl.figure.prototype.request_resize = function (x_pixels, y_pixels) {\n",
       "    // Request matplotlib to resize the figure. Matplotlib will then trigger a resize in the client,\n",
       "    // which will in turn request a refresh of the image.\n",
       "    this.send_message('resize', { width: x_pixels, height: y_pixels });\n",
       "};\n",
       "\n",
       "mpl.figure.prototype.send_message = function (type, properties) {\n",
       "    properties['type'] = type;\n",
       "    properties['figure_id'] = this.id;\n",
       "    this.ws.send(JSON.stringify(properties));\n",
       "};\n",
       "\n",
       "mpl.figure.prototype.send_draw_message = function () {\n",
       "    if (!this.waiting) {\n",
       "        this.waiting = true;\n",
       "        this.ws.send(JSON.stringify({ type: 'draw', figure_id: this.id }));\n",
       "    }\n",
       "};\n",
       "\n",
       "mpl.figure.prototype.handle_save = function (fig, _msg) {\n",
       "    var format_dropdown = fig.format_dropdown;\n",
       "    var format = format_dropdown.options[format_dropdown.selectedIndex].value;\n",
       "    fig.ondownload(fig, format);\n",
       "};\n",
       "\n",
       "mpl.figure.prototype.handle_resize = function (fig, msg) {\n",
       "    var size = msg['size'];\n",
       "    if (size[0] !== fig.canvas.width || size[1] !== fig.canvas.height) {\n",
       "        fig._resize_canvas(size[0], size[1], msg['forward']);\n",
       "        fig.send_message('refresh', {});\n",
       "    }\n",
       "};\n",
       "\n",
       "mpl.figure.prototype.handle_rubberband = function (fig, msg) {\n",
       "    var x0 = msg['x0'] / fig.ratio;\n",
       "    var y0 = (fig.canvas.height - msg['y0']) / fig.ratio;\n",
       "    var x1 = msg['x1'] / fig.ratio;\n",
       "    var y1 = (fig.canvas.height - msg['y1']) / fig.ratio;\n",
       "    x0 = Math.floor(x0) + 0.5;\n",
       "    y0 = Math.floor(y0) + 0.5;\n",
       "    x1 = Math.floor(x1) + 0.5;\n",
       "    y1 = Math.floor(y1) + 0.5;\n",
       "    var min_x = Math.min(x0, x1);\n",
       "    var min_y = Math.min(y0, y1);\n",
       "    var width = Math.abs(x1 - x0);\n",
       "    var height = Math.abs(y1 - y0);\n",
       "\n",
       "    fig.rubberband_context.clearRect(\n",
       "        0,\n",
       "        0,\n",
       "        fig.canvas.width / fig.ratio,\n",
       "        fig.canvas.height / fig.ratio\n",
       "    );\n",
       "\n",
       "    fig.rubberband_context.strokeRect(min_x, min_y, width, height);\n",
       "};\n",
       "\n",
       "mpl.figure.prototype.handle_figure_label = function (fig, msg) {\n",
       "    // Updates the figure title.\n",
       "    fig.header.textContent = msg['label'];\n",
       "};\n",
       "\n",
       "mpl.figure.prototype.handle_cursor = function (fig, msg) {\n",
       "    var cursor = msg['cursor'];\n",
       "    switch (cursor) {\n",
       "        case 0:\n",
       "            cursor = 'pointer';\n",
       "            break;\n",
       "        case 1:\n",
       "            cursor = 'default';\n",
       "            break;\n",
       "        case 2:\n",
       "            cursor = 'crosshair';\n",
       "            break;\n",
       "        case 3:\n",
       "            cursor = 'move';\n",
       "            break;\n",
       "    }\n",
       "    fig.rubberband_canvas.style.cursor = cursor;\n",
       "};\n",
       "\n",
       "mpl.figure.prototype.handle_message = function (fig, msg) {\n",
       "    fig.message.textContent = msg['message'];\n",
       "};\n",
       "\n",
       "mpl.figure.prototype.handle_draw = function (fig, _msg) {\n",
       "    // Request the server to send over a new figure.\n",
       "    fig.send_draw_message();\n",
       "};\n",
       "\n",
       "mpl.figure.prototype.handle_image_mode = function (fig, msg) {\n",
       "    fig.image_mode = msg['mode'];\n",
       "};\n",
       "\n",
       "mpl.figure.prototype.handle_history_buttons = function (fig, msg) {\n",
       "    for (var key in msg) {\n",
       "        if (!(key in fig.buttons)) {\n",
       "            continue;\n",
       "        }\n",
       "        fig.buttons[key].disabled = !msg[key];\n",
       "        fig.buttons[key].setAttribute('aria-disabled', !msg[key]);\n",
       "    }\n",
       "};\n",
       "\n",
       "mpl.figure.prototype.handle_navigate_mode = function (fig, msg) {\n",
       "    if (msg['mode'] === 'PAN') {\n",
       "        fig.buttons['Pan'].classList.add('active');\n",
       "        fig.buttons['Zoom'].classList.remove('active');\n",
       "    } else if (msg['mode'] === 'ZOOM') {\n",
       "        fig.buttons['Pan'].classList.remove('active');\n",
       "        fig.buttons['Zoom'].classList.add('active');\n",
       "    } else {\n",
       "        fig.buttons['Pan'].classList.remove('active');\n",
       "        fig.buttons['Zoom'].classList.remove('active');\n",
       "    }\n",
       "};\n",
       "\n",
       "mpl.figure.prototype.updated_canvas_event = function () {\n",
       "    // Called whenever the canvas gets updated.\n",
       "    this.send_message('ack', {});\n",
       "};\n",
       "\n",
       "// A function to construct a web socket function for onmessage handling.\n",
       "// Called in the figure constructor.\n",
       "mpl.figure.prototype._make_on_message_function = function (fig) {\n",
       "    return function socket_on_message(evt) {\n",
       "        if (evt.data instanceof Blob) {\n",
       "            /* FIXME: We get \"Resource interpreted as Image but\n",
       "             * transferred with MIME type text/plain:\" errors on\n",
       "             * Chrome.  But how to set the MIME type?  It doesn't seem\n",
       "             * to be part of the websocket stream */\n",
       "            evt.data.type = 'image/png';\n",
       "\n",
       "            /* Free the memory for the previous frames */\n",
       "            if (fig.imageObj.src) {\n",
       "                (window.URL || window.webkitURL).revokeObjectURL(\n",
       "                    fig.imageObj.src\n",
       "                );\n",
       "            }\n",
       "\n",
       "            fig.imageObj.src = (window.URL || window.webkitURL).createObjectURL(\n",
       "                evt.data\n",
       "            );\n",
       "            fig.updated_canvas_event();\n",
       "            fig.waiting = false;\n",
       "            return;\n",
       "        } else if (\n",
       "            typeof evt.data === 'string' &&\n",
       "            evt.data.slice(0, 21) === 'data:image/png;base64'\n",
       "        ) {\n",
       "            fig.imageObj.src = evt.data;\n",
       "            fig.updated_canvas_event();\n",
       "            fig.waiting = false;\n",
       "            return;\n",
       "        }\n",
       "\n",
       "        var msg = JSON.parse(evt.data);\n",
       "        var msg_type = msg['type'];\n",
       "\n",
       "        // Call the  \"handle_{type}\" callback, which takes\n",
       "        // the figure and JSON message as its only arguments.\n",
       "        try {\n",
       "            var callback = fig['handle_' + msg_type];\n",
       "        } catch (e) {\n",
       "            console.log(\n",
       "                \"No handler for the '\" + msg_type + \"' message type: \",\n",
       "                msg\n",
       "            );\n",
       "            return;\n",
       "        }\n",
       "\n",
       "        if (callback) {\n",
       "            try {\n",
       "                // console.log(\"Handling '\" + msg_type + \"' message: \", msg);\n",
       "                callback(fig, msg);\n",
       "            } catch (e) {\n",
       "                console.log(\n",
       "                    \"Exception inside the 'handler_\" + msg_type + \"' callback:\",\n",
       "                    e,\n",
       "                    e.stack,\n",
       "                    msg\n",
       "                );\n",
       "            }\n",
       "        }\n",
       "    };\n",
       "};\n",
       "\n",
       "// from http://stackoverflow.com/questions/1114465/getting-mouse-location-in-canvas\n",
       "mpl.findpos = function (e) {\n",
       "    //this section is from http://www.quirksmode.org/js/events_properties.html\n",
       "    var targ;\n",
       "    if (!e) {\n",
       "        e = window.event;\n",
       "    }\n",
       "    if (e.target) {\n",
       "        targ = e.target;\n",
       "    } else if (e.srcElement) {\n",
       "        targ = e.srcElement;\n",
       "    }\n",
       "    if (targ.nodeType === 3) {\n",
       "        // defeat Safari bug\n",
       "        targ = targ.parentNode;\n",
       "    }\n",
       "\n",
       "    // pageX,Y are the mouse positions relative to the document\n",
       "    var boundingRect = targ.getBoundingClientRect();\n",
       "    var x = e.pageX - (boundingRect.left + document.body.scrollLeft);\n",
       "    var y = e.pageY - (boundingRect.top + document.body.scrollTop);\n",
       "\n",
       "    return { x: x, y: y };\n",
       "};\n",
       "\n",
       "/*\n",
       " * return a copy of an object with only non-object keys\n",
       " * we need this to avoid circular references\n",
       " * http://stackoverflow.com/a/24161582/3208463\n",
       " */\n",
       "function simpleKeys(original) {\n",
       "    return Object.keys(original).reduce(function (obj, key) {\n",
       "        if (typeof original[key] !== 'object') {\n",
       "            obj[key] = original[key];\n",
       "        }\n",
       "        return obj;\n",
       "    }, {});\n",
       "}\n",
       "\n",
       "mpl.figure.prototype.mouse_event = function (event, name) {\n",
       "    var canvas_pos = mpl.findpos(event);\n",
       "\n",
       "    if (name === 'button_press') {\n",
       "        this.canvas.focus();\n",
       "        this.canvas_div.focus();\n",
       "    }\n",
       "\n",
       "    var x = canvas_pos.x * this.ratio;\n",
       "    var y = canvas_pos.y * this.ratio;\n",
       "\n",
       "    this.send_message(name, {\n",
       "        x: x,\n",
       "        y: y,\n",
       "        button: event.button,\n",
       "        step: event.step,\n",
       "        guiEvent: simpleKeys(event),\n",
       "    });\n",
       "\n",
       "    /* This prevents the web browser from automatically changing to\n",
       "     * the text insertion cursor when the button is pressed.  We want\n",
       "     * to control all of the cursor setting manually through the\n",
       "     * 'cursor' event from matplotlib */\n",
       "    event.preventDefault();\n",
       "    return false;\n",
       "};\n",
       "\n",
       "mpl.figure.prototype._key_event_extra = function (_event, _name) {\n",
       "    // Handle any extra behaviour associated with a key event\n",
       "};\n",
       "\n",
       "mpl.figure.prototype.key_event = function (event, name) {\n",
       "    // Prevent repeat events\n",
       "    if (name === 'key_press') {\n",
       "        if (event.which === this._key) {\n",
       "            return;\n",
       "        } else {\n",
       "            this._key = event.which;\n",
       "        }\n",
       "    }\n",
       "    if (name === 'key_release') {\n",
       "        this._key = null;\n",
       "    }\n",
       "\n",
       "    var value = '';\n",
       "    if (event.ctrlKey && event.which !== 17) {\n",
       "        value += 'ctrl+';\n",
       "    }\n",
       "    if (event.altKey && event.which !== 18) {\n",
       "        value += 'alt+';\n",
       "    }\n",
       "    if (event.shiftKey && event.which !== 16) {\n",
       "        value += 'shift+';\n",
       "    }\n",
       "\n",
       "    value += 'k';\n",
       "    value += event.which.toString();\n",
       "\n",
       "    this._key_event_extra(event, name);\n",
       "\n",
       "    this.send_message(name, { key: value, guiEvent: simpleKeys(event) });\n",
       "    return false;\n",
       "};\n",
       "\n",
       "mpl.figure.prototype.toolbar_button_onclick = function (name) {\n",
       "    if (name === 'download') {\n",
       "        this.handle_save(this, null);\n",
       "    } else {\n",
       "        this.send_message('toolbar_button', { name: name });\n",
       "    }\n",
       "};\n",
       "\n",
       "mpl.figure.prototype.toolbar_button_onmouseover = function (tooltip) {\n",
       "    this.message.textContent = tooltip;\n",
       "};\n",
       "mpl.toolbar_items = [[\"Home\", \"Reset original view\", \"fa fa-home icon-home\", \"home\"], [\"Back\", \"Back to previous view\", \"fa fa-arrow-left icon-arrow-left\", \"back\"], [\"Forward\", \"Forward to next view\", \"fa fa-arrow-right icon-arrow-right\", \"forward\"], [\"\", \"\", \"\", \"\"], [\"Pan\", \"Left button pans, Right button zooms\\nx/y fixes axis, CTRL fixes aspect\", \"fa fa-arrows icon-move\", \"pan\"], [\"Zoom\", \"Zoom to rectangle\\nx/y fixes axis, CTRL fixes aspect\", \"fa fa-square-o icon-check-empty\", \"zoom\"], [\"\", \"\", \"\", \"\"], [\"Download\", \"Download plot\", \"fa fa-floppy-o icon-save\", \"download\"]];\n",
       "\n",
       "mpl.extensions = [\"eps\", \"jpeg\", \"pdf\", \"png\", \"ps\", \"raw\", \"svg\", \"tif\"];\n",
       "\n",
       "mpl.default_extension = \"png\";/* global mpl */\n",
       "\n",
       "var comm_websocket_adapter = function (comm) {\n",
       "    // Create a \"websocket\"-like object which calls the given IPython comm\n",
       "    // object with the appropriate methods. Currently this is a non binary\n",
       "    // socket, so there is still some room for performance tuning.\n",
       "    var ws = {};\n",
       "\n",
       "    ws.close = function () {\n",
       "        comm.close();\n",
       "    };\n",
       "    ws.send = function (m) {\n",
       "        //console.log('sending', m);\n",
       "        comm.send(m);\n",
       "    };\n",
       "    // Register the callback with on_msg.\n",
       "    comm.on_msg(function (msg) {\n",
       "        //console.log('receiving', msg['content']['data'], msg);\n",
       "        // Pass the mpl event to the overridden (by mpl) onmessage function.\n",
       "        ws.onmessage(msg['content']['data']);\n",
       "    });\n",
       "    return ws;\n",
       "};\n",
       "\n",
       "mpl.mpl_figure_comm = function (comm, msg) {\n",
       "    // This is the function which gets called when the mpl process\n",
       "    // starts-up an IPython Comm through the \"matplotlib\" channel.\n",
       "\n",
       "    var id = msg.content.data.id;\n",
       "    // Get hold of the div created by the display call when the Comm\n",
       "    // socket was opened in Python.\n",
       "    var element = document.getElementById(id);\n",
       "    var ws_proxy = comm_websocket_adapter(comm);\n",
       "\n",
       "    function ondownload(figure, _format) {\n",
       "        window.open(figure.canvas.toDataURL());\n",
       "    }\n",
       "\n",
       "    var fig = new mpl.figure(id, ws_proxy, ondownload, element);\n",
       "\n",
       "    // Call onopen now - mpl needs it, as it is assuming we've passed it a real\n",
       "    // web socket which is closed, not our websocket->open comm proxy.\n",
       "    ws_proxy.onopen();\n",
       "\n",
       "    fig.parent_element = element;\n",
       "    fig.cell_info = mpl.find_output_cell(\"<div id='\" + id + \"'></div>\");\n",
       "    if (!fig.cell_info) {\n",
       "        console.error('Failed to find cell for figure', id, fig);\n",
       "        return;\n",
       "    }\n",
       "    fig.cell_info[0].output_area.element.one(\n",
       "        'cleared',\n",
       "        { fig: fig },\n",
       "        fig._remove_fig_handler\n",
       "    );\n",
       "};\n",
       "\n",
       "mpl.figure.prototype.handle_close = function (fig, msg) {\n",
       "    var width = fig.canvas.width / fig.ratio;\n",
       "    fig.cell_info[0].output_area.element.off(\n",
       "        'cleared',\n",
       "        fig._remove_fig_handler\n",
       "    );\n",
       "\n",
       "    // Update the output cell to use the data from the current canvas.\n",
       "    fig.push_to_output();\n",
       "    var dataURL = fig.canvas.toDataURL();\n",
       "    // Re-enable the keyboard manager in IPython - without this line, in FF,\n",
       "    // the notebook keyboard shortcuts fail.\n",
       "    IPython.keyboard_manager.enable();\n",
       "    fig.parent_element.innerHTML =\n",
       "        '<img src=\"' + dataURL + '\" width=\"' + width + '\">';\n",
       "    fig.close_ws(fig, msg);\n",
       "};\n",
       "\n",
       "mpl.figure.prototype.close_ws = function (fig, msg) {\n",
       "    fig.send_message('closing', msg);\n",
       "    // fig.ws.close()\n",
       "};\n",
       "\n",
       "mpl.figure.prototype.push_to_output = function (_remove_interactive) {\n",
       "    // Turn the data on the canvas into data in the output cell.\n",
       "    var width = this.canvas.width / this.ratio;\n",
       "    var dataURL = this.canvas.toDataURL();\n",
       "    this.cell_info[1]['text/html'] =\n",
       "        '<img src=\"' + dataURL + '\" width=\"' + width + '\">';\n",
       "};\n",
       "\n",
       "mpl.figure.prototype.updated_canvas_event = function () {\n",
       "    // Tell IPython that the notebook contents must change.\n",
       "    IPython.notebook.set_dirty(true);\n",
       "    this.send_message('ack', {});\n",
       "    var fig = this;\n",
       "    // Wait a second, then push the new image to the DOM so\n",
       "    // that it is saved nicely (might be nice to debounce this).\n",
       "    setTimeout(function () {\n",
       "        fig.push_to_output();\n",
       "    }, 1000);\n",
       "};\n",
       "\n",
       "mpl.figure.prototype._init_toolbar = function () {\n",
       "    var fig = this;\n",
       "\n",
       "    var toolbar = document.createElement('div');\n",
       "    toolbar.classList = 'btn-toolbar';\n",
       "    this.root.appendChild(toolbar);\n",
       "\n",
       "    function on_click_closure(name) {\n",
       "        return function (_event) {\n",
       "            return fig.toolbar_button_onclick(name);\n",
       "        };\n",
       "    }\n",
       "\n",
       "    function on_mouseover_closure(tooltip) {\n",
       "        return function (event) {\n",
       "            if (!event.currentTarget.disabled) {\n",
       "                return fig.toolbar_button_onmouseover(tooltip);\n",
       "            }\n",
       "        };\n",
       "    }\n",
       "\n",
       "    fig.buttons = {};\n",
       "    var buttonGroup = document.createElement('div');\n",
       "    buttonGroup.classList = 'btn-group';\n",
       "    var button;\n",
       "    for (var toolbar_ind in mpl.toolbar_items) {\n",
       "        var name = mpl.toolbar_items[toolbar_ind][0];\n",
       "        var tooltip = mpl.toolbar_items[toolbar_ind][1];\n",
       "        var image = mpl.toolbar_items[toolbar_ind][2];\n",
       "        var method_name = mpl.toolbar_items[toolbar_ind][3];\n",
       "\n",
       "        if (!name) {\n",
       "            /* Instead of a spacer, we start a new button group. */\n",
       "            if (buttonGroup.hasChildNodes()) {\n",
       "                toolbar.appendChild(buttonGroup);\n",
       "            }\n",
       "            buttonGroup = document.createElement('div');\n",
       "            buttonGroup.classList = 'btn-group';\n",
       "            continue;\n",
       "        }\n",
       "\n",
       "        button = fig.buttons[name] = document.createElement('button');\n",
       "        button.classList = 'btn btn-default';\n",
       "        button.href = '#';\n",
       "        button.title = name;\n",
       "        button.innerHTML = '<i class=\"fa ' + image + ' fa-lg\"></i>';\n",
       "        button.addEventListener('click', on_click_closure(method_name));\n",
       "        button.addEventListener('mouseover', on_mouseover_closure(tooltip));\n",
       "        buttonGroup.appendChild(button);\n",
       "    }\n",
       "\n",
       "    if (buttonGroup.hasChildNodes()) {\n",
       "        toolbar.appendChild(buttonGroup);\n",
       "    }\n",
       "\n",
       "    // Add the status bar.\n",
       "    var status_bar = document.createElement('span');\n",
       "    status_bar.classList = 'mpl-message pull-right';\n",
       "    toolbar.appendChild(status_bar);\n",
       "    this.message = status_bar;\n",
       "\n",
       "    // Add the close button to the window.\n",
       "    var buttongrp = document.createElement('div');\n",
       "    buttongrp.classList = 'btn-group inline pull-right';\n",
       "    button = document.createElement('button');\n",
       "    button.classList = 'btn btn-mini btn-primary';\n",
       "    button.href = '#';\n",
       "    button.title = 'Stop Interaction';\n",
       "    button.innerHTML = '<i class=\"fa fa-power-off icon-remove icon-large\"></i>';\n",
       "    button.addEventListener('click', function (_evt) {\n",
       "        fig.handle_close(fig, {});\n",
       "    });\n",
       "    button.addEventListener(\n",
       "        'mouseover',\n",
       "        on_mouseover_closure('Stop Interaction')\n",
       "    );\n",
       "    buttongrp.appendChild(button);\n",
       "    var titlebar = this.root.querySelector('.ui-dialog-titlebar');\n",
       "    titlebar.insertBefore(buttongrp, titlebar.firstChild);\n",
       "};\n",
       "\n",
       "mpl.figure.prototype._remove_fig_handler = function (event) {\n",
       "    var fig = event.data.fig;\n",
       "    fig.close_ws(fig, {});\n",
       "};\n",
       "\n",
       "mpl.figure.prototype._root_extra_style = function (el) {\n",
       "    el.style.boxSizing = 'content-box'; // override notebook setting of border-box.\n",
       "};\n",
       "\n",
       "mpl.figure.prototype._canvas_extra_style = function (el) {\n",
       "    // this is important to make the div 'focusable\n",
       "    el.setAttribute('tabindex', 0);\n",
       "    // reach out to IPython and tell the keyboard manager to turn it's self\n",
       "    // off when our div gets focus\n",
       "\n",
       "    // location in version 3\n",
       "    if (IPython.notebook.keyboard_manager) {\n",
       "        IPython.notebook.keyboard_manager.register_events(el);\n",
       "    } else {\n",
       "        // location in version 2\n",
       "        IPython.keyboard_manager.register_events(el);\n",
       "    }\n",
       "};\n",
       "\n",
       "mpl.figure.prototype._key_event_extra = function (event, _name) {\n",
       "    var manager = IPython.notebook.keyboard_manager;\n",
       "    if (!manager) {\n",
       "        manager = IPython.keyboard_manager;\n",
       "    }\n",
       "\n",
       "    // Check for shift+enter\n",
       "    if (event.shiftKey && event.which === 13) {\n",
       "        this.canvas_div.blur();\n",
       "        // select the cell after this one\n",
       "        var index = IPython.notebook.find_cell_index(this.cell_info[0]);\n",
       "        IPython.notebook.select(index + 1);\n",
       "    }\n",
       "};\n",
       "\n",
       "mpl.figure.prototype.handle_save = function (fig, _msg) {\n",
       "    fig.ondownload(fig, null);\n",
       "};\n",
       "\n",
       "mpl.find_output_cell = function (html_output) {\n",
       "    // Return the cell and output element which can be found *uniquely* in the notebook.\n",
       "    // Note - this is a bit hacky, but it is done because the \"notebook_saving.Notebook\"\n",
       "    // IPython event is triggered only after the cells have been serialised, which for\n",
       "    // our purposes (turning an active figure into a static one), is too late.\n",
       "    var cells = IPython.notebook.get_cells();\n",
       "    var ncells = cells.length;\n",
       "    for (var i = 0; i < ncells; i++) {\n",
       "        var cell = cells[i];\n",
       "        if (cell.cell_type === 'code') {\n",
       "            for (var j = 0; j < cell.output_area.outputs.length; j++) {\n",
       "                var data = cell.output_area.outputs[j];\n",
       "                if (data.data) {\n",
       "                    // IPython >= 3 moved mimebundle to data attribute of output\n",
       "                    data = data.data;\n",
       "                }\n",
       "                if (data['text/html'] === html_output) {\n",
       "                    return [cell, data, j];\n",
       "                }\n",
       "            }\n",
       "        }\n",
       "    }\n",
       "};\n",
       "\n",
       "// Register the function which deals with the matplotlib target/channel.\n",
       "// The kernel may be null if the page has been refreshed.\n",
       "if (IPython.notebook.kernel !== null) {\n",
       "    IPython.notebook.kernel.comm_manager.register_target(\n",
       "        'matplotlib',\n",
       "        mpl.mpl_figure_comm\n",
       "    );\n",
       "}\n"
      ],
      "text/plain": [
       "<IPython.core.display.Javascript object>"
      ]
     },
     "metadata": {},
     "output_type": "display_data"
    },
    {
     "data": {
      "text/html": [
       "<img src=\"data:image/png;base64,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\" width=\"640\">"
      ],
      "text/plain": [
       "<IPython.core.display.HTML object>"
      ]
     },
     "metadata": {},
     "output_type": "display_data"
    },
    {
     "data": {
      "text/plain": [
       "<mpl_toolkits.mplot3d.art3d.Line3DCollection at 0x7f4b3e0cb8b0>"
      ]
     },
     "execution_count": 143,
     "metadata": {},
     "output_type": "execute_result"
    }
   ],
   "source": [
    "fig = plt.figure()\n",
    "ax = plt.axes(projection=\"3d\")\n",
    "\n",
    "XX, YY = np.meshgrid(e_x, e_y)\n",
    "ax.plot_wireframe(XX, YY, f_evaluated, color='green')\n",
    "ax.plot_wireframe(XX, YY, f_interpolated, color='red')"
   ]
  },
  {
   "cell_type": "code",
   "execution_count": 77,
   "metadata": {
    "colab": {
     "base_uri": "https://localhost:8080/"
    },
    "id": "nSmRplgnxURW",
    "outputId": "db8641cb-10e9-4ea2-8eab-a628f53b37aa"
   },
   "outputs": [
    {
     "data": {
      "text/plain": [
       "6.787240547706519e-05"
      ]
     },
     "execution_count": 77,
     "metadata": {},
     "output_type": "execute_result"
    }
   ],
   "source": [
    "np.max(np.abs(f_interpolated - f_evaluated))"
   ]
  },
  {
   "cell_type": "code",
   "execution_count": null,
   "metadata": {
    "colab": {
     "base_uri": "https://localhost:8080/",
     "height": 362
    },
    "id": "LYejuG5GxdFV",
    "outputId": "8bbb55f9-73f0-42db-d5dc-1ca40f865dd8"
   },
   "outputs": [],
   "source": [
    "q_x = np.linspace(0, 1, 20)\n",
    "q_y = np.linspace(0, 1, 20)\n",
    "e_x = np.linspace(0, 1, 1025)\n",
    "e_y = np.linspace(0, 1, 1025)\n",
    "\n",
    "interpolate_2d(f, q_x, q_y, e_x, e_y)"
   ]
  },
  {
   "cell_type": "code",
   "execution_count": null,
   "metadata": {
    "colab": {
     "base_uri": "https://localhost:8080/"
    },
    "id": "t9mMAwb8zMHg",
    "outputId": "b1fa0f88-9bc4-430a-e134-4dfa1e4c8f4a"
   },
   "outputs": [],
   "source": [
    "q_x = np.linspace(0, 1, 10)\n",
    "q_y = np.linspace(0, 1, 10)\n",
    "e_x = np.linspace(0, 1, 64)\n",
    "e_y = np.linspace(0, 1, 64)\n",
    "\n",
    "%timeit interpolate_2d(f, q_x, q_y, e_x, e_y)"
   ]
  },
  {
   "cell_type": "code",
   "execution_count": null,
   "metadata": {
    "colab": {
     "base_uri": "https://localhost:8080/"
    },
    "id": "UjVcR7uOzVYo",
    "outputId": "a7f82585-a2b5-4785-d45d-9c0749389db0"
   },
   "outputs": [],
   "source": [
    "q_x = np.linspace(0, 1, 10)\n",
    "q_y = np.linspace(0, 1, 10)\n",
    "e_x = np.linspace(0, 1, 64)\n",
    "e_y = np.linspace(0, 1, 128)\n",
    "\n",
    "%timeit interpolate_2d(f, q_x, q_y, e_x, e_y)"
   ]
  },
  {
   "cell_type": "code",
   "execution_count": null,
   "metadata": {
    "colab": {
     "base_uri": "https://localhost:8080/"
    },
    "id": "GjfcXSDOzfg9",
    "outputId": "fb6928f9-4b2f-4f39-9c99-a41690171bb9"
   },
   "outputs": [],
   "source": [
    "q_x = np.linspace(0, 1, 10)\n",
    "q_y = np.linspace(0, 1, 10)\n",
    "e_x = np.linspace(0, 1, 64)\n",
    "e_y = np.linspace(0, 1, 64)\n",
    "\n",
    "%timeit interpolate_2d(f, q_x, q_y, e_x, e_y)"
   ]
  },
  {
   "cell_type": "code",
   "execution_count": null,
   "metadata": {
    "colab": {
     "base_uri": "https://localhost:8080/"
    },
    "id": "sznSDjbqzoxK",
    "outputId": "f14c0254-edf6-493f-ed65-9b858e3b1e5f"
   },
   "outputs": [],
   "source": [
    "1.5 * 2 * 2 * 64 * 64"
   ]
  },
  {
   "cell_type": "code",
   "execution_count": null,
   "metadata": {
    "colab": {
     "base_uri": "https://localhost:8080/"
    },
    "id": "qL8yn6F0z9ZI",
    "outputId": "6d9c2cb8-fcca-4178-cd15-6443e9955f3c"
   },
   "outputs": [],
   "source": [
    "1.5 * 2 * 2 * 64 * 64 / 60 / 60"
   ]
  },
  {
   "cell_type": "code",
   "execution_count": 144,
   "metadata": {
    "colab": {
     "base_uri": "https://localhost:8080/"
    },
    "id": "Q9QtuQb3z_9l",
    "outputId": "75c733dd-a8e2-4335-e263-004371ed2e8a"
   },
   "outputs": [
    {
     "name": "stdout",
     "output_type": "stream",
     "text": [
      " "
     ]
    }
   ],
   "source": [
    "%prun interpolate_2d(f, q_x, q_y, e_x, e_y)"
   ]
  },
  {
   "cell_type": "code",
   "execution_count": null,
   "metadata": {
    "id": "mtgwZw-L0MEo"
   },
   "outputs": [],
   "source": [
    "def interpolate_2d(f, q_x, q_y, e_x, e_y):\n",
    "  n_q_x_points = q_x.shape[0]\n",
    "  n_q_y_points = q_y.shape[0]\n",
    "  n_e_x_points = e_x.shape[0]\n",
    "  n_e_y_points = e_y.shape[0]\n",
    "\n",
    "  f_e = np.zeros((n_e_x_points, n_e_y_points), dtype=np.float64)\n",
    "\n",
    "  basis = build_lagrangian_basis_2d(q_x, q_y, e_x, e_y)\n",
    "\n",
    "  f_q = evaluate_f(q_x, q_y)\n",
    "\n",
    "  for i in range(n_e_x_points):\n",
    "    for j in range(n_e_y_points):\n",
    "      for k in range(n_q_x_points):\n",
    "        for l in range(n_q_y_points):\n",
    "          f_e[i, j] += basis[i, j, k, l] * f_q[k, l]\n",
    "  return f_e"
   ]
  },
  {
   "cell_type": "code",
   "execution_count": null,
   "metadata": {
    "colab": {
     "base_uri": "https://localhost:8080/"
    },
    "id": "DdFxO3HV1AI0",
    "outputId": "fc2c5c5e-fb25-4eb7-b035-aa2fe96fc688"
   },
   "outputs": [],
   "source": [
    "%prun interpolate_2d(f, q_x, q_y, e_x, e_y)"
   ]
  },
  {
   "cell_type": "code",
   "execution_count": 145,
   "metadata": {
    "id": "dVoh1NCp1CA2"
   },
   "outputs": [],
   "source": [
    "def interpolate_2d(f, q_x, q_y, e_x, e_y):\n",
    "  n_q_x_points = q_x.shape[0]\n",
    "  n_q_y_points = q_y.shape[0]\n",
    "  n_e_x_points = e_x.shape[0]\n",
    "  n_e_y_points = e_y.shape[0]\n",
    "\n",
    "  f_e = np.zeros((n_e_x_points, n_e_y_points), dtype=np.float64)\n",
    "\n",
    "  basis = build_lagrangian_basis_2d(q_x, q_y, e_x, e_y)\n",
    "\n",
    "  f_q = evaluate_f(q_x, q_y)\n",
    "\n",
    "  for k in range(n_q_x_points):\n",
    "    for l in range(n_q_y_points):\n",
    "      f_e[:, :] += basis[:, :, k, l] * f_q[k, l]\n",
    "  return f_e"
   ]
  },
  {
   "cell_type": "code",
   "execution_count": 151,
   "metadata": {
    "colab": {
     "base_uri": "https://localhost:8080/"
    },
    "id": "SHU6pBfn1mf8",
    "outputId": "16bf0acb-647d-4d38-a8ec-aa6598472592"
   },
   "outputs": [
    {
     "name": "stdout",
     "output_type": "stream",
     "text": [
      " "
     ]
    }
   ],
   "source": [
    "%prun interpolate_2d(f, q_x, q_y, e_x, e_y)"
   ]
  },
  {
   "cell_type": "code",
   "execution_count": 152,
   "metadata": {
    "id": "3x6QUp721n_U"
   },
   "outputs": [],
   "source": [
    "def build_lagrangian_basis_2d(q_x, q_y, e_x, e_y):\n",
    "  # For a point P_{i, j} of coordinates q_x[i], q_y[j], we want to compute the\n",
    "  # value of the polynomial L_{k, l} on the point P_{i, j}.\n",
    "  # basis[i, j, k, l] is the value of L_{k, l} on the point (e_x[i], e_y[j])\n",
    "  n_q_x_points = q_x.shape[0]\n",
    "  n_q_y_points = q_y.shape[0]\n",
    "  n_e_x_points = e_x.shape[0]\n",
    "  n_e_y_points = e_y.shape[0]\n",
    "\n",
    "  b1 = build_lagrangian_basis(q_x, e_x)\n",
    "  b2 = build_lagrangian_basis(q_y, e_y)\n",
    "\n",
    "  b1 = b1.reshape((n_e_x_points, 1, n_q_x_points, 1))\n",
    "  b2 = b2.reshape((1, n_e_y_points, 1, n_q_y_points))\n",
    "\n",
    "  basis = b1 * b2\n",
    "  \n",
    "  return basis"
   ]
  },
  {
   "cell_type": "code",
   "execution_count": 153,
   "metadata": {
    "colab": {
     "base_uri": "https://localhost:8080/"
    },
    "id": "HGeisH4W2Fwu",
    "outputId": "ca17dc29-94f2-48ed-c5af-41d512b408f0"
   },
   "outputs": [
    {
     "name": "stdout",
     "output_type": "stream",
     "text": [
      " "
     ]
    }
   ],
   "source": [
    "%prun interpolate_2d(f, q_x, q_y, e_x, e_y)"
   ]
  },
  {
   "cell_type": "code",
   "execution_count": null,
   "metadata": {
    "colab": {
     "base_uri": "https://localhost:8080/"
    },
    "id": "UkG3aYpp2TdI",
    "outputId": "47e459e3-21f7-40cd-e303-08828eb50b3e"
   },
   "outputs": [],
   "source": [
    "f_interpolated = interpolate_2d(f, q_x, q_y, e_x, e_y)\n",
    "f_evaluated = evaluate_f(e_x, e_y)\n",
    "np.max(np.abs(f_interpolated - f_evaluated))"
   ]
  },
  {
   "cell_type": "code",
   "execution_count": null,
   "metadata": {
    "colab": {
     "base_uri": "https://localhost:8080/"
    },
    "id": "PcT76Z7d21eM",
    "outputId": "e1562b19-16b8-4fd6-fa54-c61cd73c8c0e"
   },
   "outputs": [],
   "source": [
    "q_x = np.linspace(0, 1, 10)\n",
    "q_y = np.linspace(0, 1, 10)\n",
    "e_x = np.linspace(0, 1, 1024)\n",
    "e_y = np.linspace(0, 1, 1024)\n",
    "\n",
    "%timeit interpolate_2d(f, q_x, q_y, e_x, e_y)"
   ]
  },
  {
   "cell_type": "code",
   "execution_count": null,
   "metadata": {
    "colab": {
     "base_uri": "https://localhost:8080/"
    },
    "id": "musBQ4a62_Pz",
    "outputId": "57b8134e-3091-4bcb-aee7-9461fc4e4e06"
   },
   "outputs": [],
   "source": [
    "%prun interpolate_2d(f, q_x, q_y, e_x, e_y)"
   ]
  },
  {
   "cell_type": "code",
   "execution_count": null,
   "metadata": {
    "id": "K9M2DNJ-3N4K"
   },
   "outputs": [],
   "source": [
    "def interpolate_2d(f, q_x, q_y, e_x, e_y):\n",
    "  n_q_x_points = q_x.shape[0]\n",
    "  n_q_y_points = q_y.shape[0]\n",
    "  n_e_x_points = e_x.shape[0]\n",
    "  n_e_y_points = e_y.shape[0]\n",
    "\n",
    "  f_e = np.zeros((n_e_x_points, n_e_y_points), dtype=np.float64)\n",
    "\n",
    "  basis = build_lagrangian_basis_2d(q_x, q_y, e_x, e_y)\n",
    "\n",
    "  f_q = evaluate_f(q_x, q_y)\n",
    "\n",
    "  basis_reshaped = basis.reshape(\n",
    "      (n_e_x_points* n_e_y_points, n_q_x_points * n_q_y_points)\n",
    "      )\n",
    "\n",
    "  f_q_reshaped = f_q.reshape((n_q_x_points * n_q_y_points,))\n",
    "\n",
    "  f_e = basis_reshaped @ f_q_reshaped\n",
    "  return f_e.reshape((n_e_x_points, n_e_y_points))"
   ]
  },
  {
   "cell_type": "code",
   "execution_count": null,
   "metadata": {
    "colab": {
     "base_uri": "https://localhost:8080/"
    },
    "id": "xq4ah92d34FK",
    "outputId": "c9a04cd6-bb72-4d58-95fd-75ee268ab2e0"
   },
   "outputs": [],
   "source": [
    "f_interpolated = interpolate_2d(f, q_x, q_y, e_x, e_y)\n",
    "f_evaluated = evaluate_f(e_x, e_y)\n",
    "np.max(np.abs(f_interpolated - f_evaluated))"
   ]
  },
  {
   "cell_type": "code",
   "execution_count": null,
   "metadata": {
    "colab": {
     "base_uri": "https://localhost:8080/"
    },
    "id": "iQC9gMRW36qg",
    "outputId": "e240170a-17f7-4903-9318-106523859981"
   },
   "outputs": [],
   "source": [
    "%prun interpolate_2d(f, q_x, q_y, e_x, e_y)"
   ]
  },
  {
   "cell_type": "code",
   "execution_count": null,
   "metadata": {
    "colab": {
     "base_uri": "https://localhost:8080/"
    },
    "id": "mqysz9OR4c-f",
    "outputId": "c8b2925c-87ec-4c4e-fe6c-a24ba2bc96e9"
   },
   "outputs": [],
   "source": [
    "q_x = np.linspace(0, 1, 16)\n",
    "q_y = np.linspace(0, 1, 16)\n",
    "e_x = np.linspace(0, 1, 1025)\n",
    "e_y = np.linspace(0, 1, 1025)\n",
    "\n",
    "f_interpolated = interpolate_2d(f, q_x, q_y, e_x, e_y)\n",
    "f_evaluated = evaluate_f(e_x, e_y)\n",
    "np.max(np.abs(f_interpolated - f_evaluated))"
   ]
  },
  {
   "cell_type": "code",
   "execution_count": null,
   "metadata": {
    "id": "NTEb4qoc42cN"
   },
   "outputs": [],
   "source": []
  }
 ],
 "metadata": {
  "colab": {
   "authorship_tag": "ABX9TyO0iua4X2Qd1QYUXWNs7HUN",
   "include_colab_link": true,
   "name": "Untitled0.ipynb",
   "provenance": []
  },
  "kernelspec": {
   "display_name": "Python 3",
   "language": "python",
   "name": "python3"
  },
  "language_info": {
   "codemirror_mode": {
    "name": "ipython",
    "version": 3
   },
   "file_extension": ".py",
   "mimetype": "text/x-python",
   "name": "python",
   "nbconvert_exporter": "python",
   "pygments_lexer": "ipython3",
   "version": "3.8.5"
  }
 },
 "nbformat": 4,
 "nbformat_minor": 1
}
