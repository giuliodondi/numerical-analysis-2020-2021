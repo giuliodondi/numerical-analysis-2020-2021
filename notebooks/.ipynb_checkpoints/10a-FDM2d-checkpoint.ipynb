{
 "cells": [
  {
   "cell_type": "code",
   "execution_count": 1,
   "metadata": {
    "id": "mX4kTjWAuiAg"
   },
   "outputs": [],
   "source": [
    "from enum import Enum"
   ]
  },
  {
   "cell_type": "code",
   "execution_count": 5,
   "metadata": {
    "id": "TwwjgSLrujgO"
   },
   "outputs": [],
   "source": [
    "class Disc(Enum):\n",
    "  EMPTY = 0\n",
    "  RED = 1\n",
    "  YELLOW = 2"
   ]
  },
  {
   "cell_type": "code",
   "execution_count": 4,
   "metadata": {
    "colab": {
     "base_uri": "https://localhost:8080/"
    },
    "id": "M6Jxy9_7Csmt",
    "outputId": "7ed29179-9faa-4f91-cdde-02644fe8accd"
   },
   "outputs": [
    {
     "data": {
      "text/plain": [
       "<Disc.RED: 1>"
      ]
     },
     "execution_count": 4,
     "metadata": {
      "tags": []
     },
     "output_type": "execute_result"
    }
   ],
   "source": [
    "Disc.RED"
   ]
  },
  {
   "cell_type": "code",
   "execution_count": 5,
   "metadata": {
    "id": "uBJTdNBKCzJJ"
   },
   "outputs": [],
   "source": [
    "table = []"
   ]
  },
  {
   "cell_type": "code",
   "execution_count": 6,
   "metadata": {
    "id": "qIbqLZugC22K"
   },
   "outputs": [],
   "source": [
    "table.append(Disc.RED)"
   ]
  },
  {
   "cell_type": "code",
   "execution_count": 7,
   "metadata": {
    "id": "48Sa9x73C4Mp"
   },
   "outputs": [],
   "source": [
    "def divide(a, b):\n",
    "  return a / b"
   ]
  },
  {
   "cell_type": "code",
   "execution_count": 8,
   "metadata": {
    "colab": {
     "base_uri": "https://localhost:8080/"
    },
    "id": "--Lyrl5sDL3M",
    "outputId": "add15c69-842a-4f49-e3ab-5d7214c7a1ca"
   },
   "outputs": [
    {
     "data": {
      "text/plain": [
       "5.0"
      ]
     },
     "execution_count": 8,
     "metadata": {
      "tags": []
     },
     "output_type": "execute_result"
    }
   ],
   "source": [
    "divide(10, 2)"
   ]
  },
  {
   "cell_type": "code",
   "execution_count": 9,
   "metadata": {
    "colab": {
     "base_uri": "https://localhost:8080/",
     "height": 243
    },
    "id": "mq-prDqzDOgm",
    "outputId": "2511d732-7392-49cc-aa9b-b828e1c68886"
   },
   "outputs": [
    {
     "ename": "ZeroDivisionError",
     "evalue": "ignored",
     "output_type": "error",
     "traceback": [
      "\u001b[0;31m---------------------------------------------------------------------------\u001b[0m",
      "\u001b[0;31mZeroDivisionError\u001b[0m                         Traceback (most recent call last)",
      "\u001b[0;32m<ipython-input-9-ccc290a9b5cb>\u001b[0m in \u001b[0;36m<module>\u001b[0;34m()\u001b[0m\n\u001b[0;32m----> 1\u001b[0;31m \u001b[0mdivide\u001b[0m\u001b[0;34m(\u001b[0m\u001b[0;36m10\u001b[0m\u001b[0;34m,\u001b[0m \u001b[0;36m0\u001b[0m\u001b[0;34m)\u001b[0m\u001b[0;34m\u001b[0m\u001b[0;34m\u001b[0m\u001b[0m\n\u001b[0m",
      "\u001b[0;32m<ipython-input-7-9c0297500084>\u001b[0m in \u001b[0;36mdivide\u001b[0;34m(a, b)\u001b[0m\n\u001b[1;32m      1\u001b[0m \u001b[0;32mdef\u001b[0m \u001b[0mdivide\u001b[0m\u001b[0;34m(\u001b[0m\u001b[0ma\u001b[0m\u001b[0;34m,\u001b[0m \u001b[0mb\u001b[0m\u001b[0;34m)\u001b[0m\u001b[0;34m:\u001b[0m\u001b[0;34m\u001b[0m\u001b[0;34m\u001b[0m\u001b[0m\n\u001b[0;32m----> 2\u001b[0;31m   \u001b[0;32mreturn\u001b[0m \u001b[0ma\u001b[0m \u001b[0;34m/\u001b[0m \u001b[0mb\u001b[0m\u001b[0;34m\u001b[0m\u001b[0;34m\u001b[0m\u001b[0m\n\u001b[0m",
      "\u001b[0;31mZeroDivisionError\u001b[0m: division by zero"
     ]
    }
   ],
   "source": [
    "divide(10, 0)"
   ]
  },
  {
   "cell_type": "code",
   "execution_count": 2,
   "metadata": {
    "id": "MqO-2ruPDQec"
   },
   "outputs": [],
   "source": [
    "import numpy as np\n",
    "\n",
    "def divide(a, b):\n",
    "  try:\n",
    "    result = a / b\n",
    "  except:\n",
    "    print('We are here!')\n",
    "    return np.nan\n",
    "  return result"
   ]
  },
  {
   "cell_type": "code",
   "execution_count": 3,
   "metadata": {
    "colab": {
     "base_uri": "https://localhost:8080/"
    },
    "id": "EKNC6jOGDfYE",
    "outputId": "4852152d-1450-4b10-d650-714b32b408f0"
   },
   "outputs": [
    {
     "data": {
      "text/plain": [
       "5.0"
      ]
     },
     "execution_count": 3,
     "metadata": {},
     "output_type": "execute_result"
    }
   ],
   "source": [
    "divide(10, 2)"
   ]
  },
  {
   "cell_type": "code",
   "execution_count": 4,
   "metadata": {
    "colab": {
     "base_uri": "https://localhost:8080/"
    },
    "id": "MtnDsUFYDf5v",
    "outputId": "d259f5c3-2751-4161-a00c-f9bf036fc3c7"
   },
   "outputs": [
    {
     "name": "stdout",
     "output_type": "stream",
     "text": [
      "We are here!\n"
     ]
    },
    {
     "data": {
      "text/plain": [
       "nan"
      ]
     },
     "execution_count": 4,
     "metadata": {},
     "output_type": "execute_result"
    }
   ],
   "source": [
    "divide(10, 0)"
   ]
  },
  {
   "cell_type": "code",
   "execution_count": 5,
   "metadata": {
    "id": "3202AOKdDjLP"
   },
   "outputs": [],
   "source": [
    "import numpy as np\n",
    "\n",
    "def divide(a, b):\n",
    "  try:\n",
    "    result = a / b\n",
    "  except ZeroDivisionError:\n",
    "    print('We are here!')\n",
    "    return np.nan\n",
    "  return result"
   ]
  },
  {
   "cell_type": "code",
   "execution_count": 6,
   "metadata": {
    "colab": {
     "base_uri": "https://localhost:8080/"
    },
    "id": "GjfkfznXDtRO",
    "outputId": "7198fd91-df95-4f1e-87be-df8fc5bc2039"
   },
   "outputs": [
    {
     "name": "stdout",
     "output_type": "stream",
     "text": [
      "We are here!\n"
     ]
    },
    {
     "data": {
      "text/plain": [
       "nan"
      ]
     },
     "execution_count": 6,
     "metadata": {},
     "output_type": "execute_result"
    }
   ],
   "source": [
    "divide(10, 0)"
   ]
  },
  {
   "cell_type": "code",
   "execution_count": 7,
   "metadata": {
    "colab": {
     "base_uri": "https://localhost:8080/"
    },
    "id": "T5w_VyelDu1q",
    "outputId": "d3f79e30-510f-4a02-c09c-6e5a6c4357ec"
   },
   "outputs": [
    {
     "data": {
      "text/plain": [
       "array([[0, 1, 2],\n",
       "       [3, 4, 5],\n",
       "       [6, 7, 8]])"
      ]
     },
     "execution_count": 7,
     "metadata": {},
     "output_type": "execute_result"
    }
   ],
   "source": [
    "a = np.arange(9).reshape((3, 3))\n",
    "a"
   ]
  },
  {
   "cell_type": "code",
   "execution_count": 8,
   "metadata": {
    "colab": {
     "base_uri": "https://localhost:8080/"
    },
    "id": "EHHLbBWOD_YS",
    "outputId": "77eba1d8-6adc-46f5-9680-5a8f57df4d45"
   },
   "outputs": [
    {
     "data": {
      "text/plain": [
       "array([0, 4, 8])"
      ]
     },
     "execution_count": 8,
     "metadata": {},
     "output_type": "execute_result"
    }
   ],
   "source": [
    "np.diag(a)"
   ]
  },
  {
   "cell_type": "code",
   "execution_count": 9,
   "metadata": {
    "colab": {
     "base_uri": "https://localhost:8080/"
    },
    "id": "NppWn4F5EB0p",
    "outputId": "c258e27d-04b6-4bf8-f23e-7fc1cf083cb0"
   },
   "outputs": [
    {
     "data": {
      "text/plain": [
       "array([  1,  10, 100])"
      ]
     },
     "execution_count": 9,
     "metadata": {},
     "output_type": "execute_result"
    }
   ],
   "source": [
    "b = np.array([1, 10, 100])\n",
    "b"
   ]
  },
  {
   "cell_type": "code",
   "execution_count": 10,
   "metadata": {
    "colab": {
     "base_uri": "https://localhost:8080/"
    },
    "id": "te47rZ_wEITU",
    "outputId": "3b125914-6361-4265-efad-0a72ddb73982"
   },
   "outputs": [
    {
     "data": {
      "text/plain": [
       "array([[  1,   0,   0],\n",
       "       [  0,  10,   0],\n",
       "       [  0,   0, 100]])"
      ]
     },
     "execution_count": 10,
     "metadata": {},
     "output_type": "execute_result"
    }
   ],
   "source": [
    "np.diag(b)"
   ]
  },
  {
   "cell_type": "code",
   "execution_count": 11,
   "metadata": {
    "id": "1ac7TOWqEKmU"
   },
   "outputs": [],
   "source": [
    "x_coords = np.array([1, 2, 3])\n",
    "y_coords = np.array([1, 10, 100])"
   ]
  },
  {
   "cell_type": "code",
   "execution_count": 12,
   "metadata": {
    "id": "ODBTatVNEe-A"
   },
   "outputs": [],
   "source": [
    "x_mesh, y_mesh =np.meshgrid(x_coords, y_coords)"
   ]
  },
  {
   "cell_type": "code",
   "execution_count": 13,
   "metadata": {
    "colab": {
     "base_uri": "https://localhost:8080/"
    },
    "id": "iKhsmqOiEqSq",
    "outputId": "d8c12850-5b35-4729-eca2-618f5eec30d5"
   },
   "outputs": [
    {
     "data": {
      "text/plain": [
       "array([[1, 2, 3],\n",
       "       [1, 2, 3],\n",
       "       [1, 2, 3]])"
      ]
     },
     "execution_count": 13,
     "metadata": {},
     "output_type": "execute_result"
    }
   ],
   "source": [
    "x_mesh"
   ]
  },
  {
   "cell_type": "code",
   "execution_count": 14,
   "metadata": {
    "colab": {
     "base_uri": "https://localhost:8080/"
    },
    "id": "oCMutc82Euqd",
    "outputId": "ca966c2d-a649-4173-80e2-c53d758df104"
   },
   "outputs": [
    {
     "data": {
      "text/plain": [
       "array([[  1,   1,   1],\n",
       "       [ 10,  10,  10],\n",
       "       [100, 100, 100]])"
      ]
     },
     "execution_count": 14,
     "metadata": {},
     "output_type": "execute_result"
    }
   ],
   "source": [
    "y_mesh"
   ]
  },
  {
   "cell_type": "code",
   "execution_count": 28,
   "metadata": {
    "colab": {
     "base_uri": "https://localhost:8080/"
    },
    "id": "hiNya93bEwkL",
    "outputId": "3f54f054-b062-41ce-ffdd-7fa243be4df9"
   },
   "outputs": [
    {
     "data": {
      "text/plain": [
       "(3, 3)"
      ]
     },
     "execution_count": 28,
     "metadata": {
      "tags": []
     },
     "output_type": "execute_result"
    }
   ],
   "source": [
    "x_mesh.shape"
   ]
  },
  {
   "cell_type": "code",
   "execution_count": 23,
   "metadata": {
    "id": "uLu_rtvAE7Sz"
   },
   "outputs": [],
   "source": [
    "POINTS = 6\n",
    "SIDE = 1\n",
    "\n",
    "def build_point_positions():\n",
    "  x_coords = np.linspace(0, SIDE, POINTS)\n",
    "  y_coords = np.linspace(0, SIDE, POINTS)\n",
    "  \n",
    "  x_mesh, y_mesh = np.meshgrid(x_coords, y_coords)\n",
    "  return x_mesh.flatten(), SIDE - y_mesh.flatten()"
   ]
  },
  {
   "cell_type": "code",
   "execution_count": 16,
   "metadata": {
    "id": "38N9jKMmFjY8"
   },
   "outputs": [],
   "source": [
    "x_mesh, y_mesh = build_point_positions()"
   ]
  },
  {
   "cell_type": "code",
   "execution_count": 20,
   "metadata": {
    "colab": {
     "base_uri": "https://localhost:8080/"
    },
    "id": "T9DK8m2AFlE6",
    "outputId": "9a962036-3188-4702-eb44-1e12d1fd50af"
   },
   "outputs": [
    {
     "data": {
      "text/plain": [
       "array([0. , 0. , 0. , 0. , 0. , 0. , 0.2, 0.2, 0.2, 0.2, 0.2, 0.2, 0.4,\n",
       "       0.4, 0.4, 0.4, 0.4, 0.4, 0.6, 0.6, 0.6, 0.6, 0.6, 0.6, 0.8, 0.8,\n",
       "       0.8, 0.8, 0.8, 0.8, 1. , 1. , 1. , 1. , 1. , 1. ])"
      ]
     },
     "execution_count": 20,
     "metadata": {},
     "output_type": "execute_result"
    }
   ],
   "source": [
    "x_mesh\n",
    "y_mesh"
   ]
  },
  {
   "cell_type": "code",
   "execution_count": 44,
   "metadata": {
    "colab": {
     "base_uri": "https://localhost:8080/"
    },
    "id": "MekPCIwlFx1v",
    "outputId": "d4098aac-f373-41fd-e12b-40714affe2d8"
   },
   "outputs": [
    {
     "data": {
      "text/plain": [
       "0.4"
      ]
     },
     "execution_count": 44,
     "metadata": {
      "tags": []
     },
     "output_type": "execute_result"
    }
   ],
   "source": [
    "x_mesh[14]"
   ]
  },
  {
   "cell_type": "code",
   "execution_count": 45,
   "metadata": {
    "colab": {
     "base_uri": "https://localhost:8080/"
    },
    "id": "O1w3tX7rFzch",
    "outputId": "93f5c859-7995-4138-da13-def22acc9653"
   },
   "outputs": [
    {
     "data": {
      "text/plain": [
       "0.6000000000000001"
      ]
     },
     "execution_count": 45,
     "metadata": {
      "tags": []
     },
     "output_type": "execute_result"
    }
   ],
   "source": [
    "x_mesh[15]"
   ]
  },
  {
   "cell_type": "code",
   "execution_count": 22,
   "metadata": {
    "colab": {
     "base_uri": "https://localhost:8080/"
    },
    "id": "JerfxrL4F23N",
    "outputId": "5b346e44-afd3-4ce4-b7fb-ecd1322d6d8c"
   },
   "outputs": [
    {
     "data": {
      "text/plain": [
       "1.0"
      ]
     },
     "execution_count": 22,
     "metadata": {},
     "output_type": "execute_result"
    }
   ],
   "source": [
    "y_mesh[-1]"
   ]
  },
  {
   "cell_type": "code",
   "execution_count": 21,
   "metadata": {
    "colab": {
     "base_uri": "https://localhost:8080/"
    },
    "id": "pDkIeYdUF5-q",
    "outputId": "1ef34502-79b4-40bc-9bb4-53f3edd3a9ae"
   },
   "outputs": [
    {
     "data": {
      "text/plain": [
       "0.0"
      ]
     },
     "execution_count": 21,
     "metadata": {},
     "output_type": "execute_result"
    }
   ],
   "source": [
    "y_mesh[0]"
   ]
  },
  {
   "cell_type": "code",
   "execution_count": 55,
   "metadata": {
    "colab": {
     "base_uri": "https://localhost:8080/"
    },
    "id": "AIzf7TWeGbo6",
    "outputId": "250e7d79-53d0-4c77-baae-b61943b274b6"
   },
   "outputs": [
    {
     "data": {
      "text/plain": [
       "array([[0., 1., 0., 0., 0.],\n",
       "       [0., 0., 1., 0., 0.],\n",
       "       [0., 0., 0., 1., 0.],\n",
       "       [0., 0., 0., 0., 1.],\n",
       "       [0., 0., 0., 0., 0.]])"
      ]
     },
     "execution_count": 55,
     "metadata": {
      "tags": []
     },
     "output_type": "execute_result"
    }
   ],
   "source": [
    "a = np.ones((4,), dtype=np.float64)\n",
    "np.diag(a, 1)"
   ]
  },
  {
   "cell_type": "code",
   "execution_count": 25,
   "metadata": {
    "id": "l_Nt47g1GD-2"
   },
   "outputs": [],
   "source": [
    "def build_matrix():\n",
    "  h = SIDE / float(POINTS - 1)\n",
    "  main_diagonal = np.ones((POINTS * POINTS,), dtype=np.float64) * - 4\n",
    "  offset_1_diagonal = np.ones((POINTS * POINTS - 1,), dtype=np.float64)\n",
    "  above_and_below_points = np.ones(\n",
    "      (POINTS * POINTS - POINTS,),\n",
    "      dtype=np.float64\n",
    "  )\n",
    "  #m1 = np.diag(main_diagonal)\n",
    "  #m2 = np.diag(offset_1_diagonal, 1)\n",
    "  #m3 = np.diag(offset_1_diagonal, -1)\n",
    "  #m4 = np.diag(above_and_below_points, POINTS)\n",
    "  #m5 = np.diag(above_and_below_points, -POINTS)\n",
    "  #return m1 + m2 + m3 + m4 + m5\n",
    "\n",
    "  m = np.diag(main_diagonal) + \\\n",
    "   np.diag(offset_1_diagonal, 1) + \\\n",
    "    np.diag(offset_1_diagonal, -1) + \\\n",
    "    np.diag(above_and_below_points, POINTS) + \\\n",
    "    np.diag(above_and_below_points, -POINTS)\n",
    "  \n",
    "  m /= h * h \n",
    "\n",
    "  return m\n",
    "\n",
    "def build_rhs(f):\n",
    "  x_coords, y_coords = build_point_positions()\n",
    "  return f(x_coords, y_coords)\n"
   ]
  },
  {
   "cell_type": "code",
   "execution_count": 26,
   "metadata": {
    "colab": {
     "base_uri": "https://localhost:8080/"
    },
    "id": "6voINY_uHvk0",
    "outputId": "02ad97cb-5709-4672-a931-dcbc44172198"
   },
   "outputs": [
    {
     "data": {
      "text/plain": [
       "array([[-324.,   81.,    0., ...,    0.,    0.,    0.],\n",
       "       [  81., -324.,   81., ...,    0.,    0.,    0.],\n",
       "       [   0.,   81., -324., ...,    0.,    0.,    0.],\n",
       "       ...,\n",
       "       [   0.,    0.,    0., ..., -324.,   81.,    0.],\n",
       "       [   0.,    0.,    0., ...,   81., -324.,   81.],\n",
       "       [   0.,    0.,    0., ...,    0.,   81., -324.]])"
      ]
     },
     "execution_count": 26,
     "metadata": {},
     "output_type": "execute_result"
    }
   ],
   "source": [
    "build_matrix()"
   ]
  },
  {
   "cell_type": "code",
   "execution_count": 27,
   "metadata": {
    "id": "4fHjeteDHwx_"
   },
   "outputs": [],
   "source": [
    "class Side(Enum):\n",
    "  BOTTOM = 0,\n",
    "  TOP = 1,\n",
    "  LEFT = 2,\n",
    "  RIGHT = 3\n",
    "\n",
    "def condense(m, rhs, d_gamma):\n",
    "  h = SIDE / float(POINTS - 1)\n",
    "  x_coords, y_coords = build_point_positions()\n",
    "\n",
    "  for i in range(POINTS):\n",
    "    indices = {}\n",
    "    indices[Side.TOP] = i\n",
    "    indices[Side.BOTTOM] = POINTS * (POINTS - 1) + i\n",
    "    indices[Side.LEFT] = i * POINTS\n",
    "    indices[Side.RIGHT] = i * POINTS + POINTS - 1\n",
    "\n",
    "    for s in Side:\n",
    "      index = indices[s]\n",
    "      x_point = x_coords[index]\n",
    "      y_point = y_coords[index]\n",
    "      bc_value = d_gamma(x_point, y_point)\n",
    "\n",
    "      rhs[index] = 0\n",
    "\n",
    "      # wipe out the row i\n",
    "      m[index, :] = 0\n",
    "\n",
    "      # Copy the i-th column\n",
    "      clm = m[:, index]\n",
    "\n",
    "      rhs -= clm * bc_value\n",
    "\n",
    "      # Now I can wipe out also the column\n",
    "      m[:, index] = 0\n",
    "\n",
    "      m[index, index] = -4 / (h * h)\n",
    "  \n",
    "def fix_boundary_conditions(sol, d_gamma):\n",
    "  h = SIDE / float(POINTS - 1)\n",
    "  x_coords, y_coords = build_point_positions()\n",
    "\n",
    "  for i in range(POINTS):\n",
    "    indices = {}\n",
    "    indices[Side.TOP] = i\n",
    "    indices[Side.BOTTOM] = POINTS * (POINTS - 1) + i\n",
    "    indices[Side.LEFT] = i * POINTS\n",
    "    indices[Side.RIGHT] = i * POINTS + POINTS - 1\n",
    "\n",
    "    for s in Side:\n",
    "      index = indices[s]\n",
    "      x_point = x_coords[index]\n",
    "      y_point = y_coords[index]\n",
    "      bc_value = d_gamma(x_point, y_point)\n",
    "\n",
    "      sol[index] = bc_value\n"
   ]
  },
  {
   "cell_type": "code",
   "execution_count": 28,
   "metadata": {
    "id": "hkpsTfPZMhNy"
   },
   "outputs": [],
   "source": [
    "import matplotlib.pyplot as plt"
   ]
  },
  {
   "cell_type": "code",
   "execution_count": 46,
   "metadata": {
    "colab": {
     "base_uri": "https://localhost:8080/",
     "height": 293
    },
    "id": "Wdkwj08RMnU_",
    "outputId": "aa379373-064f-4a12-d54d-28445263f1ef"
   },
   "outputs": [
    {
     "data": {
      "text/plain": [
       "<matplotlib.colorbar.Colorbar at 0x7f206c980070>"
      ]
     },
     "execution_count": 46,
     "metadata": {},
     "output_type": "execute_result"
    },
    {
     "data": {
      "image/png": "[encoded data removed]",
      "text/plain": [
       "<Figure size 288x288 with 2 Axes>"
      ]
     },
     "metadata": {
      "needs_background": "light"
     },
     "output_type": "display_data"
    }
   ],
   "source": [
    "import numpy as np\n",
    "POINTS = 40\n",
    "\n",
    "def f(x, y):\n",
    "  if hasattr(x, \"shape\"):\n",
    "    return np.ones((x.shape[0]), dtype=np.float64)\n",
    "  return 1\n",
    "\n",
    "def d_gamma(x, y):\n",
    "    return np.sin(2 * np.pi * x)\n",
    "    #return 1\n",
    "\n",
    "m = build_matrix()\n",
    "rhs = build_rhs(f)\n",
    "\n",
    "matrix_before_cond = plt.matshow(m)\n",
    "plt.colorbar(matrix_before_cond)"
   ]
  },
  {
   "cell_type": "code",
   "execution_count": 47,
   "metadata": {
    "colab": {
     "base_uri": "https://localhost:8080/",
     "height": 293
    },
    "id": "Z8vBvFJbM4MA",
    "outputId": "d53bb519-3ee3-4f22-eaf6-551d4fea2b44"
   },
   "outputs": [
    {
     "data": {
      "text/plain": [
       "<matplotlib.colorbar.Colorbar at 0x7f206c729d60>"
      ]
     },
     "execution_count": 47,
     "metadata": {},
     "output_type": "execute_result"
    },
    {
     "data": {
      "image/png": "[encoded data removed]",
      "text/plain": [
       "<Figure size 288x288 with 2 Axes>"
      ]
     },
     "metadata": {
      "needs_background": "light"
     },
     "output_type": "display_data"
    }
   ],
   "source": [
    "condense(m, rhs, d_gamma)\n",
    "\n",
    "m.shape\n",
    "\n",
    "matrix_after_cond = plt.matshow(m)\n",
    "plt.colorbar(matrix_after_cond)"
   ]
  },
  {
   "cell_type": "code",
   "execution_count": 48,
   "metadata": {
    "id": "_3Vz2K8TNHli"
   },
   "outputs": [],
   "source": [
    "sol = np.linalg.solve(m, rhs)"
   ]
  },
  {
   "cell_type": "code",
   "execution_count": 49,
   "metadata": {
    "colab": {
     "base_uri": "https://localhost:8080/",
     "height": 293
    },
    "id": "jvTuH-1SO5UF",
    "outputId": "5a215fb9-6493-4c73-a22d-bada39c2e804"
   },
   "outputs": [
    {
     "data": {
      "text/plain": [
       "<matplotlib.colorbar.Colorbar at 0x7f206c6af580>"
      ]
     },
     "execution_count": 49,
     "metadata": {},
     "output_type": "execute_result"
    },
    {
     "data": {
      "image/png": "[encoded data removed]",
      "text/plain": [
       "<Figure size 288x288 with 2 Axes>"
      ]
     },
     "metadata": {
      "needs_background": "light"
     },
     "output_type": "display_data"
    }
   ],
   "source": [
    "fix_boundary_conditions(sol, d_gamma)\n",
    "sol = sol.reshape((POINTS, POINTS))\n",
    "matrix_solution = plt.matshow(sol)\n",
    "plt.colorbar(matrix_solution)"
   ]
  },
  {
   "cell_type": "code",
   "execution_count": null,
   "metadata": {
    "id": "4cXHG077PCZJ"
   },
   "outputs": [],
   "source": []
  }
 ],
 "metadata": {
  "colab": {
   "authorship_tag": "ABX9TyMtkyXMLiejs24FWvqkGrw2",
   "name": "10-FDM2d.ipynb",
   "provenance": []
  },
  "kernelspec": {
   "display_name": "Python 3",
   "language": "python",
   "name": "python3"
  },
  "language_info": {
   "codemirror_mode": {
    "name": "ipython",
    "version": 3
   },
   "file_extension": ".py",
   "mimetype": "text/x-python",
   "name": "python",
   "nbconvert_exporter": "python",
   "pygments_lexer": "ipython3",
   "version": "3.8.5"
  }
 },
 "nbformat": 4,
 "nbformat_minor": 1
}
