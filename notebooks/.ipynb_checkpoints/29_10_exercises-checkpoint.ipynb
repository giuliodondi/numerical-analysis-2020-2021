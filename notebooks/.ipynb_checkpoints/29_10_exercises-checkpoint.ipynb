{
 "cells": [
  {
   "cell_type": "code",
   "execution_count": 4,
   "metadata": {},
   "outputs": [
    {
     "ename": "SyntaxError",
     "evalue": "invalid syntax (<ipython-input-4-65e735e6850a>, line 1)",
     "output_type": "error",
     "traceback": [
      "\u001b[0;36m  File \u001b[0;32m\"<ipython-input-4-65e735e6850a>\"\u001b[0;36m, line \u001b[0;32m1\u001b[0m\n\u001b[0;31m    array a[1:3]=0\u001b[0m\n\u001b[0m          ^\u001b[0m\n\u001b[0;31mSyntaxError\u001b[0m\u001b[0;31m:\u001b[0m invalid syntax\n"
     ]
    }
   ],
   "source": [
    "array a[1:3]=0\n"
   ]
  },
  {
   "cell_type": "code",
   "execution_count": 6,
   "metadata": {},
   "outputs": [],
   "source": [
    "import numpy as np"
   ]
  },
  {
   "cell_type": "code",
   "execution_count": 14,
   "metadata": {},
   "outputs": [
    {
     "data": {
      "text/plain": [
       "array([[0.58490221, 0.2854047 , 0.38186447, 0.23379831, 0.99620945,\n",
       "        0.78856638, 0.62631764, 0.81666081, 0.11135732, 0.05791519],\n",
       "       [0.08381864, 0.13024984, 0.74387903, 0.56889791, 0.8561554 ,\n",
       "        0.2485704 , 0.27416931, 0.0698168 , 0.58145301, 0.8118661 ],\n",
       "       [0.76248928, 0.91731178, 0.76287573, 0.36133741, 0.85969951,\n",
       "        0.99492123, 0.22020689, 0.65673857, 0.26949379, 0.29245502],\n",
       "       [0.48612866, 0.90932279, 0.67992762, 0.10792314, 0.08056915,\n",
       "        0.55166936, 0.39912386, 0.74584627, 0.77254334, 0.30912817],\n",
       "       [0.31799153, 0.89245151, 0.24519621, 0.80549687, 0.07301973,\n",
       "        0.5151703 , 0.03666232, 0.13694738, 0.24102789, 0.94607952],\n",
       "       [0.64822443, 0.24140611, 0.8579055 , 0.60134081, 0.09490164,\n",
       "        0.54304779, 0.80332353, 0.85086778, 0.50996227, 0.32292991],\n",
       "       [0.13800051, 0.3621643 , 0.9725533 , 0.75897746, 0.47704286,\n",
       "        0.30799316, 0.99110822, 0.2290113 , 0.15736447, 0.50200101],\n",
       "       [0.16724153, 0.16495138, 0.06571966, 0.59751664, 0.17798561,\n",
       "        0.8883226 , 0.23588948, 0.5273342 , 0.9090517 , 0.39332918],\n",
       "       [0.53062034, 0.96615409, 0.11032569, 0.18869217, 0.42539769,\n",
       "        0.73366494, 0.23599279, 0.70903434, 0.41110107, 0.66012665],\n",
       "       [0.29148096, 0.88570141, 0.56271019, 0.08041467, 0.87829847,\n",
       "        0.60533819, 0.60302438, 0.67027966, 0.74186425, 0.75035139]])"
      ]
     },
     "execution_count": 14,
     "metadata": {},
     "output_type": "execute_result"
    }
   ],
   "source": [
    "b=np.random.random((10,10))\n",
    "b"
   ]
  },
  {
   "cell_type": "code",
   "execution_count": 15,
   "metadata": {},
   "outputs": [
    {
     "data": {
      "text/plain": [
       "array([[0.58490221, 0.        , 0.        , 0.23379831, 0.99620945,\n",
       "        0.78856638, 0.62631764, 0.81666081, 0.11135732, 0.05791519],\n",
       "       [0.08381864, 0.13024984, 0.74387903, 0.56889791, 0.8561554 ,\n",
       "        0.2485704 , 0.27416931, 0.0698168 , 0.58145301, 0.8118661 ],\n",
       "       [0.76248928, 0.        , 0.        , 0.36133741, 0.85969951,\n",
       "        0.99492123, 0.22020689, 0.65673857, 0.26949379, 0.29245502],\n",
       "       [0.48612866, 0.90932279, 0.67992762, 0.10792314, 0.08056915,\n",
       "        0.55166936, 0.39912386, 0.74584627, 0.77254334, 0.30912817],\n",
       "       [0.31799153, 0.        , 0.        , 0.80549687, 0.07301973,\n",
       "        0.5151703 , 0.03666232, 0.13694738, 0.24102789, 0.94607952],\n",
       "       [0.64822443, 0.24140611, 0.8579055 , 0.60134081, 0.09490164,\n",
       "        0.54304779, 0.80332353, 0.85086778, 0.50996227, 0.32292991],\n",
       "       [0.13800051, 0.        , 0.        , 0.75897746, 0.47704286,\n",
       "        0.30799316, 0.99110822, 0.2290113 , 0.15736447, 0.50200101],\n",
       "       [0.16724153, 0.16495138, 0.06571966, 0.59751664, 0.17798561,\n",
       "        0.8883226 , 0.23588948, 0.5273342 , 0.9090517 , 0.39332918],\n",
       "       [0.53062034, 0.        , 0.        , 0.18869217, 0.42539769,\n",
       "        0.73366494, 0.23599279, 0.70903434, 0.41110107, 0.66012665],\n",
       "       [0.29148096, 0.88570141, 0.56271019, 0.08041467, 0.87829847,\n",
       "        0.60533819, 0.60302438, 0.67027966, 0.74186425, 0.75035139]])"
      ]
     },
     "execution_count": 15,
     "metadata": {},
     "output_type": "execute_result"
    }
   ],
   "source": [
    "b[::2,1:3]=0\n",
    "b"
   ]
  },
  {
   "cell_type": "code",
   "execution_count": 38,
   "metadata": {},
   "outputs": [
    {
     "data": {
      "text/plain": [
       "array([0, 1, 2, 3, 4, 5, 6, 7, 8, 9])"
      ]
     },
     "execution_count": 38,
     "metadata": {},
     "output_type": "execute_result"
    }
   ],
   "source": [
    "\n",
    "v1=np.arange(10)\n",
    "v1"
   ]
  },
  {
   "cell_type": "code",
   "execution_count": 39,
   "metadata": {},
   "outputs": [
    {
     "data": {
      "text/plain": [
       "array([1, 4, 5, 2, 5, 9, 9, 3, 2, 1])"
      ]
     },
     "execution_count": 39,
     "metadata": {},
     "output_type": "execute_result"
    }
   ],
   "source": [
    "v2=np.array([1,4,5,2,5,9,9,3,2,1])\n",
    "v2"
   ]
  },
  {
   "cell_type": "code",
   "execution_count": 20,
   "metadata": {},
   "outputs": [
    {
     "data": {
      "text/plain": [
       "array([ 0.54030231, -0.65364362,  0.28366219, -0.41614684,  0.28366219,\n",
       "       -0.91113026, -0.91113026, -0.9899925 , -0.41614684,  0.54030231])"
      ]
     },
     "execution_count": 20,
     "metadata": {},
     "output_type": "execute_result"
    }
   ],
   "source": [
    "np.cos(v2)"
   ]
  },
  {
   "cell_type": "code",
   "execution_count": 21,
   "metadata": {},
   "outputs": [],
   "source": [
    "import math"
   ]
  },
  {
   "cell_type": "code",
   "execution_count": 23,
   "metadata": {},
   "outputs": [
    {
     "data": {
      "text/plain": [
       "-1.0"
      ]
     },
     "execution_count": 23,
     "metadata": {},
     "output_type": "execute_result"
    }
   ],
   "source": [
    "math.cos(math.pi)"
   ]
  },
  {
   "cell_type": "code",
   "execution_count": 29,
   "metadata": {},
   "outputs": [],
   "source": [
    "def f(a,b):\n",
    "    output = np.empty((a.shape[0],2),dtype=a.dtype)\n",
    "    output[:,0] = a\n",
    "    output[:,1]=b\n",
    "    return output"
   ]
  },
  {
   "cell_type": "code",
   "execution_count": 30,
   "metadata": {},
   "outputs": [
    {
     "data": {
      "text/plain": [
       "array([[ 1, 10],\n",
       "       [ 2, 20],\n",
       "       [ 3, 30]])"
      ]
     },
     "execution_count": 30,
     "metadata": {},
     "output_type": "execute_result"
    }
   ],
   "source": [
    "a=np.array([1,2,3])\n",
    "b=np.array([10,20,30])\n",
    "\n",
    "f(a,b)"
   ]
  },
  {
   "cell_type": "code",
   "execution_count": 31,
   "metadata": {},
   "outputs": [
    {
     "data": {
      "text/plain": [
       "array([[ 1, 10],\n",
       "       [ 2, 20],\n",
       "       [ 3, 30]])"
      ]
     },
     "execution_count": 31,
     "metadata": {},
     "output_type": "execute_result"
    }
   ],
   "source": [
    "np.array([a,b]).T"
   ]
  },
  {
   "cell_type": "code",
   "execution_count": 32,
   "metadata": {},
   "outputs": [
    {
     "data": {
      "text/plain": [
       "array([[0.56899018, 0.88659997, 0.75832174, 0.71611041, 0.28664238,\n",
       "        0.76594737, 0.00771367, 0.64970254, 0.23143261, 0.97088992],\n",
       "       [0.1710884 , 0.5280199 , 0.94048117, 0.58455341, 0.16695401,\n",
       "        0.0197004 , 0.56573841, 0.78114451, 0.1546498 , 0.54791623]])"
      ]
     },
     "execution_count": 32,
     "metadata": {},
     "output_type": "execute_result"
    }
   ],
   "source": [
    "#velocities\n",
    "v=np.random.random((2,10))\n",
    "v"
   ]
  },
  {
   "cell_type": "code",
   "execution_count": 33,
   "metadata": {},
   "outputs": [
    {
     "data": {
      "text/plain": [
       "array([0.59415576, 1.03192273, 1.20812114, 0.92440078, 0.331719  ,\n",
       "       0.76620067, 0.56579099, 1.01602172, 0.27834801, 1.11482708])"
      ]
     },
     "execution_count": 33,
     "metadata": {},
     "output_type": "execute_result"
    }
   ],
   "source": [
    "speed = np.sqrt( v[0,:]**2 + v[1,:]**2 )\n",
    "speed"
   ]
  },
  {
   "cell_type": "code",
   "execution_count": 34,
   "metadata": {},
   "outputs": [
    {
     "data": {
      "text/plain": [
       "array([0.15330051, 0.28034389, 0.77286162, 0.45046927, 0.34280089,\n",
       "       0.72519607, 0.12210139, 0.35716816, 0.93206394, 0.05366177])"
      ]
     },
     "execution_count": 34,
     "metadata": {},
     "output_type": "execute_result"
    }
   ],
   "source": [
    "#masses\n",
    "m=np.random.random((10))\n",
    "m"
   ]
  },
  {
   "cell_type": "code",
   "execution_count": 37,
   "metadata": {},
   "outputs": [
    {
     "data": {
      "text/plain": [
       "(2, 10)"
      ]
     },
     "execution_count": 37,
     "metadata": {},
     "output_type": "execute_result"
    }
   ],
   "source": [
    "momentum=m*v\n",
    "momentum\n",
    "momentum.shape"
   ]
  },
  {
   "cell_type": "code",
   "execution_count": 44,
   "metadata": {},
   "outputs": [
    {
     "data": {
      "text/plain": [
       "array([0, 1, 2, 3, 4, 5, 6, 7, 8, 9])"
      ]
     },
     "execution_count": 44,
     "metadata": {},
     "output_type": "execute_result"
    }
   ],
   "source": [
    "a1=np.arange(10)\n",
    "a1\n"
   ]
  },
  {
   "cell_type": "code",
   "execution_count": 45,
   "metadata": {},
   "outputs": [
    {
     "data": {
      "text/plain": [
       "array([[0, 1, 2, 3, 4],\n",
       "       [5, 6, 7, 8, 9]])"
      ]
     },
     "execution_count": 45,
     "metadata": {},
     "output_type": "execute_result"
    }
   ],
   "source": [
    "a1=a1.reshape((2,5))\n",
    "a1"
   ]
  },
  {
   "cell_type": "code",
   "execution_count": 46,
   "metadata": {},
   "outputs": [
    {
     "data": {
      "text/plain": [
       "array([[[0, 1, 2]],\n",
       "\n",
       "       [[3, 4, 5]]])"
      ]
     },
     "execution_count": 46,
     "metadata": {},
     "output_type": "execute_result"
    }
   ],
   "source": [
    "a=np.arange(6).reshape((2,1,3))\n",
    "a"
   ]
  },
  {
   "cell_type": "code",
   "execution_count": 47,
   "metadata": {},
   "outputs": [
    {
     "data": {
      "text/plain": [
       "array([[0, 1, 2],\n",
       "       [3, 4, 5],\n",
       "       [6, 7, 8]])"
      ]
     },
     "execution_count": 47,
     "metadata": {},
     "output_type": "execute_result"
    }
   ],
   "source": [
    "b=np.arange(9).reshape((3,3))\n",
    "b"
   ]
  },
  {
   "cell_type": "code",
   "execution_count": 48,
   "metadata": {},
   "outputs": [
    {
     "data": {
      "text/plain": [
       "array([[[ 0,  2,  4],\n",
       "        [ 3,  5,  7],\n",
       "        [ 6,  8, 10]],\n",
       "\n",
       "       [[ 3,  5,  7],\n",
       "        [ 6,  8, 10],\n",
       "        [ 9, 11, 13]]])"
      ]
     },
     "execution_count": 48,
     "metadata": {},
     "output_type": "execute_result"
    }
   ],
   "source": [
    "c=a+b\n",
    "c"
   ]
  },
  {
   "cell_type": "code",
   "execution_count": 49,
   "metadata": {},
   "outputs": [
    {
     "data": {
      "text/plain": [
       "(2, 3, 3)"
      ]
     },
     "execution_count": 49,
     "metadata": {},
     "output_type": "execute_result"
    }
   ],
   "source": [
    "c.shape"
   ]
  },
  {
   "cell_type": "code",
   "execution_count": 61,
   "metadata": {},
   "outputs": [
    {
     "ename": "TypeError",
     "evalue": "arange: scalar arguments expected instead of a tuple.",
     "output_type": "error",
     "traceback": [
      "\u001b[0;31m---------------------------------------------------------------------------\u001b[0m",
      "\u001b[0;31mTypeError\u001b[0m                                 Traceback (most recent call last)",
      "\u001b[0;32m<ipython-input-61-324be1533ef4>\u001b[0m in \u001b[0;36m<module>\u001b[0;34m\u001b[0m\n\u001b[0;32m----> 1\u001b[0;31m \u001b[0ma\u001b[0m\u001b[0;34m=\u001b[0m\u001b[0mnp\u001b[0m\u001b[0;34m.\u001b[0m\u001b[0marange\u001b[0m\u001b[0;34m(\u001b[0m\u001b[0;34m(\u001b[0m\u001b[0;36m10\u001b[0m\u001b[0;34m,\u001b[0m\u001b[0;36m1\u001b[0m\u001b[0;34m)\u001b[0m\u001b[0;34m)\u001b[0m\u001b[0;34m\u001b[0m\u001b[0;34m\u001b[0m\u001b[0m\n\u001b[0m\u001b[1;32m      2\u001b[0m \u001b[0mb\u001b[0m\u001b[0;34m=\u001b[0m\u001b[0mnp\u001b[0m\u001b[0;34m.\u001b[0m\u001b[0marray\u001b[0m\u001b[0;34m(\u001b[0m\u001b[0;34m[\u001b[0m\u001b[0;36m10\u001b[0m\u001b[0;34m,\u001b[0m\u001b[0;36m100\u001b[0m\u001b[0;34m,\u001b[0m\u001b[0;36m1000\u001b[0m\u001b[0;34m]\u001b[0m\u001b[0;34m)\u001b[0m\u001b[0;34m\u001b[0m\u001b[0;34m\u001b[0m\u001b[0m\n",
      "\u001b[0;31mTypeError\u001b[0m: arange: scalar arguments expected instead of a tuple."
     ]
    }
   ],
   "source": [
    "a=np.arange((10,1))\n",
    "b=np.array([10,100,1000])\n"
   ]
  },
  {
   "cell_type": "code",
   "execution_count": 62,
   "metadata": {},
   "outputs": [
    {
     "data": {
      "text/plain": [
       "array([0, 1, 2, 3, 4, 5, 6, 7, 8, 9])"
      ]
     },
     "execution_count": 62,
     "metadata": {},
     "output_type": "execute_result"
    }
   ],
   "source": [
    "a"
   ]
  },
  {
   "cell_type": "code",
   "execution_count": 63,
   "metadata": {},
   "outputs": [
    {
     "data": {
      "text/plain": [
       "array([  10,  100, 1000])"
      ]
     },
     "execution_count": 63,
     "metadata": {},
     "output_type": "execute_result"
    }
   ],
   "source": [
    "\n",
    "b"
   ]
  },
  {
   "cell_type": "code",
   "execution_count": 64,
   "metadata": {},
   "outputs": [
    {
     "ename": "ValueError",
     "evalue": "matmul: Input operand 1 has a mismatch in its core dimension 0, with gufunc signature (n?,k),(k,m?)->(n?,m?) (size 3 is different from 10)",
     "output_type": "error",
     "traceback": [
      "\u001b[0;31m---------------------------------------------------------------------------\u001b[0m",
      "\u001b[0;31mValueError\u001b[0m                                Traceback (most recent call last)",
      "\u001b[0;32m<ipython-input-64-0d268d3cfe50>\u001b[0m in \u001b[0;36m<module>\u001b[0;34m\u001b[0m\n\u001b[0;32m----> 1\u001b[0;31m \u001b[0ma\u001b[0m\u001b[0;34m@\u001b[0m\u001b[0mb\u001b[0m\u001b[0;34m.\u001b[0m\u001b[0mT\u001b[0m\u001b[0;34m\u001b[0m\u001b[0;34m\u001b[0m\u001b[0m\n\u001b[0m",
      "\u001b[0;31mValueError\u001b[0m: matmul: Input operand 1 has a mismatch in its core dimension 0, with gufunc signature (n?,k),(k,m?)->(n?,m?) (size 3 is different from 10)"
     ]
    }
   ],
   "source": [
    "a@b.T"
   ]
  },
  {
   "cell_type": "code",
   "execution_count": null,
   "metadata": {},
   "outputs": [],
   "source": []
  }
 ],
 "metadata": {
  "kernelspec": {
   "display_name": "Python 3",
   "language": "python",
   "name": "python3"
  },
  "language_info": {
   "codemirror_mode": {
    "name": "ipython",
    "version": 3
   },
   "file_extension": ".py",
   "mimetype": "text/x-python",
   "name": "python",
   "nbconvert_exporter": "python",
   "pygments_lexer": "ipython3",
   "version": "3.8.5"
  }
 },
 "nbformat": 4,
 "nbformat_minor": 4
}
